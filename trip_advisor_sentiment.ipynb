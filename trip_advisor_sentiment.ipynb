{
  "nbformat": 4,
  "nbformat_minor": 0,
  "metadata": {
    "colab": {
      "name": "trip_advisor_sentiment.ipynb",
      "provenance": [],
      "collapsed_sections": [],
      "toc_visible": true
    },
    "kernelspec": {
      "name": "python3",
      "display_name": "Python 3"
    }
  },
  "cells": [
    {
      "cell_type": "markdown",
      "metadata": {
        "id": "A4BwZwva85_V"
      },
      "source": [
        "# Trip Advisor Sentiment Analysis\r\n",
        "## Part of project completed for Decision Support Systems course at UofT MIE"
      ]
    },
    {
      "cell_type": "code",
      "metadata": {
        "id": "lxmxmL4HtFvB"
      },
      "source": [
        "# Location is Franz Josef, New Zealand\n",
        "# Minimal preprocessing required.  There were duplicated rows which had to be dropped\n",
        "# 28 hotels, average of 213 reviews/hotel and only 8 hotels with <100 reviews The data set was in good condition to start the analysis\n",
        "# Only NULL values were postal codes which were not required"
      ],
      "execution_count": 17,
      "outputs": []
    },
    {
      "cell_type": "code",
      "metadata": {
        "id": "1uXdhZIktKmC",
        "colab": {
          "base_uri": "https://localhost:8080/"
        },
        "outputId": "e728ca34-56bd-426d-faf7-bb4c0cd27bd5"
      },
      "source": [
        "#Plot\n",
        "import matplotlib.pyplot as plt\n",
        "import seaborn as sns\n",
        "%matplotlib inline\n",
        "\n",
        "#Data Packages\n",
        "import math\n",
        "import pandas as pd\n",
        "import numpy as np\n",
        "\n",
        "#Progress bar\n",
        "from tqdm import tqdm\n",
        "\n",
        "#Counter\n",
        "from collections import Counter\n",
        "\n",
        "#Operation\n",
        "import operator\n",
        "\n",
        "#Natural Language Processing Packages\n",
        "import re\n",
        "import nltk\n",
        "\n",
        "## Download Resources\n",
        "nltk.download(\"vader_lexicon\")\n",
        "nltk.download(\"stopwords\")\n",
        "nltk.download(\"averaged_perceptron_tagger\")\n",
        "nltk.download(\"wordnet\")\n",
        "\n",
        "from nltk.sentiment import SentimentAnalyzer\n",
        "from nltk.sentiment.vader import SentimentIntensityAnalyzer\n",
        "from nltk.sentiment.util import *\n",
        "from nltk import tokenize\n",
        "from nltk.corpus import stopwords\n",
        "from nltk.tag import PerceptronTagger\n",
        "from nltk.data import find\n",
        "\n",
        "## Machine Learning\n",
        "import sklearn\n",
        "import sklearn.metrics as metrics\n",
        "\n",
        "## Data Visualization\n",
        "import folium\n",
        "from tabulate import tabulate\n",
        "from scipy.stats.kde import gaussian_kde\n",
        "\n",
        "## Geolocation\n",
        "from geopy.geocoders import Nominatim\n",
        "from geopy.extra.rate_limiter import RateLimiter"
      ],
      "execution_count": 18,
      "outputs": [
        {
          "output_type": "stream",
          "text": [
            "[nltk_data] Downloading package vader_lexicon to /root/nltk_data...\n",
            "[nltk_data]   Package vader_lexicon is already up-to-date!\n",
            "[nltk_data] Downloading package stopwords to /root/nltk_data...\n",
            "[nltk_data]   Package stopwords is already up-to-date!\n",
            "[nltk_data] Downloading package averaged_perceptron_tagger to\n",
            "[nltk_data]     /root/nltk_data...\n",
            "[nltk_data]   Package averaged_perceptron_tagger is already up-to-\n",
            "[nltk_data]       date!\n",
            "[nltk_data] Downloading package wordnet to /root/nltk_data...\n",
            "[nltk_data]   Package wordnet is already up-to-date!\n"
          ],
          "name": "stdout"
        }
      ]
    },
    {
      "cell_type": "code",
      "metadata": {
        "id": "8KgV1cCstQPw"
      },
      "source": [
        "pd.set_option('display.max_columns', None)  \n",
        "pd.set_option('display.expand_frame_repr', False)\n",
        "pd.set_option('max_colwidth', 500)"
      ],
      "execution_count": 19,
      "outputs": []
    },
    {
      "cell_type": "markdown",
      "metadata": {
        "id": "VkPTO0ckkzPh"
      },
      "source": [
        "# Sentiment Analysis and Aggregation"
      ]
    },
    {
      "cell_type": "code",
      "metadata": {
        "id": "RJolOyqEtT4e"
      },
      "source": [
        "# Use vader to evaluated sentiment of reviews\n",
        "def evalSentences(df,cols=['hotelName','reviewCol','vader']):\n",
        "    sentences = df['reviewColumn'].values\n",
        "    hotel_review = df[['hotelName','reviewColumn']].itertuples()\n",
        "    #Instantiate an instance to access SentimentIntensityAnalyzer class\n",
        "    sid = SentimentIntensityAnalyzer()\n",
        "    pd_list = []\n",
        "    for i in hotel_review:\n",
        "        hotel,sentence = i[1],i[2]\n",
        "        ss = sid.polarity_scores(sentence)\n",
        "        pd_list.append((hotel,sentence,ss['compound']))\n",
        "    reviewDf = pd.DataFrame(pd_list)\n",
        "    reviewDf.columns = cols\n",
        "    return reviewDf"
      ],
      "execution_count": 20,
      "outputs": []
    },
    {
      "cell_type": "code",
      "metadata": {
        "id": "g3uoplzdtTlv"
      },
      "source": [
        "columnNames = ['filePath','hotelName','reviewColumn','ratingScore','groundTruth','date_stamp','streetAddress', 'City','Province','postalCode']\n",
        "hotelDF = pd.read_csv('reviews2.csv',header=None,names=columnNames)"
      ],
      "execution_count": 21,
      "outputs": []
    },
    {
      "cell_type": "code",
      "metadata": {
        "colab": {
          "base_uri": "https://localhost:8080/"
        },
        "id": "RHY1_1wgsxWm",
        "outputId": "e5427b9d-14b7-4390-c21a-87e26ae4941d"
      },
      "source": [
        "hotelDF.isna().sum()"
      ],
      "execution_count": 22,
      "outputs": [
        {
          "output_type": "execute_result",
          "data": {
            "text/plain": [
              "filePath            0\n",
              "hotelName           0\n",
              "reviewColumn        0\n",
              "ratingScore         0\n",
              "groundTruth         0\n",
              "date_stamp          0\n",
              "streetAddress       0\n",
              "City                0\n",
              "Province            0\n",
              "postalCode       1814\n",
              "dtype: int64"
            ]
          },
          "metadata": {
            "tags": []
          },
          "execution_count": 22
        }
      ]
    },
    {
      "cell_type": "code",
      "metadata": {
        "id": "QSk-D4ZHtTIK"
      },
      "source": [
        "hotelDF = hotelDF.drop_duplicates().reset_index(drop=True)"
      ],
      "execution_count": 23,
      "outputs": []
    },
    {
      "cell_type": "code",
      "metadata": {
        "id": "KFerHXMdt2Mc",
        "colab": {
          "base_uri": "https://localhost:8080/"
        },
        "outputId": "9dc04487-6f71-4cbe-e194-a228678f62c2"
      },
      "source": [
        "# Evaluate Scraped Data\n",
        "print(\"Number of hotels: %d\" % hotelDF.hotelName.nunique())\n",
        "print(\"Number of ratings per hotel: %.2f\" % hotelDF.groupby(by='hotelName')['ratingScore'].count().mean())\n",
        "print(\"Number of hotels with <100 ratings: %d\" %np.sum(hotelDF.groupby(by='hotelName')['ratingScore'].count()<100))\n",
        "print(\"Number of reviews: %d\" % hotelDF.reviewColumn.nunique())"
      ],
      "execution_count": 24,
      "outputs": [
        {
          "output_type": "stream",
          "text": [
            "Number of hotels: 28\n",
            "Number of ratings per hotel: 213.11\n",
            "Number of hotels with <100 ratings: 8\n",
            "Number of reviews: 5967\n"
          ],
          "name": "stdout"
        }
      ]
    },
    {
      "cell_type": "code",
      "metadata": {
        "id": "gnsPbmfytw6i"
      },
      "source": [
        "reviewDF = evalSentences(hotelDF)"
      ],
      "execution_count": 25,
      "outputs": []
    },
    {
      "cell_type": "code",
      "metadata": {
        "id": "8ZE0o2qMqytD"
      },
      "source": [
        "# Compute average Vader sentiment and average ground truth rating per hotel."
      ],
      "execution_count": 26,
      "outputs": []
    },
    {
      "cell_type": "code",
      "metadata": {
        "id": "vi_3EgQc4u0w"
      },
      "source": [
        "def avg_rating_per_hotel(df):\n",
        "  # average the scores over all hotels, you may need to provide additional filtering\n",
        "  tempDf = df[['hotelName','vader','ratingScore','reviewColumn']]\n",
        "  tempDf.columns = ['hotelName','AverageVader', 'AverageRatingScore','n_reviews']\n",
        "  tempDf = tempDf.groupby('hotelName').agg({'AverageVader':'mean', 'AverageRatingScore':'mean','n_reviews':'count'})\n",
        "  return tempDf"
      ],
      "execution_count": 27,
      "outputs": []
    },
    {
      "cell_type": "code",
      "metadata": {
        "id": "SSKw9vRx8czS"
      },
      "source": [
        "q1a_rating = hotelDF.groupby(by=['hotelName'])['ratingScore'].mean().sort_values(ascending=False)"
      ],
      "execution_count": 28,
      "outputs": []
    },
    {
      "cell_type": "code",
      "metadata": {
        "id": "hws2yteu83gU"
      },
      "source": [
        "q1a_vader = reviewDF.groupby(by=['hotelName'])['vader'].mean().sort_values(ascending=False)"
      ],
      "execution_count": 29,
      "outputs": []
    },
    {
      "cell_type": "code",
      "metadata": {
        "id": "9WcJ4vM7rAqH"
      },
      "source": [
        "# Rank hotels by i) Average Ground Truth Sentiment ii) Average Vader Compound Sentiment Score Show both top-5 and bottom-5 for both ranking methods. "
      ],
      "execution_count": 30,
      "outputs": []
    },
    {
      "cell_type": "code",
      "metadata": {
        "id": "Cck0R5xAtwi_",
        "colab": {
          "base_uri": "https://localhost:8080/"
        },
        "outputId": "48e5263c-64a1-4baa-c072-efa476acecd8"
      },
      "source": [
        "q1a_rating[:5]"
      ],
      "execution_count": 31,
      "outputs": [
        {
          "output_type": "execute_result",
          "data": {
            "text/plain": [
              "hotelName\n",
              "Ribbonwood Retreat Bed and Breakfast    4.894118\n",
              "Holly Homestead B&amp;B                 4.798246\n",
              "Aspen Court Franz Josef                 4.760000\n",
              "Glacier Highway Motel                   4.666667\n",
              "Te Waonui Forest Retreat                4.568627\n",
              "Name: ratingScore, dtype: float64"
            ]
          },
          "metadata": {
            "tags": []
          },
          "execution_count": 31
        }
      ]
    },
    {
      "cell_type": "code",
      "metadata": {
        "id": "sP7vxREfD0sp",
        "colab": {
          "base_uri": "https://localhost:8080/"
        },
        "outputId": "4c8eed45-5858-4e86-9873-24bb26646b2f"
      },
      "source": [
        "q1a_rating[-5:]"
      ],
      "execution_count": 32,
      "outputs": [
        {
          "output_type": "execute_result",
          "data": {
            "text/plain": [
              "hotelName\n",
              "Franz Josef TOP 10 Holiday Park    3.869436\n",
              "Kahere Retreat                     3.600000\n",
              "Chateau Backpackers and Motels     3.244444\n",
              "Hukawai Lodge                      2.800000\n",
              "Forest View Franz Josef            2.000000\n",
              "Name: ratingScore, dtype: float64"
            ]
          },
          "metadata": {
            "tags": []
          },
          "execution_count": 32
        }
      ]
    },
    {
      "cell_type": "code",
      "metadata": {
        "id": "x74axpZ-tv6g",
        "colab": {
          "base_uri": "https://localhost:8080/"
        },
        "outputId": "a67be9bd-2138-4e25-d8bb-d8f00ca836d7"
      },
      "source": [
        "q1a_vader[:5]"
      ],
      "execution_count": 33,
      "outputs": [
        {
          "output_type": "execute_result",
          "data": {
            "text/plain": [
              "hotelName\n",
              "Forest View Franz Josef                 0.994700\n",
              "Ribbonwood Retreat Bed and Breakfast    0.959482\n",
              "Holly Homestead B&amp;B                 0.920522\n",
              "Te Waonui Forest Retreat                0.887034\n",
              "Aspen Court Franz Josef                 0.885141\n",
              "Name: vader, dtype: float64"
            ]
          },
          "metadata": {
            "tags": []
          },
          "execution_count": 33
        }
      ]
    },
    {
      "cell_type": "code",
      "metadata": {
        "id": "CDiDVMTWD1DX",
        "colab": {
          "base_uri": "https://localhost:8080/"
        },
        "outputId": "d59fd9a7-82aa-401b-93b9-d6b36acc1c01"
      },
      "source": [
        "q1a_vader[-5:]"
      ],
      "execution_count": 34,
      "outputs": [
        {
          "output_type": "execute_result",
          "data": {
            "text/plain": [
              "hotelName\n",
              "Glacier Cottages                        0.732380\n",
              "Franz Josef TOP 10 Holiday Park         0.680718\n",
              "Chateau Backpackers and Motels          0.450729\n",
              "Hukawai Lodge                           0.358020\n",
              "Central Franz Josef Cabins And Flats    0.277933\n",
              "Name: vader, dtype: float64"
            ]
          },
          "metadata": {
            "tags": []
          },
          "execution_count": 34
        }
      ]
    },
    {
      "cell_type": "markdown",
      "metadata": {
        "id": "-agmhGyCk439"
      },
      "source": [
        "# Frequency Analysis"
      ]
    },
    {
      "cell_type": "code",
      "metadata": {
        "id": "rCdDQGWO4kFl"
      },
      "source": [
        "def get_stop_words():\n",
        "    stop = set(stopwords.words('english'))\n",
        "    #Add possible Stop Words for Hotel Reviews\n",
        "    stop.add('hotel')\n",
        "    stop.add('room')\n",
        "    stop.add('rooms')\n",
        "    stop.add('stay')\n",
        "    stop.add('staff')\n",
        "    return stop\n",
        "\n",
        "def getTopKWords(df, kwords, reviewColumn='reviewColumn'):\n",
        "    stop = get_stop_words()\n",
        "    counter = Counter()\n",
        "    reviews = df[reviewColumn].values\n",
        "    for review in reviews:\n",
        "            counter.update([word.lower() \n",
        "                            for word \n",
        "                            in re.findall(r'\\w+', review) \n",
        "                            if word.lower() not in stop and len(word) > 2])\n",
        "    topk = counter.most_common(kwords)\n",
        "    return topk"
      ],
      "execution_count": 35,
      "outputs": []
    },
    {
      "cell_type": "code",
      "metadata": {
        "id": "wFnFiI7DlvcL"
      },
      "source": [
        "# rank the top-50 most frequent non-stopwords for (i) positive reviews and (ii) negative with ground truth sentiment\n",
        "top50positive = getTopKWords(hotelDF.loc[hotelDF.groundTruth=='positive'],50)\n",
        "top50negative = getTopKWords(hotelDF.loc[hotelDF.groundTruth=='negative'],50)"
      ],
      "execution_count": 36,
      "outputs": []
    },
    {
      "cell_type": "code",
      "metadata": {
        "colab": {
          "base_uri": "https://localhost:8080/"
        },
        "id": "_puBrM9vXbcY",
        "outputId": "509a5ae2-af11-404b-8f33-b2738fa86de9"
      },
      "source": [
        "top50positive"
      ],
      "execution_count": 37,
      "outputs": [
        {
          "output_type": "execute_result",
          "data": {
            "text/plain": [
              "[('great', 2415),\n",
              " ('clean', 2246),\n",
              " ('good', 2063),\n",
              " ('stayed', 1975),\n",
              " ('franz', 1839),\n",
              " ('well', 1709),\n",
              " ('comfortable', 1624),\n",
              " ('one', 1559),\n",
              " ('would', 1545),\n",
              " ('friendly', 1545),\n",
              " ('josef', 1523),\n",
              " ('nice', 1520),\n",
              " ('place', 1480),\n",
              " ('town', 1448),\n",
              " ('night', 1332),\n",
              " ('helpful', 1300),\n",
              " ('glacier', 1283),\n",
              " ('motel', 1187),\n",
              " ('breakfast', 1054),\n",
              " ('really', 1043),\n",
              " ('also', 1024),\n",
              " ('lovely', 1023),\n",
              " ('location', 1023),\n",
              " ('area', 981),\n",
              " ('recommend', 951),\n",
              " ('bed', 948),\n",
              " ('nthe', 924),\n",
              " ('nights', 911),\n",
              " ('free', 889),\n",
              " ('bathroom', 886),\n",
              " ('small', 861),\n",
              " ('two', 857),\n",
              " ('walk', 852),\n",
              " ('spacious', 840),\n",
              " ('kitchen', 830),\n",
              " ('everything', 808),\n",
              " ('hot', 803),\n",
              " ('restaurant', 782),\n",
              " ('excellent', 736),\n",
              " ('facilities', 716),\n",
              " ('large', 710),\n",
              " ('restaurants', 700),\n",
              " ('could', 695),\n",
              " ('new', 650),\n",
              " ('day', 645),\n",
              " ('service', 629),\n",
              " ('little', 620),\n",
              " ('quiet', 618),\n",
              " ('time', 599),\n",
              " ('view', 592)]"
            ]
          },
          "metadata": {
            "tags": []
          },
          "execution_count": 37
        }
      ]
    },
    {
      "cell_type": "code",
      "metadata": {
        "colab": {
          "base_uri": "https://localhost:8080/"
        },
        "id": "VjTcv8sYXdUh",
        "outputId": "f9cb03f1-b998-41e7-cfe6-c06760ac5d0a"
      },
      "source": [
        "top50negative"
      ],
      "execution_count": 38,
      "outputs": [
        {
          "output_type": "execute_result",
          "data": {
            "text/plain": [
              "[('good', 469),\n",
              " ('one', 466),\n",
              " ('night', 430),\n",
              " ('would', 413),\n",
              " ('stayed', 401),\n",
              " ('clean', 342),\n",
              " ('place', 327),\n",
              " ('small', 311),\n",
              " ('nthe', 280),\n",
              " ('bed', 257),\n",
              " ('motel', 253),\n",
              " ('town', 250),\n",
              " ('bathroom', 237),\n",
              " ('franz', 236),\n",
              " ('could', 230),\n",
              " ('nice', 229),\n",
              " ('well', 220),\n",
              " ('kitchen', 219),\n",
              " ('like', 217),\n",
              " ('get', 210),\n",
              " ('also', 208),\n",
              " ('really', 207),\n",
              " ('two', 202),\n",
              " ('area', 195),\n",
              " ('josef', 193),\n",
              " ('shower', 188),\n",
              " ('breakfast', 186),\n",
              " ('location', 184),\n",
              " ('people', 183),\n",
              " ('glacier', 180),\n",
              " ('reception', 179),\n",
              " ('great', 174),\n",
              " ('nights', 168),\n",
              " ('much', 156),\n",
              " ('time', 154),\n",
              " ('friendly', 151),\n",
              " ('booked', 150),\n",
              " ('quite', 142),\n",
              " ('facilities', 141),\n",
              " ('free', 141),\n",
              " ('comfortable', 140),\n",
              " ('bit', 139),\n",
              " ('hot', 139),\n",
              " ('around', 139),\n",
              " ('however', 139),\n",
              " ('even', 138),\n",
              " ('day', 136),\n",
              " ('restaurant', 136),\n",
              " ('wifi', 128),\n",
              " ('food', 125)]"
            ]
          },
          "metadata": {
            "tags": []
          },
          "execution_count": 38
        }
      ]
    },
    {
      "cell_type": "code",
      "metadata": {
        "id": "As0xKu5l4isL"
      },
      "source": [
        "# What words appear in both positive and negative reviews?\n",
        "top50intersection = set([x[0] for x in top50positive]).intersection(set([x[0] for x in top50negative]))"
      ],
      "execution_count": 39,
      "outputs": []
    },
    {
      "cell_type": "code",
      "metadata": {
        "colab": {
          "base_uri": "https://localhost:8080/"
        },
        "id": "H91vnpwKXhYf",
        "outputId": "0579edcb-f9d1-4d34-db0b-2b8b198e34c5"
      },
      "source": [
        "top50intersection"
      ],
      "execution_count": 40,
      "outputs": [
        {
          "output_type": "execute_result",
          "data": {
            "text/plain": [
              "{'also',\n",
              " 'area',\n",
              " 'bathroom',\n",
              " 'bed',\n",
              " 'breakfast',\n",
              " 'clean',\n",
              " 'comfortable',\n",
              " 'could',\n",
              " 'day',\n",
              " 'facilities',\n",
              " 'franz',\n",
              " 'free',\n",
              " 'friendly',\n",
              " 'glacier',\n",
              " 'good',\n",
              " 'great',\n",
              " 'hot',\n",
              " 'josef',\n",
              " 'kitchen',\n",
              " 'location',\n",
              " 'motel',\n",
              " 'nice',\n",
              " 'night',\n",
              " 'nights',\n",
              " 'nthe',\n",
              " 'one',\n",
              " 'place',\n",
              " 'really',\n",
              " 'restaurant',\n",
              " 'small',\n",
              " 'stayed',\n",
              " 'time',\n",
              " 'town',\n",
              " 'two',\n",
              " 'well',\n",
              " 'would'}"
            ]
          },
          "metadata": {
            "tags": []
          },
          "execution_count": 40
        }
      ]
    },
    {
      "cell_type": "code",
      "metadata": {
        "id": "HTTu0APctlYS"
      },
      "source": [
        "# Repeat this analysis for the top-50 noun phrases "
      ],
      "execution_count": 41,
      "outputs": []
    },
    {
      "cell_type": "code",
      "metadata": {
        "id": "HWEGgjoNVLvR"
      },
      "source": [
        "# to make the results more useable, we clean up the tree results shown above. \n",
        "lemmatizer = nltk.WordNetLemmatizer()\n",
        "stemmer = nltk.stem.porter.PorterStemmer()\n",
        "stopword_list = get_stop_words()\n",
        "\n",
        "# generator, create item one a time\n",
        "def get_terms(tree):\n",
        "    for leaf in leaves(tree):\n",
        "        term = [normalise(w) for w,t in leaf if acceptable_word(w)]\n",
        "        # Phrase only\n",
        "        if len(term)>1:\n",
        "            yield term\n",
        "\n",
        "def get_tuple_terms(tree):\n",
        "    for leaf in leaves(tree):\n",
        "        term_tuple = tuple(x for x in [normalise(w) for w,t in leaf if acceptable_word(w)])\n",
        "        # Phrase only\n",
        "        if len(term_tuple)>1:\n",
        "            yield term_tuple\n",
        "\n",
        "# generator, generate leaves one by one\n",
        "def leaves(tree):\n",
        "    \"\"\"Finds NP (nounphrase) leaf nodes of a chunk tree.\"\"\"\n",
        "    for subtree in tree.subtrees(filter = lambda t: t.label()=='NP' or t.label()=='JJ' or t.label()=='RB'):\n",
        "        yield subtree.leaves()\n",
        "\n",
        "# stemming, lematizing, lower case... \n",
        "def normalise(word,lemmatizer=lemmatizer, stemmer=stemmer):\n",
        "    \"\"\"Normalises words to lowercase and stems and lemmatizes it.\"\"\"\n",
        "    word = word.lower()\n",
        "    word = stemmer.stem(word)\n",
        "    word = lemmatizer.lemmatize(word)\n",
        "    return word\n",
        "\n",
        "# stop-words and length control\n",
        "def acceptable_word(word, stopword_list=stopword_list):\n",
        "    \"\"\"Checks conditions for acceptable word: length, stopword.\"\"\"\n",
        "    accepted = bool(2 <= len(word) <= 40\n",
        "        and word.lower() not in stopword_list)\n",
        "    return accepted\n",
        "\n",
        "# Flatten phrase lists to get tokens for analysis\n",
        "def flatten_phrase_lists(npTokenList):\n",
        "    finalList =[]\n",
        "    for phrase in npTokenList:\n",
        "        token = ''\n",
        "        for word in phrase:\n",
        "            token += word + ' '\n",
        "        finalList.append(token.rstrip())\n",
        "    return finalList\n",
        "\n",
        "grammar = r\"\"\"\n",
        "    NBAR:\n",
        "        {<NN.*|JJ>*<NN.*>}  # Nouns and Adjectives, terminated with Nouns\n",
        "        \n",
        "    NP:\n",
        "        {<NBAR>}\n",
        "        {<NBAR><IN><NBAR>}  # Above, connected with in/of/etc...\n",
        "\"\"\"\n",
        "\n",
        "def getTopKNP(df, k, grammar=grammar, reviewColumn='reviewColumn'):\n",
        "    counter = Counter()\n",
        "    lemmatizer = nltk.WordNetLemmatizer()\n",
        "    stemmer = nltk.stem.porter.PorterStemmer()\n",
        "    tagger = PerceptronTagger()\n",
        "    pos_tag = tagger.tag\n",
        "    chunker = nltk.RegexpParser(grammar)\n",
        "    reviews = df[reviewColumn].values\n",
        "    for review in tqdm(reviews):\n",
        "        taggedToks = pos_tag(re.findall(r'\\w+', review))\n",
        "        tree = chunker.parse(taggedToks)\n",
        "        npTokenList = counter.update([word for word in get_tuple_terms(tree)])\n",
        "    topk = counter.most_common(k)\n",
        "    return topk"
      ],
      "execution_count": 42,
      "outputs": []
    },
    {
      "cell_type": "code",
      "metadata": {
        "id": "Qd7UWef9VV52",
        "colab": {
          "base_uri": "https://localhost:8080/"
        },
        "outputId": "0dec0087-e70b-4691-ba11-e638971db20c"
      },
      "source": [
        "# rank the top-50 most frequent noun phrases\n",
        "top50positiveNP = getTopKNP(hotelDF.loc[hotelDF.groundTruth=='positive'],50)\n",
        "top50negativeNP = getTopKNP(hotelDF.loc[hotelDF.groundTruth=='negative'],50)"
      ],
      "execution_count": 43,
      "outputs": [
        {
          "output_type": "stream",
          "text": [
            "100%|██████████| 5068/5068 [00:27<00:00, 181.14it/s]\n",
            "100%|██████████| 899/899 [00:06<00:00, 138.68it/s]\n"
          ],
          "name": "stderr"
        }
      ]
    },
    {
      "cell_type": "code",
      "metadata": {
        "id": "FIQ9bwjTdgr4"
      },
      "source": [
        "top50intersectionNP = set([x[0] for x in top50positiveNP]).intersection(set([x[0] for x in top50negativeNP]))"
      ],
      "execution_count": 44,
      "outputs": []
    },
    {
      "cell_type": "code",
      "metadata": {
        "id": "jBk8ZO4ExWcY",
        "colab": {
          "base_uri": "https://localhost:8080/"
        },
        "outputId": "0c948e37-42d9-4c1a-ee3d-dfc58677576e"
      },
      "source": [
        "top50positiveNP"
      ],
      "execution_count": 45,
      "outputs": [
        {
          "output_type": "execute_result",
          "data": {
            "text/plain": [
              "[(('franz', 'josef'), 880),\n",
              " (('new', 'zealand'), 230),\n",
              " (('hot', 'pool'), 177),\n",
              " (('franz', 'joseph'), 143),\n",
              " (('great', 'place'), 123),\n",
              " (('rainforest', 'retreat'), 117),\n",
              " (('franz', 'josef', 'glacier'), 113),\n",
              " (('short', 'walk'), 111),\n",
              " (('main', 'road'), 107),\n",
              " (('main', 'street'), 106),\n",
              " (('south', 'island'), 105),\n",
              " (('comfort', 'bed'), 103),\n",
              " (('great', 'locat'), 100),\n",
              " (('aspen', 'court'), 90),\n",
              " (('free', 'wifi'), 87),\n",
              " (('small', 'town'), 86),\n",
              " (('great', 'view'), 84),\n",
              " (('hot', 'tub'), 84),\n",
              " (('front', 'desk'), 77),\n",
              " (('minut', 'walk'), 75),\n",
              " (('te', 'waonui'), 74),\n",
              " (('good', 'valu'), 73),\n",
              " (('spa', 'bath'), 70),\n",
              " (('fox', 'glacier'), 68),\n",
              " (('short', 'drive'), 67),\n",
              " (('west', 'coast'), 64),\n",
              " (('long', 'drive'), 59),\n",
              " (('good', 'locat'), 58),\n",
              " (('good', 'size'), 54),\n",
              " (('heli', 'hike'), 53),\n",
              " (('bedroom', 'apart'), 52),\n",
              " (('warm', 'welcom'), 50),\n",
              " (('bedroom', 'unit'), 48),\n",
              " (('great', 'valu'), 45),\n",
              " (('town', 'centr'), 44),\n",
              " (('nice', 'place'), 44),\n",
              " (('next', 'morn'), 44),\n",
              " (('good', 'place'), 43),\n",
              " (('glow', 'worm'), 43),\n",
              " (('next', 'day'), 43),\n",
              " (('minut', 'drive'), 42),\n",
              " (('nice', 'touch'), 42),\n",
              " (('free', 'breakfast'), 42),\n",
              " (('tree', 'hous'), 42),\n",
              " (('long', 'day'), 40),\n",
              " (('ground', 'floor'), 40),\n",
              " (('free', 'soup'), 40),\n",
              " (('glenfern', 'villa'), 40),\n",
              " (('tree', 'lodg'), 40),\n",
              " (('doubl', 'bed'), 38)]"
            ]
          },
          "metadata": {
            "tags": []
          },
          "execution_count": 45
        }
      ]
    },
    {
      "cell_type": "code",
      "metadata": {
        "colab": {
          "base_uri": "https://localhost:8080/"
        },
        "id": "8zPlWo8AXs5t",
        "outputId": "5bdf384e-2254-4d8c-ba0f-028ff53f295f"
      },
      "source": [
        "top50negativeNP"
      ],
      "execution_count": 46,
      "outputs": [
        {
          "output_type": "execute_result",
          "data": {
            "text/plain": [
              "[(('franz', 'josef'), 108),\n",
              " (('new', 'zealand'), 55),\n",
              " (('rainforest', 'retreat'), 26),\n",
              " (('franz', 'joseph'), 25),\n",
              " (('south', 'island'), 23),\n",
              " (('hot', 'water'), 21),\n",
              " (('good', 'locat'), 21),\n",
              " (('good', 'valu'), 19),\n",
              " (('hot', 'pool'), 19),\n",
              " (('singl', 'bed'), 18),\n",
              " (('second', 'night'), 18),\n",
              " (('franz', 'josef', 'glacier'), 17),\n",
              " (('free', 'wifi'), 16),\n",
              " (('hot', 'tub'), 16),\n",
              " (('main', 'road'), 15),\n",
              " (('front', 'desk'), 14),\n",
              " (('short', 'walk'), 14),\n",
              " (('small', 'town'), 14),\n",
              " (('holiday', 'park'), 13),\n",
              " (('next', 'day'), 13),\n",
              " (('first', 'night'), 13),\n",
              " (('tree', 'lodg'), 13),\n",
              " (('travel', 'agent'), 12),\n",
              " (('fox', 'glacier'), 12),\n",
              " (('next', 'morn'), 12),\n",
              " (('queen', 'bed'), 11),\n",
              " (('power', 'site'), 11),\n",
              " (('good', 'size'), 11),\n",
              " (('car', 'park'), 10),\n",
              " (('park', 'lot'), 10),\n",
              " (('bunk', 'bed'), 9),\n",
              " (('minut', 'walk'), 9),\n",
              " (('doubl', 'bed'), 9),\n",
              " (('good', 'thing'), 9),\n",
              " (('recept', 'area'), 9),\n",
              " (('ground', 'floor'), 9),\n",
              " (('tour', 'group'), 9),\n",
              " (('continent', 'breakfast'), 9),\n",
              " (('bedroom', 'villa'), 9),\n",
              " (('nthe', 'kitchen'), 9),\n",
              " (('westwood', 'lodg'), 9),\n",
              " (('camper', 'van'), 8),\n",
              " (('good', 'view'), 8),\n",
              " (('short', 'drive'), 8),\n",
              " (('west', 'coast'), 8),\n",
              " (('custom', 'servic'), 8),\n",
              " (('commun', 'area'), 8),\n",
              " (('helicopt', 'ride'), 8),\n",
              " (('wi', 'fi'), 8),\n",
              " (('loung', 'area'), 8)]"
            ]
          },
          "metadata": {
            "tags": []
          },
          "execution_count": 46
        }
      ]
    },
    {
      "cell_type": "code",
      "metadata": {
        "id": "19ZGnJIddok7",
        "colab": {
          "base_uri": "https://localhost:8080/"
        },
        "outputId": "aeb91e20-8de0-43e5-fd36-372d3be3f549"
      },
      "source": [
        "# Do any noun phrases appear in both positive and negative reviews?\n",
        "top50intersectionNP"
      ],
      "execution_count": 47,
      "outputs": [
        {
          "output_type": "execute_result",
          "data": {
            "text/plain": [
              "{('doubl', 'bed'),\n",
              " ('fox', 'glacier'),\n",
              " ('franz', 'josef'),\n",
              " ('franz', 'josef', 'glacier'),\n",
              " ('franz', 'joseph'),\n",
              " ('free', 'wifi'),\n",
              " ('front', 'desk'),\n",
              " ('good', 'locat'),\n",
              " ('good', 'size'),\n",
              " ('good', 'valu'),\n",
              " ('ground', 'floor'),\n",
              " ('hot', 'pool'),\n",
              " ('hot', 'tub'),\n",
              " ('main', 'road'),\n",
              " ('minut', 'walk'),\n",
              " ('new', 'zealand'),\n",
              " ('next', 'day'),\n",
              " ('next', 'morn'),\n",
              " ('rainforest', 'retreat'),\n",
              " ('short', 'drive'),\n",
              " ('short', 'walk'),\n",
              " ('small', 'town'),\n",
              " ('south', 'island'),\n",
              " ('tree', 'lodg'),\n",
              " ('west', 'coast')}"
            ]
          },
          "metadata": {
            "tags": []
          },
          "execution_count": 47
        }
      ]
    },
    {
      "cell_type": "code",
      "metadata": {
        "id": "1H7LQaXEVYn4",
        "colab": {
          "base_uri": "https://localhost:8080/"
        },
        "outputId": "27714b88-c4bd-4b76-b4fc-c8672c72ac78"
      },
      "source": [
        "# Identify a noun phrase you did not expect to see in the positive reviews and explain why it may be there.\n",
        "print(\"\"\"None of these were a huge surprise for positive reviews.  'long, drive' and 'long', 'day' are less positive, but more likely indicators of the towns remote location than anything else.\n",
        "Some phrases such as 'front desk' I would associate with negative reviews a little more.  This was in-fact mentioned during lecture as a word ('front') which may have negative associations.\n",
        "For example poor experiences with the front desk.  It could just as easily be referencing positive experiences which the front desk though.\n",
        "\"\"\")"
      ],
      "execution_count": 48,
      "outputs": [
        {
          "output_type": "stream",
          "text": [
            "None of these were a huge surprise for positive reviews.  'long, drive' and 'long', 'day' are less positive, but more likely indicators of the towns remote location than anything else.\n",
            "Some phrases such as 'front desk' I would associate with negative reviews a little more.  This was in-fact mentioned during lecture as a word ('front') which may have negative associations.\n",
            "For example poor experiences with the front desk.  It could just as easily be referencing positive experiences which the front desk though.\n",
            "\n"
          ],
          "name": "stdout"
        }
      ]
    },
    {
      "cell_type": "code",
      "metadata": {
        "id": "udUhhXP93TZX"
      },
      "source": [
        "# Repeat this analysis again for the top-50 noun phrases using a refined grammar pattern"
      ],
      "execution_count": 49,
      "outputs": []
    },
    {
      "cell_type": "code",
      "metadata": {
        "id": "UiWUxe80ehvc"
      },
      "source": [
        "# to avoid redefining functions we will continue to refer to these as 'NP'\n",
        "#grammar_2c = r\"\"\"\n",
        "#    NBAR:\n",
        "#        {<JJ.*|VBD.*|NN.*>*<RB.*|JJ.*>}  # Nouns and Adjectives and Verbs, terminated with Adverbs and Adjectives\n",
        "#    NP:\n",
        "#        {<NBAR>}  # Above\n",
        "#\"\"\""
      ],
      "execution_count": 50,
      "outputs": []
    },
    {
      "cell_type": "code",
      "metadata": {
        "id": "8qWfeXyk-T7J"
      },
      "source": [
        "grammar_2c = r\"\"\"\n",
        "    P1:\n",
        "        {<JJ.*>*<NN.*>}  # Adjective terminated with Noun\n",
        "    P2:\n",
        "        {<VB.*|RB.*>*<RB.*|JJ.*>}\n",
        "    NP:\n",
        "        {<P1>}  # Above\n",
        "        {<P2>}\n",
        "\"\"\""
      ],
      "execution_count": 51,
      "outputs": []
    },
    {
      "cell_type": "code",
      "metadata": {
        "id": "yB8V2pAR9Hxf"
      },
      "source": [
        "# is clean: VB JJ\n",
        "# are rather new: VBP RB JJ\n",
        "# the owner friendly: DT NN RB\n",
        "# really nice cosy: RB JJ JJ\n",
        "# lovely furnishing: RB VBG\n",
        "# lovely view: JJ NN\n",
        "# good place: JJ NN\n",
        "# come back: VB RB\n",
        "# stay here again: VB RB RB"
      ],
      "execution_count": 52,
      "outputs": []
    },
    {
      "cell_type": "code",
      "metadata": {
        "id": "TcJeaemNfGnE",
        "colab": {
          "base_uri": "https://localhost:8080/"
        },
        "outputId": "1e75012d-0a82-4302-d28f-d7464808df35"
      },
      "source": [
        "top50positiveNP2c = getTopKNP(hotelDF.loc[hotelDF.groundTruth=='positive'],50,grammar=grammar_2c)\n",
        "top50negativeNP2c = getTopKNP(hotelDF.loc[hotelDF.groundTruth=='negative'],50,grammar=grammar_2c)\n",
        "top50intersectionNP2c = set([x[0] for x in top50positiveNP2c]).intersection(set([x[0] for x in top50negativeNP2c]))"
      ],
      "execution_count": 53,
      "outputs": [
        {
          "output_type": "stream",
          "text": [
            "100%|██████████| 5068/5068 [00:29<00:00, 170.77it/s]\n",
            "100%|██████████| 899/899 [00:07<00:00, 125.68it/s]\n"
          ],
          "name": "stderr"
        }
      ]
    },
    {
      "cell_type": "code",
      "metadata": {
        "id": "TBsC7WV9EfQA",
        "colab": {
          "base_uri": "https://localhost:8080/"
        },
        "outputId": "ba6501f4-6438-4c98-985d-cc4b92a51605"
      },
      "source": [
        "top50positiveNP2c[:]"
      ],
      "execution_count": 54,
      "outputs": [
        {
          "output_type": "execute_result",
          "data": {
            "text/plain": [
              "[(('hot', 'pool'), 208),\n",
              " (('comfort', 'bed'), 176),\n",
              " (('great', 'place'), 139),\n",
              " (('free', 'wifi'), 128),\n",
              " (('main', 'road'), 121),\n",
              " (('short', 'walk'), 119),\n",
              " (('main', 'street'), 109),\n",
              " (('hot', 'tub'), 106),\n",
              " (('great', 'locat'), 98),\n",
              " (('great', 'view'), 97),\n",
              " (('small', 'town'), 95),\n",
              " (('good', 'valu'), 92),\n",
              " (('next', 'door'), 92),\n",
              " (('come', 'back'), 85),\n",
              " (('good', 'size'), 79),\n",
              " (('spa', 'bath'), 75),\n",
              " (('short', 'drive'), 73),\n",
              " (('good', 'locat'), 73),\n",
              " (('nice', 'touch'), 65),\n",
              " (('long', 'drive'), 64),\n",
              " (('warm', 'welcom'), 60),\n",
              " (('nice', 'place'), 59),\n",
              " (('best', 'place'), 58),\n",
              " (('next', 'day'), 56),\n",
              " (('stay', 'longer'), 55),\n",
              " (('free', 'breakfast'), 55),\n",
              " (('local', 'restaur'), 54),\n",
              " (('next', 'morn'), 53),\n",
              " (('singl', 'bed'), 52),\n",
              " (('free', 'soup'), 52),\n",
              " (('great', 'valu'), 50),\n",
              " (('electr', 'blanket'), 49),\n",
              " (('good', 'place'), 47),\n",
              " (('high', 'standard'), 47),\n",
              " (('spotlessli', 'clean'), 46),\n",
              " (('beauti', 'view'), 45),\n",
              " (('make', 'sure'), 45),\n",
              " (('long', 'day'), 45),\n",
              " (('extrem', 'help'), 44),\n",
              " (('easi', 'walk'), 43),\n",
              " (('hot', 'spring'), 43),\n",
              " (('doubl', 'bed'), 41),\n",
              " (('go', 'back'), 41),\n",
              " (('much', 'troubl'), 40),\n",
              " (('small', 'kitchen'), 40),\n",
              " (('arriv', 'late'), 40),\n",
              " (('small', 'kitchenett'), 39),\n",
              " (('full', 'kitchen'), 39),\n",
              " (('feel', 'welcom'), 39),\n",
              " (('good', 'qualiti'), 39)]"
            ]
          },
          "metadata": {
            "tags": []
          },
          "execution_count": 54
        }
      ]
    },
    {
      "cell_type": "code",
      "metadata": {
        "colab": {
          "base_uri": "https://localhost:8080/"
        },
        "id": "IkVLARcstmO8",
        "outputId": "79847d59-bd8c-4d06-9357-45f88a4b8248"
      },
      "source": [
        "top50negativeNP2c"
      ],
      "execution_count": 55,
      "outputs": [
        {
          "output_type": "execute_result",
          "data": {
            "text/plain": [
              "[(('good', 'locat'), 26),\n",
              " (('hot', 'water'), 24),\n",
              " (('free', 'wifi'), 20),\n",
              " (('good', 'valu'), 20),\n",
              " (('hot', 'pool'), 19),\n",
              " (('hot', 'tub'), 19),\n",
              " (('second', 'night'), 19),\n",
              " (('singl', 'bed'), 18),\n",
              " (('work', 'well'), 18),\n",
              " (('next', 'door'), 18),\n",
              " (('main', 'road'), 17),\n",
              " (('next', 'day'), 16),\n",
              " (('short', 'walk'), 15),\n",
              " (('good', 'size'), 15),\n",
              " (('small', 'town'), 14),\n",
              " (('next', 'morn'), 14),\n",
              " (('first', 'night'), 13),\n",
              " (('queen', 'bed'), 12),\n",
              " (('go', 'back'), 12),\n",
              " (('comfort', 'bed'), 11),\n",
              " (('continent', 'breakfast'), 11),\n",
              " (('en', 'suit'), 10),\n",
              " (('doubl', 'bed'), 10),\n",
              " (('come', 'back'), 10),\n",
              " (('nthe', 'kitchen'), 10),\n",
              " (('hot', 'plate'), 9),\n",
              " (('arriv', 'late'), 9),\n",
              " (('short', 'drive'), 9),\n",
              " (('power', 'site'), 9),\n",
              " (('look', 'forward'), 9),\n",
              " (('good', 'thing'), 9),\n",
              " (('free', 'soup'), 9),\n",
              " (('common', 'area'), 9),\n",
              " (('expect', 'much'), 9),\n",
              " (('good', 'view'), 8),\n",
              " (('nice', 'place'), 8),\n",
              " (('commun', 'kitchen'), 8),\n",
              " (('good', 'night'), 8),\n",
              " (('last', 'night'), 8),\n",
              " (('commun', 'area'), 8),\n",
              " (('free', 'breakfast'), 8),\n",
              " (('cold', 'water'), 7),\n",
              " (('young', 'backpack'), 7),\n",
              " (('much', 'better'), 7),\n",
              " (('quit', 'small'), 7),\n",
              " (('first', 'time'), 7),\n",
              " (('nice', 'touch'), 7),\n",
              " (('came', 'back'), 7),\n",
              " (('long', 'drive'), 7),\n",
              " (('plu', 'side'), 7)]"
            ]
          },
          "metadata": {
            "tags": []
          },
          "execution_count": 55
        }
      ]
    },
    {
      "cell_type": "code",
      "metadata": {
        "id": "F9OnnjdDgp-T",
        "colab": {
          "base_uri": "https://localhost:8080/"
        },
        "outputId": "8790ef29-016c-46eb-abe7-7eb7a7e767aa"
      },
      "source": [
        "top50intersectionNP2c"
      ],
      "execution_count": 56,
      "outputs": [
        {
          "output_type": "execute_result",
          "data": {
            "text/plain": [
              "{('arriv', 'late'),\n",
              " ('come', 'back'),\n",
              " ('comfort', 'bed'),\n",
              " ('doubl', 'bed'),\n",
              " ('free', 'breakfast'),\n",
              " ('free', 'soup'),\n",
              " ('free', 'wifi'),\n",
              " ('go', 'back'),\n",
              " ('good', 'locat'),\n",
              " ('good', 'size'),\n",
              " ('good', 'valu'),\n",
              " ('hot', 'pool'),\n",
              " ('hot', 'tub'),\n",
              " ('long', 'drive'),\n",
              " ('main', 'road'),\n",
              " ('next', 'day'),\n",
              " ('next', 'door'),\n",
              " ('next', 'morn'),\n",
              " ('nice', 'place'),\n",
              " ('nice', 'touch'),\n",
              " ('short', 'drive'),\n",
              " ('short', 'walk'),\n",
              " ('singl', 'bed'),\n",
              " ('small', 'town')}"
            ]
          },
          "metadata": {
            "tags": []
          },
          "execution_count": 56
        }
      ]
    },
    {
      "cell_type": "code",
      "metadata": {
        "id": "anrRu1qnjFcR",
        "colab": {
          "base_uri": "https://localhost:8080/"
        },
        "outputId": "edcbdf0c-cd6d-4b1c-e863-417b6579ac3a"
      },
      "source": [
        "print(\"\"\"\n",
        "the new pattern is more effective for sentiment analysis. For several reasons:\n",
        "1. We change {<NN.*|JJ>*<NN.*>} to {<JJ.*>*<NN.*>}.  \n",
        "- This is significant for cutting down on location specific terms such as 'Franz Josef' which are nouns terminated with nouns\n",
        "- Noun heavy phrases are less descriptive and more location specific.  We want to focus on descriptions of nouns\n",
        "\n",
        "2. We add {<VB.*|RB.*>*<RB.*|JJ.*>}\n",
        "- The original grammar completely ignored verbs and adverbs which contain tons of descriptive words indicative of sentiment\n",
        "- Certain phrases were selected from the reviews which I considered good indicators of sentiment\n",
        "- These phrases and their corresponding POS tags include:\n",
        "\n",
        "# is clean: VB JJ\n",
        "# are rather new: VBP RB JJ\n",
        "# the owner friendly: DT NN RB\n",
        "# really nice cosy: RB JJ JJ\n",
        "# lovely furnishing: RB VBG\n",
        "# lovely view: JJ NN\n",
        "# good place: JJ NN\n",
        "# come back: VB RB\n",
        "# stay here again: VB RB RB\n",
        "\n",
        "- We can notice lots of adverb and verb combinations here.  The second grammar rule we included is capable of picking up every phrase I identified as significant\n",
        "\n",
        "3. We cut down on longer phrases by removing {<NBAR><IN><NBAR>}\n",
        "- if our phrases are too complex and long the phrase counts across reviews will be very small\n",
        "- we still require high phrase counts across reviews for effective analysis\n",
        "\n",
        "For these reasons I consider the new grammar more effective for sentiment analysis\n",
        "\"\"\")"
      ],
      "execution_count": 57,
      "outputs": [
        {
          "output_type": "stream",
          "text": [
            "\n",
            "the new pattern is more effective for sentiment analysis. For several reasons:\n",
            "1. We change {<NN.*|JJ>*<NN.*>} to {<JJ.*>*<NN.*>}.  \n",
            "- This is significant for cutting down on location specific terms such as 'Franz Josef' which are nouns terminated with nouns\n",
            "- Noun heavy phrases are less descriptive and more location specific.  We want to focus on descriptions of nouns\n",
            "\n",
            "2. We add {<VB.*|RB.*>*<RB.*|JJ.*>}\n",
            "- The original grammar completely ignored verbs and adverbs which contain tons of descriptive words indicative of sentiment\n",
            "- Certain phrases were selected from the reviews which I considered good indicators of sentiment\n",
            "- These phrases and their corresponding POS tags include:\n",
            "\n",
            "# is clean: VB JJ\n",
            "# are rather new: VBP RB JJ\n",
            "# the owner friendly: DT NN RB\n",
            "# really nice cosy: RB JJ JJ\n",
            "# lovely furnishing: RB VBG\n",
            "# lovely view: JJ NN\n",
            "# good place: JJ NN\n",
            "# come back: VB RB\n",
            "# stay here again: VB RB RB\n",
            "\n",
            "- We can notice lots of adverb and verb combinations here.  The second grammar rule we included is capable of picking up every phrase I identified as significant\n",
            "\n",
            "3. We cut down on longer phrases by removing {<NBAR><IN><NBAR>}\n",
            "- if our phrases are too complex and long the phrase counts across reviews will be very small\n",
            "- we still require high phrase counts across reviews for effective analysis\n",
            "\n",
            "For these reasons I consider the new grammar more effective for sentiment analysis\n",
            "\n"
          ],
          "name": "stdout"
        }
      ]
    },
    {
      "cell_type": "markdown",
      "metadata": {
        "id": "Eora4dICk6JF"
      },
      "source": [
        "# Mutual Information"
      ]
    },
    {
      "cell_type": "code",
      "metadata": {
        "id": "G1CYde9JqCUd"
      },
      "source": [
        "def dataFrameTransformation(hotelDf, reviewDF, topk, reviewColumn='reviewCol'):\n",
        "    reviews = reviewDF[reviewColumn].values\n",
        "    \n",
        "    #Find out if a particular review has the word from topk list\n",
        "    freqReview = []\n",
        "    for i in range(len(reviews)):\n",
        "        tempCounter = Counter([word.lower() for word in re.findall(r'\\w+',reviews[i])])\n",
        "        topkinReview = [1 if tempCounter[word] > 0 else 0 for (word,wordCount) in topk]\n",
        "        freqReview.append(topkinReview)\n",
        "        \n",
        "        \n",
        "    #Prepare freqReviewDf\n",
        "    freqReviewDf = pd.DataFrame(freqReview)\n",
        "    dfName = []\n",
        "    for c in topk:\n",
        "        dfName.append(c[0])\n",
        "    freqReviewDf.columns = dfName\n",
        "    finalreviewDf = reviewDF.join(freqReviewDf)\n",
        "    finaldf = hotelDf[['hotelName','ratingScore','groundTruth']].join(finalreviewDf.drop('hotelName',axis=1))\n",
        "    return finaldf\n"
      ],
      "execution_count": 58,
      "outputs": []
    },
    {
      "cell_type": "code",
      "metadata": {
        "id": "JulEyxPMqCD-"
      },
      "source": [
        "topk = getTopKWords(reviewDF, 500, reviewColumn='reviewCol')\n",
        "finaldf = dataFrameTransformation(hotelDF, reviewDF, topk)"
      ],
      "execution_count": 59,
      "outputs": []
    },
    {
      "cell_type": "code",
      "metadata": {
        "id": "sVFBaSU4FMrt"
      },
      "source": [
        "# get Top K mutual information terms from the dataframe\n",
        "def getMI(topk, df, label_column='groundTruth'):\n",
        "    miScore = []\n",
        "    for word in topk:\n",
        "        miScore.append([word[0]]+[metrics.mutual_info_score(df[label_column], df[word[0]])])\n",
        "    miScoredf = pd.DataFrame(miScore).sort_values(1,ascending=0)\n",
        "    miScoredf.columns = ['Word','MI Score']\n",
        "    return miScoredf"
      ],
      "execution_count": 60,
      "outputs": []
    },
    {
      "cell_type": "code",
      "metadata": {
        "id": "n9f06PJ0g4Cp"
      },
      "source": [
        "# Use mutual information (MI) with ground truth sentiment to rank the top-50 most sentiment-bearing non-stopwords in the review collection."
      ],
      "execution_count": 61,
      "outputs": []
    },
    {
      "cell_type": "code",
      "metadata": {
        "id": "aAqY3AwoFXoH"
      },
      "source": [
        "miScoredf = getMI(topk, finaldf)"
      ],
      "execution_count": 62,
      "outputs": []
    },
    {
      "cell_type": "code",
      "metadata": {
        "id": "QeoBUwNbFX4i",
        "colab": {
          "base_uri": "https://localhost:8080/",
          "height": 1000
        },
        "outputId": "9f0b8de0-deb5-4f99-e0b5-6d4c0eedacef"
      },
      "source": [
        "# Which words get the highest MI values? Does this make sense?\n",
        "miScoredf.head(50)"
      ],
      "execution_count": 63,
      "outputs": [
        {
          "output_type": "execute_result",
          "data": {
            "text/html": [
              "<div>\n",
              "<style scoped>\n",
              "    .dataframe tbody tr th:only-of-type {\n",
              "        vertical-align: middle;\n",
              "    }\n",
              "\n",
              "    .dataframe tbody tr th {\n",
              "        vertical-align: top;\n",
              "    }\n",
              "\n",
              "    .dataframe thead th {\n",
              "        text-align: right;\n",
              "    }\n",
              "</style>\n",
              "<table border=\"1\" class=\"dataframe\">\n",
              "  <thead>\n",
              "    <tr style=\"text-align: right;\">\n",
              "      <th></th>\n",
              "      <th>Word</th>\n",
              "      <th>MI Score</th>\n",
              "    </tr>\n",
              "  </thead>\n",
              "  <tbody>\n",
              "    <tr>\n",
              "      <th>0</th>\n",
              "      <td>great</td>\n",
              "      <td>0.012601</td>\n",
              "    </tr>\n",
              "    <tr>\n",
              "      <th>96</th>\n",
              "      <td>people</td>\n",
              "      <td>0.010834</td>\n",
              "    </tr>\n",
              "    <tr>\n",
              "      <th>90</th>\n",
              "      <td>highly</td>\n",
              "      <td>0.009818</td>\n",
              "    </tr>\n",
              "    <tr>\n",
              "      <th>253</th>\n",
              "      <td>expensive</td>\n",
              "      <td>0.009815</td>\n",
              "    </tr>\n",
              "    <tr>\n",
              "      <th>231</th>\n",
              "      <td>basic</td>\n",
              "      <td>0.009735</td>\n",
              "    </tr>\n",
              "    <tr>\n",
              "      <th>45</th>\n",
              "      <td>excellent</td>\n",
              "      <td>0.009673</td>\n",
              "    </tr>\n",
              "    <tr>\n",
              "      <th>451</th>\n",
              "      <td>poor</td>\n",
              "      <td>0.009656</td>\n",
              "    </tr>\n",
              "    <tr>\n",
              "      <th>9</th>\n",
              "      <td>comfortable</td>\n",
              "      <td>0.009049</td>\n",
              "    </tr>\n",
              "    <tr>\n",
              "      <th>484</th>\n",
              "      <td>average</td>\n",
              "      <td>0.008236</td>\n",
              "    </tr>\n",
              "    <tr>\n",
              "      <th>337</th>\n",
              "      <td>old</td>\n",
              "      <td>0.007405</td>\n",
              "    </tr>\n",
              "    <tr>\n",
              "      <th>359</th>\n",
              "      <td>paid</td>\n",
              "      <td>0.007298</td>\n",
              "    </tr>\n",
              "    <tr>\n",
              "      <th>364</th>\n",
              "      <td>work</td>\n",
              "      <td>0.007179</td>\n",
              "    </tr>\n",
              "    <tr>\n",
              "      <th>330</th>\n",
              "      <td>said</td>\n",
              "      <td>0.007043</td>\n",
              "    </tr>\n",
              "    <tr>\n",
              "      <th>27</th>\n",
              "      <td>lovely</td>\n",
              "      <td>0.006937</td>\n",
              "    </tr>\n",
              "    <tr>\n",
              "      <th>17</th>\n",
              "      <td>helpful</td>\n",
              "      <td>0.006824</td>\n",
              "    </tr>\n",
              "    <tr>\n",
              "      <th>50</th>\n",
              "      <td>get</td>\n",
              "      <td>0.006273</td>\n",
              "    </tr>\n",
              "    <tr>\n",
              "      <th>357</th>\n",
              "      <td>backpackers</td>\n",
              "      <td>0.006255</td>\n",
              "    </tr>\n",
              "    <tr>\n",
              "      <th>25</th>\n",
              "      <td>small</td>\n",
              "      <td>0.006234</td>\n",
              "    </tr>\n",
              "    <tr>\n",
              "      <th>14</th>\n",
              "      <td>friendly</td>\n",
              "      <td>0.006085</td>\n",
              "    </tr>\n",
              "    <tr>\n",
              "      <th>101</th>\n",
              "      <td>loved</td>\n",
              "      <td>0.006047</td>\n",
              "    </tr>\n",
              "    <tr>\n",
              "      <th>126</th>\n",
              "      <td>however</td>\n",
              "      <td>0.005651</td>\n",
              "    </tr>\n",
              "    <tr>\n",
              "      <th>133</th>\n",
              "      <td>price</td>\n",
              "      <td>0.005648</td>\n",
              "    </tr>\n",
              "    <tr>\n",
              "      <th>384</th>\n",
              "      <td>noisy</td>\n",
              "      <td>0.005578</td>\n",
              "    </tr>\n",
              "    <tr>\n",
              "      <th>142</th>\n",
              "      <td>better</td>\n",
              "      <td>0.005491</td>\n",
              "    </tr>\n",
              "    <tr>\n",
              "      <th>262</th>\n",
              "      <td>told</td>\n",
              "      <td>0.005472</td>\n",
              "    </tr>\n",
              "    <tr>\n",
              "      <th>170</th>\n",
              "      <td>water</td>\n",
              "      <td>0.005416</td>\n",
              "    </tr>\n",
              "    <tr>\n",
              "      <th>225</th>\n",
              "      <td>another</td>\n",
              "      <td>0.005389</td>\n",
              "    </tr>\n",
              "    <tr>\n",
              "      <th>38</th>\n",
              "      <td>spacious</td>\n",
              "      <td>0.005352</td>\n",
              "    </tr>\n",
              "    <tr>\n",
              "      <th>363</th>\n",
              "      <td>rather</td>\n",
              "      <td>0.005231</td>\n",
              "    </tr>\n",
              "    <tr>\n",
              "      <th>367</th>\n",
              "      <td>toilet</td>\n",
              "      <td>0.005231</td>\n",
              "    </tr>\n",
              "    <tr>\n",
              "      <th>338</th>\n",
              "      <td>bad</td>\n",
              "      <td>0.004899</td>\n",
              "    </tr>\n",
              "    <tr>\n",
              "      <th>302</th>\n",
              "      <td>seemed</td>\n",
              "      <td>0.004888</td>\n",
              "    </tr>\n",
              "    <tr>\n",
              "      <th>10</th>\n",
              "      <td>night</td>\n",
              "      <td>0.004692</td>\n",
              "    </tr>\n",
              "    <tr>\n",
              "      <th>44</th>\n",
              "      <td>like</td>\n",
              "      <td>0.004681</td>\n",
              "    </tr>\n",
              "    <tr>\n",
              "      <th>57</th>\n",
              "      <td>shower</td>\n",
              "      <td>0.004635</td>\n",
              "    </tr>\n",
              "    <tr>\n",
              "      <th>70</th>\n",
              "      <td>modern</td>\n",
              "      <td>0.004549</td>\n",
              "    </tr>\n",
              "    <tr>\n",
              "      <th>31</th>\n",
              "      <td>recommend</td>\n",
              "      <td>0.004414</td>\n",
              "    </tr>\n",
              "    <tr>\n",
              "      <th>130</th>\n",
              "      <td>perfect</td>\n",
              "      <td>0.004396</td>\n",
              "    </tr>\n",
              "    <tr>\n",
              "      <th>449</th>\n",
              "      <td>disappointed</td>\n",
              "      <td>0.004315</td>\n",
              "    </tr>\n",
              "    <tr>\n",
              "      <th>421</th>\n",
              "      <td>pay</td>\n",
              "      <td>0.004249</td>\n",
              "    </tr>\n",
              "    <tr>\n",
              "      <th>115</th>\n",
              "      <td>amazing</td>\n",
              "      <td>0.004156</td>\n",
              "    </tr>\n",
              "    <tr>\n",
              "      <th>59</th>\n",
              "      <td>warm</td>\n",
              "      <td>0.003782</td>\n",
              "    </tr>\n",
              "    <tr>\n",
              "      <th>136</th>\n",
              "      <td>fantastic</td>\n",
              "      <td>0.003707</td>\n",
              "    </tr>\n",
              "    <tr>\n",
              "      <th>72</th>\n",
              "      <td>definitely</td>\n",
              "      <td>0.003683</td>\n",
              "    </tr>\n",
              "    <tr>\n",
              "      <th>211</th>\n",
              "      <td>open</td>\n",
              "      <td>0.003576</td>\n",
              "    </tr>\n",
              "    <tr>\n",
              "      <th>165</th>\n",
              "      <td>hosts</td>\n",
              "      <td>0.003567</td>\n",
              "    </tr>\n",
              "    <tr>\n",
              "      <th>179</th>\n",
              "      <td>lot</td>\n",
              "      <td>0.003559</td>\n",
              "    </tr>\n",
              "    <tr>\n",
              "      <th>452</th>\n",
              "      <td>expected</td>\n",
              "      <td>0.003543</td>\n",
              "    </tr>\n",
              "    <tr>\n",
              "      <th>108</th>\n",
              "      <td>park</td>\n",
              "      <td>0.003518</td>\n",
              "    </tr>\n",
              "    <tr>\n",
              "      <th>245</th>\n",
              "      <td>sleep</td>\n",
              "      <td>0.003494</td>\n",
              "    </tr>\n",
              "  </tbody>\n",
              "</table>\n",
              "</div>"
            ],
            "text/plain": [
              "             Word  MI Score\n",
              "0           great  0.012601\n",
              "96         people  0.010834\n",
              "90         highly  0.009818\n",
              "253     expensive  0.009815\n",
              "231         basic  0.009735\n",
              "45      excellent  0.009673\n",
              "451          poor  0.009656\n",
              "9     comfortable  0.009049\n",
              "484       average  0.008236\n",
              "337           old  0.007405\n",
              "359          paid  0.007298\n",
              "364          work  0.007179\n",
              "330          said  0.007043\n",
              "27         lovely  0.006937\n",
              "17        helpful  0.006824\n",
              "50            get  0.006273\n",
              "357   backpackers  0.006255\n",
              "25          small  0.006234\n",
              "14       friendly  0.006085\n",
              "101         loved  0.006047\n",
              "126       however  0.005651\n",
              "133         price  0.005648\n",
              "384         noisy  0.005578\n",
              "142        better  0.005491\n",
              "262          told  0.005472\n",
              "170         water  0.005416\n",
              "225       another  0.005389\n",
              "38       spacious  0.005352\n",
              "363        rather  0.005231\n",
              "367        toilet  0.005231\n",
              "338           bad  0.004899\n",
              "302        seemed  0.004888\n",
              "10          night  0.004692\n",
              "44           like  0.004681\n",
              "57         shower  0.004635\n",
              "70         modern  0.004549\n",
              "31      recommend  0.004414\n",
              "130       perfect  0.004396\n",
              "449  disappointed  0.004315\n",
              "421           pay  0.004249\n",
              "115       amazing  0.004156\n",
              "59           warm  0.003782\n",
              "136     fantastic  0.003707\n",
              "72     definitely  0.003683\n",
              "211          open  0.003576\n",
              "165         hosts  0.003567\n",
              "179           lot  0.003559\n",
              "452      expected  0.003543\n",
              "108          park  0.003518\n",
              "245         sleep  0.003494"
            ]
          },
          "metadata": {
            "tags": []
          },
          "execution_count": 63
        }
      ]
    },
    {
      "cell_type": "code",
      "metadata": {
        "id": "MeJFXahjipBN"
      },
      "source": [
        "# Repeat this analysis for the top-50 noun phrases"
      ],
      "execution_count": 64,
      "outputs": []
    },
    {
      "cell_type": "code",
      "metadata": {
        "id": "pBsbZhwKHOdx"
      },
      "source": [
        "def dataFrameTransformationNP(hotelDf, reviewDF, topk, grammar=grammar):\n",
        "    counter = Counter()\n",
        "    lemmatizer = nltk.WordNetLemmatizer()\n",
        "    stemmer = nltk.stem.porter.PorterStemmer()\n",
        "    tagger = PerceptronTagger()\n",
        "    pos_tag = tagger.tag\n",
        "    chunker = nltk.RegexpParser(grammar)\n",
        "    reviews = reviewDF['reviewCol'].values\n",
        "    \n",
        "    #Find out if a particular review has the word from topk list\n",
        "    freqReview = []\n",
        "    for i in range(len(reviews)):\n",
        "        taggedToks = pos_tag(re.findall(r'\\w+', reviews[i]))\n",
        "        tree = chunker.parse(taggedToks)\n",
        "        tempCounter = Counter([phrase for phrase in get_tuple_terms(tree)])\n",
        "        topkinReview = [1 if tempCounter[phrase] > 0 else 0 for (phrase,phraseCount) in topk]\n",
        "        freqReview.append(topkinReview)\n",
        "           \n",
        "    #Prepare freqReviewDf\n",
        "    freqReviewDf = pd.DataFrame(freqReview)\n",
        "    dfName = []\n",
        "    for c in topk:\n",
        "        dfName.append(c[0])\n",
        "    freqReviewDf.columns = dfName\n",
        "    finalreviewDf = reviewDF.join(freqReviewDf)\n",
        "    finaldf = hotelDf[['hotelName','ratingScore','groundTruth']].join(finalreviewDf.drop('hotelName',axis=1))\n",
        "    return finaldf"
      ],
      "execution_count": 65,
      "outputs": []
    },
    {
      "cell_type": "code",
      "metadata": {
        "id": "Ph61BDDvF7ce",
        "colab": {
          "base_uri": "https://localhost:8080/"
        },
        "outputId": "6244a069-9d99-4d53-c53e-c66dadc8bce2"
      },
      "source": [
        "topKNP = getTopKNP(reviewDF, 500, grammar=grammar_2c, reviewColumn='reviewCol')"
      ],
      "execution_count": 66,
      "outputs": [
        {
          "output_type": "stream",
          "text": [
            "100%|██████████| 5967/5967 [00:42<00:00, 140.79it/s]\n"
          ],
          "name": "stderr"
        }
      ]
    },
    {
      "cell_type": "code",
      "metadata": {
        "id": "WXNCS63CF77k"
      },
      "source": [
        "finaldfNP = dataFrameTransformationNP(hotelDF,reviewDF,topKNP,grammar=grammar_2c)"
      ],
      "execution_count": 67,
      "outputs": []
    },
    {
      "cell_type": "code",
      "metadata": {
        "id": "9RV9-2x3JCbU"
      },
      "source": [
        "miScoredfNP = getMI(topKNP, finaldfNP)"
      ],
      "execution_count": 68,
      "outputs": []
    },
    {
      "cell_type": "code",
      "metadata": {
        "id": "OghGhlo_JEj8",
        "colab": {
          "base_uri": "https://localhost:8080/",
          "height": 1000
        },
        "outputId": "ca12dca0-a3a5-460f-d691-b5851e5d5d33"
      },
      "source": [
        "# Which noun phrases get the highest MI values?\n",
        "miScoredfNP.head(50)"
      ],
      "execution_count": 69,
      "outputs": [
        {
          "output_type": "execute_result",
          "data": {
            "text/html": [
              "<div>\n",
              "<style scoped>\n",
              "    .dataframe tbody tr th:only-of-type {\n",
              "        vertical-align: middle;\n",
              "    }\n",
              "\n",
              "    .dataframe tbody tr th {\n",
              "        vertical-align: top;\n",
              "    }\n",
              "\n",
              "    .dataframe thead th {\n",
              "        text-align: right;\n",
              "    }\n",
              "</style>\n",
              "<table border=\"1\" class=\"dataframe\">\n",
              "  <thead>\n",
              "    <tr style=\"text-align: right;\">\n",
              "      <th></th>\n",
              "      <th>Word</th>\n",
              "      <th>MI Score</th>\n",
              "    </tr>\n",
              "  </thead>\n",
              "  <tbody>\n",
              "    <tr>\n",
              "      <th>3</th>\n",
              "      <td>(great, place)</td>\n",
              "      <td>0.002332</td>\n",
              "    </tr>\n",
              "    <tr>\n",
              "      <th>469</th>\n",
              "      <td>(cold, water)</td>\n",
              "      <td>0.001746</td>\n",
              "    </tr>\n",
              "    <tr>\n",
              "      <th>31</th>\n",
              "      <td>(stay, longer)</td>\n",
              "      <td>0.001513</td>\n",
              "    </tr>\n",
              "    <tr>\n",
              "      <th>416</th>\n",
              "      <td>(young, backpack)</td>\n",
              "      <td>0.001480</td>\n",
              "    </tr>\n",
              "    <tr>\n",
              "      <th>12</th>\n",
              "      <td>(great, locat)</td>\n",
              "      <td>0.001387</td>\n",
              "    </tr>\n",
              "    <tr>\n",
              "      <th>26</th>\n",
              "      <td>(hot, water)</td>\n",
              "      <td>0.001377</td>\n",
              "    </tr>\n",
              "    <tr>\n",
              "      <th>213</th>\n",
              "      <td>(expect, much)</td>\n",
              "      <td>0.001332</td>\n",
              "    </tr>\n",
              "    <tr>\n",
              "      <th>1</th>\n",
              "      <td>(comfort, bed)</td>\n",
              "      <td>0.001328</td>\n",
              "    </tr>\n",
              "    <tr>\n",
              "      <th>46</th>\n",
              "      <td>(beauti, view)</td>\n",
              "      <td>0.001237</td>\n",
              "    </tr>\n",
              "    <tr>\n",
              "      <th>47</th>\n",
              "      <td>(extrem, help)</td>\n",
              "      <td>0.001209</td>\n",
              "    </tr>\n",
              "    <tr>\n",
              "      <th>44</th>\n",
              "      <td>(second, night)</td>\n",
              "      <td>0.001170</td>\n",
              "    </tr>\n",
              "    <tr>\n",
              "      <th>17</th>\n",
              "      <td>(spa, bath)</td>\n",
              "      <td>0.001119</td>\n",
              "    </tr>\n",
              "    <tr>\n",
              "      <th>7</th>\n",
              "      <td>(main, street)</td>\n",
              "      <td>0.001106</td>\n",
              "    </tr>\n",
              "    <tr>\n",
              "      <th>139</th>\n",
              "      <td>(nthe, kitchen)</td>\n",
              "      <td>0.001043</td>\n",
              "    </tr>\n",
              "    <tr>\n",
              "      <th>28</th>\n",
              "      <td>(best, place)</td>\n",
              "      <td>0.001037</td>\n",
              "    </tr>\n",
              "    <tr>\n",
              "      <th>411</th>\n",
              "      <td>(better, valu)</td>\n",
              "      <td>0.001028</td>\n",
              "    </tr>\n",
              "    <tr>\n",
              "      <th>65</th>\n",
              "      <td>(love, place)</td>\n",
              "      <td>0.001016</td>\n",
              "    </tr>\n",
              "    <tr>\n",
              "      <th>214</th>\n",
              "      <td>(commun, area)</td>\n",
              "      <td>0.000996</td>\n",
              "    </tr>\n",
              "    <tr>\n",
              "      <th>73</th>\n",
              "      <td>(first, night)</td>\n",
              "      <td>0.000970</td>\n",
              "    </tr>\n",
              "    <tr>\n",
              "      <th>62</th>\n",
              "      <td>(first, class)</td>\n",
              "      <td>0.000961</td>\n",
              "    </tr>\n",
              "    <tr>\n",
              "      <th>74</th>\n",
              "      <td>(extrem, comfort)</td>\n",
              "      <td>0.000906</td>\n",
              "    </tr>\n",
              "    <tr>\n",
              "      <th>264</th>\n",
              "      <td>(came, back)</td>\n",
              "      <td>0.000884</td>\n",
              "    </tr>\n",
              "    <tr>\n",
              "      <th>92</th>\n",
              "      <td>(queen, bed)</td>\n",
              "      <td>0.000828</td>\n",
              "    </tr>\n",
              "    <tr>\n",
              "      <th>25</th>\n",
              "      <td>(warm, welcom)</td>\n",
              "      <td>0.000802</td>\n",
              "    </tr>\n",
              "    <tr>\n",
              "      <th>320</th>\n",
              "      <td>(shower, head)</td>\n",
              "      <td>0.000772</td>\n",
              "    </tr>\n",
              "    <tr>\n",
              "      <th>0</th>\n",
              "      <td>(hot, pool)</td>\n",
              "      <td>0.000769</td>\n",
              "    </tr>\n",
              "    <tr>\n",
              "      <th>11</th>\n",
              "      <td>(great, view)</td>\n",
              "      <td>0.000734</td>\n",
              "    </tr>\n",
              "    <tr>\n",
              "      <th>97</th>\n",
              "      <td>(separ, bedroom)</td>\n",
              "      <td>0.000713</td>\n",
              "    </tr>\n",
              "    <tr>\n",
              "      <th>99</th>\n",
              "      <td>(great, servic)</td>\n",
              "      <td>0.000713</td>\n",
              "    </tr>\n",
              "    <tr>\n",
              "      <th>13</th>\n",
              "      <td>(good, locat)</td>\n",
              "      <td>0.000706</td>\n",
              "    </tr>\n",
              "    <tr>\n",
              "      <th>106</th>\n",
              "      <td>(perfect, place)</td>\n",
              "      <td>0.000686</td>\n",
              "    </tr>\n",
              "    <tr>\n",
              "      <th>116</th>\n",
              "      <td>(hot, plate)</td>\n",
              "      <td>0.000661</td>\n",
              "    </tr>\n",
              "    <tr>\n",
              "      <th>115</th>\n",
              "      <td>(good, thing)</td>\n",
              "      <td>0.000661</td>\n",
              "    </tr>\n",
              "    <tr>\n",
              "      <th>441</th>\n",
              "      <td>(open, plan)</td>\n",
              "      <td>0.000661</td>\n",
              "    </tr>\n",
              "    <tr>\n",
              "      <th>109</th>\n",
              "      <td>(great, host)</td>\n",
              "      <td>0.000658</td>\n",
              "    </tr>\n",
              "    <tr>\n",
              "      <th>110</th>\n",
              "      <td>(great, experi)</td>\n",
              "      <td>0.000658</td>\n",
              "    </tr>\n",
              "    <tr>\n",
              "      <th>30</th>\n",
              "      <td>(work, well)</td>\n",
              "      <td>0.000655</td>\n",
              "    </tr>\n",
              "    <tr>\n",
              "      <th>123</th>\n",
              "      <td>(local, area)</td>\n",
              "      <td>0.000631</td>\n",
              "    </tr>\n",
              "    <tr>\n",
              "      <th>145</th>\n",
              "      <td>(commun, kitchen)</td>\n",
              "      <td>0.000613</td>\n",
              "    </tr>\n",
              "    <tr>\n",
              "      <th>54</th>\n",
              "      <td>(much, troubl)</td>\n",
              "      <td>0.000604</td>\n",
              "    </tr>\n",
              "    <tr>\n",
              "      <th>55</th>\n",
              "      <td>(full, kitchen)</td>\n",
              "      <td>0.000604</td>\n",
              "    </tr>\n",
              "    <tr>\n",
              "      <th>129</th>\n",
              "      <td>(spaciou, clean)</td>\n",
              "      <td>0.000603</td>\n",
              "    </tr>\n",
              "    <tr>\n",
              "      <th>135</th>\n",
              "      <td>(extrem, clean)</td>\n",
              "      <td>0.000603</td>\n",
              "    </tr>\n",
              "    <tr>\n",
              "      <th>57</th>\n",
              "      <td>(good, qualiti)</td>\n",
              "      <td>0.000580</td>\n",
              "    </tr>\n",
              "    <tr>\n",
              "      <th>141</th>\n",
              "      <td>(friendli, welcom)</td>\n",
              "      <td>0.000576</td>\n",
              "    </tr>\n",
              "    <tr>\n",
              "      <th>178</th>\n",
              "      <td>(much, better)</td>\n",
              "      <td>0.000566</td>\n",
              "    </tr>\n",
              "    <tr>\n",
              "      <th>476</th>\n",
              "      <td>(pay, extra)</td>\n",
              "      <td>0.000551</td>\n",
              "    </tr>\n",
              "    <tr>\n",
              "      <th>140</th>\n",
              "      <td>(hot, towel)</td>\n",
              "      <td>0.000548</td>\n",
              "    </tr>\n",
              "    <tr>\n",
              "      <th>147</th>\n",
              "      <td>(friendli, help)</td>\n",
              "      <td>0.000548</td>\n",
              "    </tr>\n",
              "    <tr>\n",
              "      <th>150</th>\n",
              "      <td>(great, restaur)</td>\n",
              "      <td>0.000548</td>\n",
              "    </tr>\n",
              "  </tbody>\n",
              "</table>\n",
              "</div>"
            ],
            "text/plain": [
              "                   Word  MI Score\n",
              "3        (great, place)  0.002332\n",
              "469       (cold, water)  0.001746\n",
              "31       (stay, longer)  0.001513\n",
              "416   (young, backpack)  0.001480\n",
              "12       (great, locat)  0.001387\n",
              "26         (hot, water)  0.001377\n",
              "213      (expect, much)  0.001332\n",
              "1        (comfort, bed)  0.001328\n",
              "46       (beauti, view)  0.001237\n",
              "47       (extrem, help)  0.001209\n",
              "44      (second, night)  0.001170\n",
              "17          (spa, bath)  0.001119\n",
              "7        (main, street)  0.001106\n",
              "139     (nthe, kitchen)  0.001043\n",
              "28        (best, place)  0.001037\n",
              "411      (better, valu)  0.001028\n",
              "65        (love, place)  0.001016\n",
              "214      (commun, area)  0.000996\n",
              "73       (first, night)  0.000970\n",
              "62       (first, class)  0.000961\n",
              "74    (extrem, comfort)  0.000906\n",
              "264        (came, back)  0.000884\n",
              "92         (queen, bed)  0.000828\n",
              "25       (warm, welcom)  0.000802\n",
              "320      (shower, head)  0.000772\n",
              "0           (hot, pool)  0.000769\n",
              "11        (great, view)  0.000734\n",
              "97     (separ, bedroom)  0.000713\n",
              "99      (great, servic)  0.000713\n",
              "13        (good, locat)  0.000706\n",
              "106    (perfect, place)  0.000686\n",
              "116        (hot, plate)  0.000661\n",
              "115       (good, thing)  0.000661\n",
              "441        (open, plan)  0.000661\n",
              "109       (great, host)  0.000658\n",
              "110     (great, experi)  0.000658\n",
              "30         (work, well)  0.000655\n",
              "123       (local, area)  0.000631\n",
              "145   (commun, kitchen)  0.000613\n",
              "54       (much, troubl)  0.000604\n",
              "55      (full, kitchen)  0.000604\n",
              "129    (spaciou, clean)  0.000603\n",
              "135     (extrem, clean)  0.000603\n",
              "57      (good, qualiti)  0.000580\n",
              "141  (friendli, welcom)  0.000576\n",
              "178      (much, better)  0.000566\n",
              "476        (pay, extra)  0.000551\n",
              "140        (hot, towel)  0.000548\n",
              "147    (friendli, help)  0.000548\n",
              "150    (great, restaur)  0.000548"
            ]
          },
          "metadata": {
            "tags": []
          },
          "execution_count": 69
        }
      ]
    },
    {
      "cell_type": "code",
      "metadata": {
        "id": "iBJVOPhxJXE0",
        "colab": {
          "base_uri": "https://localhost:8080/"
        },
        "outputId": "49deb3c1-d492-4816-bcfd-4b8871c9612f"
      },
      "source": [
        "print(\"\"\" A couple phrases stood out.  \n",
        "- 'cold, water'\n",
        "- 'hot, water'\n",
        "- 'young, backpack'\n",
        "\n",
        "It sounds like the hotels should invest in bigger water heaters! Small towns in New Zealand often rely on small water tanks for heating and it is not uncommon to run out of hot water in the showers.  \n",
        "Hotels could also do a better job separating backpackers from other guests if possible.\n",
        "\"\"\")"
      ],
      "execution_count": 70,
      "outputs": [
        {
          "output_type": "stream",
          "text": [
            " A couple phrases stood out.  \n",
            "- 'cold, water'\n",
            "- 'hot, water'\n",
            "- 'young, backpack'\n",
            "\n",
            "It sounds like the hotels should invest in bigger water heaters! Small towns in New Zealand often rely on small water tanks for heating and it is not uncommon to run out of hot water in the showers.  \n",
            "Hotels could also do a better job separating backpackers from other guests if possible.\n",
            "\n"
          ],
          "name": "stdout"
        }
      ]
    },
    {
      "cell_type": "markdown",
      "metadata": {
        "id": "RW1Bgtq3k9to"
      },
      "source": [
        "# Pointwise Mutual Information"
      ]
    },
    {
      "cell_type": "code",
      "metadata": {
        "id": "uaJE8cEBJ7Wt"
      },
      "source": [
        "# Compute \\for all terms and all possible labels\n",
        "def pmiForAllCal(df, topk_word, gt_sentiment, label_column='groundTruth'):\n",
        "    #Try calculate all the pmi for top k and store them into one pmidf dataframe\n",
        "    \n",
        "    index = [x[0] for x in topk_word]\n",
        "    pmiDf = pd.DataFrame(index=index, columns=['pmi'])\n",
        "\n",
        "    for (word, count) in tqdm(topk_word):\n",
        "        pmiDf.at[word, 'pmi'] = pmiCalc(df,word,gt_sentiment,label_column)\n",
        "    \n",
        "    return pmiDf\n",
        "\n",
        "\n",
        "def pmiCalc(df, word, gt_sentiment, label_column='groundTruth'):\n",
        "    \n",
        "    N = df.shape[0]\n",
        "    \n",
        "    px = sum(df[label_column]==gt_sentiment)\n",
        "    py = sum(df[word]==True)\n",
        "    pxy = len(df[(df[label_column]==gt_sentiment) & (df[word]==True)])\n",
        "\n",
        "    if pxy==0:#Log 0 cannot happen\n",
        "        pmi = math.log((pxy+0.0001)*N/(px*py))\n",
        "    else:\n",
        "        pmi = math.log(pxy*N/(px*py))\n",
        "    return pmi"
      ],
      "execution_count": 71,
      "outputs": []
    },
    {
      "cell_type": "code",
      "metadata": {
        "id": "sFkHqwc_jnPK"
      },
      "source": [
        "# calculate the top-50 words according to Pointwise Mutual In-formation (PMI) of the word occurring with \n",
        "# (i) positive reviews and (ii) negative reviews."
      ],
      "execution_count": 72,
      "outputs": []
    },
    {
      "cell_type": "code",
      "metadata": {
        "id": "IwmbHy-iJ7Oq",
        "colab": {
          "base_uri": "https://localhost:8080/"
        },
        "outputId": "6797f9d4-adff-4116-fc03-0366ea875ac3"
      },
      "source": [
        "pmiposdf = pmiForAllCal(finaldf,topk,'positive')\n",
        "pminegdf = pmiForAllCal(finaldf,topk,'negative')"
      ],
      "execution_count": 73,
      "outputs": [
        {
          "output_type": "stream",
          "text": [
            "100%|██████████| 500/500 [00:02<00:00, 214.92it/s]\n",
            "100%|██████████| 500/500 [00:01<00:00, 273.50it/s]\n"
          ],
          "name": "stderr"
        }
      ]
    },
    {
      "cell_type": "code",
      "metadata": {
        "id": "PQG9iMaJLjvJ",
        "colab": {
          "base_uri": "https://localhost:8080/",
          "height": 1000
        },
        "outputId": "d54cc467-2077-4b25-fb15-71c461986079"
      },
      "source": [
        "pmiposdf.sort_values(by='pmi',ascending=False).head(50)"
      ],
      "execution_count": 74,
      "outputs": [
        {
          "output_type": "execute_result",
          "data": {
            "text/html": [
              "<div>\n",
              "<style scoped>\n",
              "    .dataframe tbody tr th:only-of-type {\n",
              "        vertical-align: middle;\n",
              "    }\n",
              "\n",
              "    .dataframe tbody tr th {\n",
              "        vertical-align: top;\n",
              "    }\n",
              "\n",
              "    .dataframe thead th {\n",
              "        text-align: right;\n",
              "    }\n",
              "</style>\n",
              "<table border=\"1\" class=\"dataframe\">\n",
              "  <thead>\n",
              "    <tr style=\"text-align: right;\">\n",
              "      <th></th>\n",
              "      <th>pmi</th>\n",
              "    </tr>\n",
              "  </thead>\n",
              "  <tbody>\n",
              "    <tr>\n",
              "      <th>thanks</th>\n",
              "      <td>0.151393</td>\n",
              "    </tr>\n",
              "    <tr>\n",
              "      <th>bernie</th>\n",
              "      <td>0.151177</td>\n",
              "    </tr>\n",
              "    <tr>\n",
              "      <th>highly</th>\n",
              "      <td>0.150559</td>\n",
              "    </tr>\n",
              "    <tr>\n",
              "      <th>delicious</th>\n",
              "      <td>0.146677</td>\n",
              "    </tr>\n",
              "    <tr>\n",
              "      <th>julie</th>\n",
              "      <td>0.144949</td>\n",
              "    </tr>\n",
              "    <tr>\n",
              "      <th>cozy</th>\n",
              "      <td>0.144067</td>\n",
              "    </tr>\n",
              "    <tr>\n",
              "      <th>peaceful</th>\n",
              "      <td>0.143495</td>\n",
              "    </tr>\n",
              "    <tr>\n",
              "      <th>ribbonwood</th>\n",
              "      <td>0.141792</td>\n",
              "    </tr>\n",
              "    <tr>\n",
              "      <th>attractions</th>\n",
              "      <td>0.139768</td>\n",
              "    </tr>\n",
              "    <tr>\n",
              "      <th>loved</th>\n",
              "      <td>0.135623</td>\n",
              "    </tr>\n",
              "    <tr>\n",
              "      <th>excellent</th>\n",
              "      <td>0.132668</td>\n",
              "    </tr>\n",
              "    <tr>\n",
              "      <th>deluxe</th>\n",
              "      <td>0.13121</td>\n",
              "    </tr>\n",
              "    <tr>\n",
              "      <th>hosts</th>\n",
              "      <td>0.129775</td>\n",
              "    </tr>\n",
              "    <tr>\n",
              "      <th>perfect</th>\n",
              "      <td>0.128</td>\n",
              "    </tr>\n",
              "    <tr>\n",
              "      <th>court</th>\n",
              "      <td>0.125319</td>\n",
              "    </tr>\n",
              "    <tr>\n",
              "      <th>aspen</th>\n",
              "      <td>0.125077</td>\n",
              "    </tr>\n",
              "    <tr>\n",
              "      <th>thank</th>\n",
              "      <td>0.123558</td>\n",
              "    </tr>\n",
              "    <tr>\n",
              "      <th>amazing</th>\n",
              "      <td>0.12352</td>\n",
              "    </tr>\n",
              "    <tr>\n",
              "      <th>fantastic</th>\n",
              "      <td>0.122731</td>\n",
              "    </tr>\n",
              "    <tr>\n",
              "      <th>recommended</th>\n",
              "      <td>0.121546</td>\n",
              "    </tr>\n",
              "    <tr>\n",
              "      <th>host</th>\n",
              "      <td>0.120434</td>\n",
              "    </tr>\n",
              "    <tr>\n",
              "      <th>relaxing</th>\n",
              "      <td>0.120126</td>\n",
              "    </tr>\n",
              "    <tr>\n",
              "      <th>heated</th>\n",
              "      <td>0.119948</td>\n",
              "    </tr>\n",
              "    <tr>\n",
              "      <th>welcoming</th>\n",
              "      <td>0.119379</td>\n",
              "    </tr>\n",
              "    <tr>\n",
              "      <th>handy</th>\n",
              "      <td>0.119238</td>\n",
              "    </tr>\n",
              "    <tr>\n",
              "      <th>advice</th>\n",
              "      <td>0.116778</td>\n",
              "    </tr>\n",
              "    <tr>\n",
              "      <th>welcome</th>\n",
              "      <td>0.110094</td>\n",
              "    </tr>\n",
              "    <tr>\n",
              "      <th>activities</th>\n",
              "      <td>0.108694</td>\n",
              "    </tr>\n",
              "    <tr>\n",
              "      <th>cosy</th>\n",
              "      <td>0.108573</td>\n",
              "    </tr>\n",
              "    <tr>\n",
              "      <th>modern</th>\n",
              "      <td>0.107993</td>\n",
              "    </tr>\n",
              "    <tr>\n",
              "      <th>wonderful</th>\n",
              "      <td>0.107647</td>\n",
              "    </tr>\n",
              "    <tr>\n",
              "      <th>glow</th>\n",
              "      <td>0.107418</td>\n",
              "    </tr>\n",
              "    <tr>\n",
              "      <th>enjoyed</th>\n",
              "      <td>0.104249</td>\n",
              "    </tr>\n",
              "    <tr>\n",
              "      <th>lovely</th>\n",
              "      <td>0.103174</td>\n",
              "    </tr>\n",
              "    <tr>\n",
              "      <th>comfy</th>\n",
              "      <td>0.100778</td>\n",
              "    </tr>\n",
              "    <tr>\n",
              "      <th>longer</th>\n",
              "      <td>0.100778</td>\n",
              "    </tr>\n",
              "    <tr>\n",
              "      <th>cottage</th>\n",
              "      <td>0.0987595</td>\n",
              "    </tr>\n",
              "    <tr>\n",
              "      <th>definitely</th>\n",
              "      <td>0.0986367</td>\n",
              "    </tr>\n",
              "    <tr>\n",
              "      <th>situated</th>\n",
              "      <td>0.0982344</td>\n",
              "    </tr>\n",
              "    <tr>\n",
              "      <th>warm</th>\n",
              "      <td>0.0970249</td>\n",
              "    </tr>\n",
              "    <tr>\n",
              "      <th>bonus</th>\n",
              "      <td>0.0966067</td>\n",
              "    </tr>\n",
              "    <tr>\n",
              "      <th>touch</th>\n",
              "      <td>0.0963585</td>\n",
              "    </tr>\n",
              "    <tr>\n",
              "      <th>beautiful</th>\n",
              "      <td>0.0949984</td>\n",
              "    </tr>\n",
              "    <tr>\n",
              "      <th>awesome</th>\n",
              "      <td>0.0948302</td>\n",
              "    </tr>\n",
              "    <tr>\n",
              "      <th>upgraded</th>\n",
              "      <td>0.0943052</td>\n",
              "    </tr>\n",
              "    <tr>\n",
              "      <th>fireplace</th>\n",
              "      <td>0.0937047</td>\n",
              "    </tr>\n",
              "    <tr>\n",
              "      <th>waonui</th>\n",
              "      <td>0.0936181</td>\n",
              "    </tr>\n",
              "    <tr>\n",
              "      <th>home</th>\n",
              "      <td>0.0930938</td>\n",
              "    </tr>\n",
              "    <tr>\n",
              "      <th>spacious</th>\n",
              "      <td>0.0923463</td>\n",
              "    </tr>\n",
              "    <tr>\n",
              "      <th>wish</th>\n",
              "      <td>0.0921217</td>\n",
              "    </tr>\n",
              "  </tbody>\n",
              "</table>\n",
              "</div>"
            ],
            "text/plain": [
              "                   pmi\n",
              "thanks        0.151393\n",
              "bernie        0.151177\n",
              "highly        0.150559\n",
              "delicious     0.146677\n",
              "julie         0.144949\n",
              "cozy          0.144067\n",
              "peaceful      0.143495\n",
              "ribbonwood    0.141792\n",
              "attractions   0.139768\n",
              "loved         0.135623\n",
              "excellent     0.132668\n",
              "deluxe         0.13121\n",
              "hosts         0.129775\n",
              "perfect          0.128\n",
              "court         0.125319\n",
              "aspen         0.125077\n",
              "thank         0.123558\n",
              "amazing        0.12352\n",
              "fantastic     0.122731\n",
              "recommended   0.121546\n",
              "host          0.120434\n",
              "relaxing      0.120126\n",
              "heated        0.119948\n",
              "welcoming     0.119379\n",
              "handy         0.119238\n",
              "advice        0.116778\n",
              "welcome       0.110094\n",
              "activities    0.108694\n",
              "cosy          0.108573\n",
              "modern        0.107993\n",
              "wonderful     0.107647\n",
              "glow          0.107418\n",
              "enjoyed       0.104249\n",
              "lovely        0.103174\n",
              "comfy         0.100778\n",
              "longer        0.100778\n",
              "cottage      0.0987595\n",
              "definitely   0.0986367\n",
              "situated     0.0982344\n",
              "warm         0.0970249\n",
              "bonus        0.0966067\n",
              "touch        0.0963585\n",
              "beautiful    0.0949984\n",
              "awesome      0.0948302\n",
              "upgraded     0.0943052\n",
              "fireplace    0.0937047\n",
              "waonui       0.0936181\n",
              "home         0.0930938\n",
              "spacious     0.0923463\n",
              "wish         0.0921217"
            ]
          },
          "metadata": {
            "tags": []
          },
          "execution_count": 74
        }
      ]
    },
    {
      "cell_type": "code",
      "metadata": {
        "id": "3FCGXFTiLmBk",
        "colab": {
          "base_uri": "https://localhost:8080/",
          "height": 1000
        },
        "outputId": "90071843-c563-4008-ea65-c77472d90f31"
      },
      "source": [
        "pminegdf.sort_values(by='pmi',ascending=False).head(50)"
      ],
      "execution_count": 75,
      "outputs": [
        {
          "output_type": "execute_result",
          "data": {
            "text/html": [
              "<div>\n",
              "<style scoped>\n",
              "    .dataframe tbody tr th:only-of-type {\n",
              "        vertical-align: middle;\n",
              "    }\n",
              "\n",
              "    .dataframe tbody tr th {\n",
              "        vertical-align: top;\n",
              "    }\n",
              "\n",
              "    .dataframe thead th {\n",
              "        text-align: right;\n",
              "    }\n",
              "</style>\n",
              "<table border=\"1\" class=\"dataframe\">\n",
              "  <thead>\n",
              "    <tr style=\"text-align: right;\">\n",
              "      <th></th>\n",
              "      <th>pmi</th>\n",
              "    </tr>\n",
              "  </thead>\n",
              "  <tbody>\n",
              "    <tr>\n",
              "      <th>poor</th>\n",
              "      <td>1.37877</td>\n",
              "    </tr>\n",
              "    <tr>\n",
              "      <th>average</th>\n",
              "      <td>1.32586</td>\n",
              "    </tr>\n",
              "    <tr>\n",
              "      <th>paid</th>\n",
              "      <td>1.16972</td>\n",
              "    </tr>\n",
              "    <tr>\n",
              "      <th>work</th>\n",
              "      <td>1.16926</td>\n",
              "    </tr>\n",
              "    <tr>\n",
              "      <th>old</th>\n",
              "      <td>1.15009</td>\n",
              "    </tr>\n",
              "    <tr>\n",
              "      <th>expensive</th>\n",
              "      <td>1.13201</td>\n",
              "    </tr>\n",
              "    <tr>\n",
              "      <th>said</th>\n",
              "      <td>1.12862</td>\n",
              "    </tr>\n",
              "    <tr>\n",
              "      <th>basic</th>\n",
              "      <td>1.127</td>\n",
              "    </tr>\n",
              "    <tr>\n",
              "      <th>backpackers</th>\n",
              "      <td>1.11458</td>\n",
              "    </tr>\n",
              "    <tr>\n",
              "      <th>noisy</th>\n",
              "      <td>1.06708</td>\n",
              "    </tr>\n",
              "    <tr>\n",
              "      <th>toilet</th>\n",
              "      <td>1.06057</td>\n",
              "    </tr>\n",
              "    <tr>\n",
              "      <th>rather</th>\n",
              "      <td>1.06057</td>\n",
              "    </tr>\n",
              "    <tr>\n",
              "      <th>disappointed</th>\n",
              "      <td>1.0396</td>\n",
              "    </tr>\n",
              "    <tr>\n",
              "      <th>pay</th>\n",
              "      <td>1.03095</td>\n",
              "    </tr>\n",
              "    <tr>\n",
              "      <th>told</th>\n",
              "      <td>1.00097</td>\n",
              "    </tr>\n",
              "    <tr>\n",
              "      <th>per</th>\n",
              "      <td>0.991168</td>\n",
              "    </tr>\n",
              "    <tr>\n",
              "      <th>bad</th>\n",
              "      <td>0.976426</td>\n",
              "    </tr>\n",
              "    <tr>\n",
              "      <th>expected</th>\n",
              "      <td>0.967768</td>\n",
              "    </tr>\n",
              "    <tr>\n",
              "      <th>seemed</th>\n",
              "      <td>0.957849</td>\n",
              "    </tr>\n",
              "    <tr>\n",
              "      <th>limited</th>\n",
              "      <td>0.917718</td>\n",
              "    </tr>\n",
              "    <tr>\n",
              "      <th>people</th>\n",
              "      <td>0.901937</td>\n",
              "    </tr>\n",
              "    <tr>\n",
              "      <th>else</th>\n",
              "      <td>0.896383</td>\n",
              "    </tr>\n",
              "    <tr>\n",
              "      <th>another</th>\n",
              "      <td>0.896188</td>\n",
              "    </tr>\n",
              "    <tr>\n",
              "      <th>young</th>\n",
              "      <td>0.881116</td>\n",
              "    </tr>\n",
              "    <tr>\n",
              "      <th>asked</th>\n",
              "      <td>0.877486</td>\n",
              "    </tr>\n",
              "    <tr>\n",
              "      <th>water</th>\n",
              "      <td>0.873478</td>\n",
              "    </tr>\n",
              "    <tr>\n",
              "      <th>building</th>\n",
              "      <td>0.854729</td>\n",
              "    </tr>\n",
              "    <tr>\n",
              "      <th>number</th>\n",
              "      <td>0.849674</td>\n",
              "    </tr>\n",
              "    <tr>\n",
              "      <th>probably</th>\n",
              "      <td>0.849164</td>\n",
              "    </tr>\n",
              "    <tr>\n",
              "      <th>try</th>\n",
              "      <td>0.832944</td>\n",
              "    </tr>\n",
              "    <tr>\n",
              "      <th>hours</th>\n",
              "      <td>0.810105</td>\n",
              "    </tr>\n",
              "    <tr>\n",
              "      <th>put</th>\n",
              "      <td>0.802268</td>\n",
              "    </tr>\n",
              "    <tr>\n",
              "      <th>cost</th>\n",
              "      <td>0.794104</td>\n",
              "    </tr>\n",
              "    <tr>\n",
              "      <th>never</th>\n",
              "      <td>0.787184</td>\n",
              "    </tr>\n",
              "    <tr>\n",
              "      <th>air</th>\n",
              "      <td>0.784054</td>\n",
              "    </tr>\n",
              "    <tr>\n",
              "      <th>sleep</th>\n",
              "      <td>0.784054</td>\n",
              "    </tr>\n",
              "    <tr>\n",
              "      <th>fine</th>\n",
              "      <td>0.7786</td>\n",
              "    </tr>\n",
              "    <tr>\n",
              "      <th>wet</th>\n",
              "      <td>0.776713</td>\n",
              "    </tr>\n",
              "    <tr>\n",
              "      <th>however</th>\n",
              "      <td>0.775412</td>\n",
              "    </tr>\n",
              "    <tr>\n",
              "      <th>better</th>\n",
              "      <td>0.771916</td>\n",
              "    </tr>\n",
              "    <tr>\n",
              "      <th>needs</th>\n",
              "      <td>0.771631</td>\n",
              "    </tr>\n",
              "    <tr>\n",
              "      <th>price</th>\n",
              "      <td>0.766705</td>\n",
              "    </tr>\n",
              "    <tr>\n",
              "      <th>unfortunately</th>\n",
              "      <td>0.763568</td>\n",
              "    </tr>\n",
              "    <tr>\n",
              "      <th>open</th>\n",
              "      <td>0.761769</td>\n",
              "    </tr>\n",
              "    <tr>\n",
              "      <th>nothing</th>\n",
              "      <td>0.74375</td>\n",
              "    </tr>\n",
              "    <tr>\n",
              "      <th>expect</th>\n",
              "      <td>0.736534</td>\n",
              "    </tr>\n",
              "    <tr>\n",
              "      <th>windows</th>\n",
              "      <td>0.731972</td>\n",
              "    </tr>\n",
              "    <tr>\n",
              "      <th>adequate</th>\n",
              "      <td>0.721784</td>\n",
              "    </tr>\n",
              "    <tr>\n",
              "      <th>lot</th>\n",
              "      <td>0.719996</td>\n",
              "    </tr>\n",
              "    <tr>\n",
              "      <th>think</th>\n",
              "      <td>0.716395</td>\n",
              "    </tr>\n",
              "  </tbody>\n",
              "</table>\n",
              "</div>"
            ],
            "text/plain": [
              "                    pmi\n",
              "poor            1.37877\n",
              "average         1.32586\n",
              "paid            1.16972\n",
              "work            1.16926\n",
              "old             1.15009\n",
              "expensive       1.13201\n",
              "said            1.12862\n",
              "basic             1.127\n",
              "backpackers     1.11458\n",
              "noisy           1.06708\n",
              "toilet          1.06057\n",
              "rather          1.06057\n",
              "disappointed     1.0396\n",
              "pay             1.03095\n",
              "told            1.00097\n",
              "per            0.991168\n",
              "bad            0.976426\n",
              "expected       0.967768\n",
              "seemed         0.957849\n",
              "limited        0.917718\n",
              "people         0.901937\n",
              "else           0.896383\n",
              "another        0.896188\n",
              "young          0.881116\n",
              "asked          0.877486\n",
              "water          0.873478\n",
              "building       0.854729\n",
              "number         0.849674\n",
              "probably       0.849164\n",
              "try            0.832944\n",
              "hours          0.810105\n",
              "put            0.802268\n",
              "cost           0.794104\n",
              "never          0.787184\n",
              "air            0.784054\n",
              "sleep          0.784054\n",
              "fine             0.7786\n",
              "wet            0.776713\n",
              "however        0.775412\n",
              "better         0.771916\n",
              "needs          0.771631\n",
              "price          0.766705\n",
              "unfortunately  0.763568\n",
              "open           0.761769\n",
              "nothing         0.74375\n",
              "expect         0.736534\n",
              "windows        0.731972\n",
              "adequate       0.721784\n",
              "lot            0.719996\n",
              "think          0.716395"
            ]
          },
          "metadata": {
            "tags": []
          },
          "execution_count": 75
        }
      ]
    },
    {
      "cell_type": "code",
      "metadata": {
        "id": "sjc1M8X2kkK5"
      },
      "source": [
        "# Repeat this analysis for the top-50 noun phrases using grammar "
      ],
      "execution_count": 76,
      "outputs": []
    },
    {
      "cell_type": "code",
      "metadata": {
        "id": "h_n99zVTMyQV",
        "colab": {
          "base_uri": "https://localhost:8080/"
        },
        "outputId": "00f4c291-18d4-45ac-bac2-c45823a30380"
      },
      "source": [
        "pmiposdfNP = pmiForAllCal(finaldfNP,topKNP,'positive')\n",
        "pminegdfNP = pmiForAllCal(finaldfNP,topKNP,'negative')"
      ],
      "execution_count": 77,
      "outputs": [
        {
          "output_type": "stream",
          "text": [
            "100%|██████████| 500/500 [00:01<00:00, 278.38it/s]\n",
            "100%|██████████| 500/500 [00:01<00:00, 308.14it/s]\n"
          ],
          "name": "stderr"
        }
      ]
    },
    {
      "cell_type": "code",
      "metadata": {
        "id": "202kNrRpPY_S",
        "colab": {
          "base_uri": "https://localhost:8080/",
          "height": 1000
        },
        "outputId": "7c5eae70-9642-4576-b786-6b247c147cee"
      },
      "source": [
        "pmiposdfNP.sort_values(by='pmi',ascending=False).head(50)"
      ],
      "execution_count": 78,
      "outputs": [
        {
          "output_type": "execute_result",
          "data": {
            "text/html": [
              "<div>\n",
              "<style scoped>\n",
              "    .dataframe tbody tr th:only-of-type {\n",
              "        vertical-align: middle;\n",
              "    }\n",
              "\n",
              "    .dataframe tbody tr th {\n",
              "        vertical-align: top;\n",
              "    }\n",
              "\n",
              "    .dataframe thead th {\n",
              "        text-align: right;\n",
              "    }\n",
              "</style>\n",
              "<table border=\"1\" class=\"dataframe\">\n",
              "  <thead>\n",
              "    <tr style=\"text-align: right;\">\n",
              "      <th></th>\n",
              "      <th>pmi</th>\n",
              "    </tr>\n",
              "  </thead>\n",
              "  <tbody>\n",
              "    <tr>\n",
              "      <th>(great, host)</th>\n",
              "      <td>0.163298</td>\n",
              "    </tr>\n",
              "    <tr>\n",
              "      <th>(spaciou, clean)</th>\n",
              "      <td>0.163298</td>\n",
              "    </tr>\n",
              "    <tr>\n",
              "      <th>(comfort, motel)</th>\n",
              "      <td>0.163298</td>\n",
              "    </tr>\n",
              "    <tr>\n",
              "      <th>(friendli, owner)</th>\n",
              "      <td>0.163298</td>\n",
              "    </tr>\n",
              "    <tr>\n",
              "      <th>(comfort, accommod)</th>\n",
              "      <td>0.163298</td>\n",
              "    </tr>\n",
              "    <tr>\n",
              "      <th>(local, area)</th>\n",
              "      <td>0.163298</td>\n",
              "    </tr>\n",
              "    <tr>\n",
              "      <th>(good, cook)</th>\n",
              "      <td>0.163298</td>\n",
              "    </tr>\n",
              "    <tr>\n",
              "      <th>(great, base)</th>\n",
              "      <td>0.163298</td>\n",
              "    </tr>\n",
              "    <tr>\n",
              "      <th>(main, hous)</th>\n",
              "      <td>0.163298</td>\n",
              "    </tr>\n",
              "    <tr>\n",
              "      <th>(super, help)</th>\n",
              "      <td>0.163298</td>\n",
              "    </tr>\n",
              "    <tr>\n",
              "      <th>(next, visit)</th>\n",
              "      <td>0.163298</td>\n",
              "    </tr>\n",
              "    <tr>\n",
              "      <th>(incred, friendli)</th>\n",
              "      <td>0.163298</td>\n",
              "    </tr>\n",
              "    <tr>\n",
              "      <th>(extrem, clean)</th>\n",
              "      <td>0.163298</td>\n",
              "    </tr>\n",
              "    <tr>\n",
              "      <th>(unlimit, wifi)</th>\n",
              "      <td>0.163298</td>\n",
              "    </tr>\n",
              "    <tr>\n",
              "      <th>(hot, towel)</th>\n",
              "      <td>0.163298</td>\n",
              "    </tr>\n",
              "    <tr>\n",
              "      <th>(friendli, welcom)</th>\n",
              "      <td>0.163298</td>\n",
              "    </tr>\n",
              "    <tr>\n",
              "      <th>(definit, come, back)</th>\n",
              "      <td>0.163298</td>\n",
              "    </tr>\n",
              "    <tr>\n",
              "      <th>(underfloor, heat)</th>\n",
              "      <td>0.163298</td>\n",
              "    </tr>\n",
              "    <tr>\n",
              "      <th>(follow, day)</th>\n",
              "      <td>0.163298</td>\n",
              "    </tr>\n",
              "    <tr>\n",
              "      <th>(first, rate)</th>\n",
              "      <td>0.163298</td>\n",
              "    </tr>\n",
              "    <tr>\n",
              "      <th>(great, choic)</th>\n",
              "      <td>0.163298</td>\n",
              "    </tr>\n",
              "    <tr>\n",
              "      <th>(separ, bedroom)</th>\n",
              "      <td>0.163298</td>\n",
              "    </tr>\n",
              "    <tr>\n",
              "      <th>(main, attract)</th>\n",
              "      <td>0.163298</td>\n",
              "    </tr>\n",
              "    <tr>\n",
              "      <th>(far, enough, away)</th>\n",
              "      <td>0.163298</td>\n",
              "    </tr>\n",
              "    <tr>\n",
              "      <th>(clean, modern)</th>\n",
              "      <td>0.163298</td>\n",
              "    </tr>\n",
              "    <tr>\n",
              "      <th>(sever, restaur)</th>\n",
              "      <td>0.163298</td>\n",
              "    </tr>\n",
              "    <tr>\n",
              "      <th>(great, tip)</th>\n",
              "      <td>0.163298</td>\n",
              "    </tr>\n",
              "    <tr>\n",
              "      <th>(local, knowledg)</th>\n",
              "      <td>0.163298</td>\n",
              "    </tr>\n",
              "    <tr>\n",
              "      <th>(warm, clean)</th>\n",
              "      <td>0.163298</td>\n",
              "    </tr>\n",
              "    <tr>\n",
              "      <th>(great, servic)</th>\n",
              "      <td>0.163298</td>\n",
              "    </tr>\n",
              "    <tr>\n",
              "      <th>(highli, recommend)</th>\n",
              "      <td>0.163298</td>\n",
              "    </tr>\n",
              "    <tr>\n",
              "      <th>(great, breakfast)</th>\n",
              "      <td>0.163298</td>\n",
              "    </tr>\n",
              "    <tr>\n",
              "      <th>(tea, coffe)</th>\n",
              "      <td>0.163298</td>\n",
              "    </tr>\n",
              "    <tr>\n",
              "      <th>(love, garden)</th>\n",
              "      <td>0.163298</td>\n",
              "    </tr>\n",
              "    <tr>\n",
              "      <th>(perfect, place)</th>\n",
              "      <td>0.163298</td>\n",
              "    </tr>\n",
              "    <tr>\n",
              "      <th>(great, bathroom)</th>\n",
              "      <td>0.163298</td>\n",
              "    </tr>\n",
              "    <tr>\n",
              "      <th>(top, qualiti)</th>\n",
              "      <td>0.163298</td>\n",
              "    </tr>\n",
              "    <tr>\n",
              "      <th>(great, experi)</th>\n",
              "      <td>0.163298</td>\n",
              "    </tr>\n",
              "    <tr>\n",
              "      <th>(upper, floor)</th>\n",
              "      <td>0.163298</td>\n",
              "    </tr>\n",
              "    <tr>\n",
              "      <th>(friendli, help)</th>\n",
              "      <td>0.163298</td>\n",
              "    </tr>\n",
              "    <tr>\n",
              "      <th>(great, restaur)</th>\n",
              "      <td>0.163298</td>\n",
              "    </tr>\n",
              "    <tr>\n",
              "      <th>(walk, away)</th>\n",
              "      <td>0.163298</td>\n",
              "    </tr>\n",
              "    <tr>\n",
              "      <th>(good, motel)</th>\n",
              "      <td>0.163298</td>\n",
              "    </tr>\n",
              "    <tr>\n",
              "      <th>(well, worth)</th>\n",
              "      <td>0.163298</td>\n",
              "    </tr>\n",
              "    <tr>\n",
              "      <th>(nice, kitchen)</th>\n",
              "      <td>0.163298</td>\n",
              "    </tr>\n",
              "    <tr>\n",
              "      <th>(excel, facil)</th>\n",
              "      <td>0.163298</td>\n",
              "    </tr>\n",
              "    <tr>\n",
              "      <th>(aspen, court)</th>\n",
              "      <td>0.163298</td>\n",
              "    </tr>\n",
              "    <tr>\n",
              "      <th>(also, nice)</th>\n",
              "      <td>0.163298</td>\n",
              "    </tr>\n",
              "    <tr>\n",
              "      <th>(friendli, recept)</th>\n",
              "      <td>0.163298</td>\n",
              "    </tr>\n",
              "    <tr>\n",
              "      <th>(fantast, place)</th>\n",
              "      <td>0.163298</td>\n",
              "    </tr>\n",
              "  </tbody>\n",
              "</table>\n",
              "</div>"
            ],
            "text/plain": [
              "                            pmi\n",
              "(great, host)          0.163298\n",
              "(spaciou, clean)       0.163298\n",
              "(comfort, motel)       0.163298\n",
              "(friendli, owner)      0.163298\n",
              "(comfort, accommod)    0.163298\n",
              "(local, area)          0.163298\n",
              "(good, cook)           0.163298\n",
              "(great, base)          0.163298\n",
              "(main, hous)           0.163298\n",
              "(super, help)          0.163298\n",
              "(next, visit)          0.163298\n",
              "(incred, friendli)     0.163298\n",
              "(extrem, clean)        0.163298\n",
              "(unlimit, wifi)        0.163298\n",
              "(hot, towel)           0.163298\n",
              "(friendli, welcom)     0.163298\n",
              "(definit, come, back)  0.163298\n",
              "(underfloor, heat)     0.163298\n",
              "(follow, day)          0.163298\n",
              "(first, rate)          0.163298\n",
              "(great, choic)         0.163298\n",
              "(separ, bedroom)       0.163298\n",
              "(main, attract)        0.163298\n",
              "(far, enough, away)    0.163298\n",
              "(clean, modern)        0.163298\n",
              "(sever, restaur)       0.163298\n",
              "(great, tip)           0.163298\n",
              "(local, knowledg)      0.163298\n",
              "(warm, clean)          0.163298\n",
              "(great, servic)        0.163298\n",
              "(highli, recommend)    0.163298\n",
              "(great, breakfast)     0.163298\n",
              "(tea, coffe)           0.163298\n",
              "(love, garden)         0.163298\n",
              "(perfect, place)       0.163298\n",
              "(great, bathroom)      0.163298\n",
              "(top, qualiti)         0.163298\n",
              "(great, experi)        0.163298\n",
              "(upper, floor)         0.163298\n",
              "(friendli, help)       0.163298\n",
              "(great, restaur)       0.163298\n",
              "(walk, away)           0.163298\n",
              "(good, motel)          0.163298\n",
              "(well, worth)          0.163298\n",
              "(nice, kitchen)        0.163298\n",
              "(excel, facil)         0.163298\n",
              "(aspen, court)         0.163298\n",
              "(also, nice)           0.163298\n",
              "(friendli, recept)     0.163298\n",
              "(fantast, place)       0.163298"
            ]
          },
          "metadata": {
            "tags": []
          },
          "execution_count": 78
        }
      ]
    },
    {
      "cell_type": "code",
      "metadata": {
        "id": "VNR4mPUCUDNu",
        "colab": {
          "base_uri": "https://localhost:8080/",
          "height": 1000
        },
        "outputId": "59a152ab-1c96-4aa8-c9ba-e41738790c39"
      },
      "source": [
        "pminegdfNP.sort_values(by='pmi',ascending=False).head(50)"
      ],
      "execution_count": 79,
      "outputs": [
        {
          "output_type": "execute_result",
          "data": {
            "text/html": [
              "<div>\n",
              "<style scoped>\n",
              "    .dataframe tbody tr th:only-of-type {\n",
              "        vertical-align: middle;\n",
              "    }\n",
              "\n",
              "    .dataframe tbody tr th {\n",
              "        vertical-align: top;\n",
              "    }\n",
              "\n",
              "    .dataframe thead th {\n",
              "        text-align: right;\n",
              "    }\n",
              "</style>\n",
              "<table border=\"1\" class=\"dataframe\">\n",
              "  <thead>\n",
              "    <tr style=\"text-align: right;\">\n",
              "      <th></th>\n",
              "      <th>pmi</th>\n",
              "    </tr>\n",
              "  </thead>\n",
              "  <tbody>\n",
              "    <tr>\n",
              "      <th>(cold, water)</th>\n",
              "      <td>1.75919</td>\n",
              "    </tr>\n",
              "    <tr>\n",
              "      <th>(young, backpack)</th>\n",
              "      <td>1.6414</td>\n",
              "    </tr>\n",
              "    <tr>\n",
              "      <th>(better, valu)</th>\n",
              "      <td>1.48725</td>\n",
              "    </tr>\n",
              "    <tr>\n",
              "      <th>(expect, much)</th>\n",
              "      <td>1.38189</td>\n",
              "    </tr>\n",
              "    <tr>\n",
              "      <th>(pay, extra)</th>\n",
              "      <td>1.3331</td>\n",
              "    </tr>\n",
              "    <tr>\n",
              "      <th>(open, plan)</th>\n",
              "      <td>1.30493</td>\n",
              "    </tr>\n",
              "    <tr>\n",
              "      <th>(shower, head)</th>\n",
              "      <td>1.28658</td>\n",
              "    </tr>\n",
              "    <tr>\n",
              "      <th>(came, back)</th>\n",
              "      <td>1.27368</td>\n",
              "    </tr>\n",
              "    <tr>\n",
              "      <th>(commun, area)</th>\n",
              "      <td>1.26411</td>\n",
              "    </tr>\n",
              "    <tr>\n",
              "      <th>(top, ten)</th>\n",
              "      <td>1.19957</td>\n",
              "    </tr>\n",
              "    <tr>\n",
              "      <th>(high, season)</th>\n",
              "      <td>1.19957</td>\n",
              "    </tr>\n",
              "    <tr>\n",
              "      <th>(nthe, kitchen)</th>\n",
              "      <td>1.15078</td>\n",
              "    </tr>\n",
              "    <tr>\n",
              "      <th>(pretti, small)</th>\n",
              "      <td>1.08179</td>\n",
              "    </tr>\n",
              "    <tr>\n",
              "      <th>(previou, night)</th>\n",
              "      <td>1.08179</td>\n",
              "    </tr>\n",
              "    <tr>\n",
              "      <th>(nthe, bar)</th>\n",
              "      <td>1.08179</td>\n",
              "    </tr>\n",
              "    <tr>\n",
              "      <th>(quit, expens)</th>\n",
              "      <td>1.08179</td>\n",
              "    </tr>\n",
              "    <tr>\n",
              "      <th>(high, end)</th>\n",
              "      <td>1.04542</td>\n",
              "    </tr>\n",
              "    <tr>\n",
              "      <th>(queen, bed)</th>\n",
              "      <td>1.01725</td>\n",
              "    </tr>\n",
              "    <tr>\n",
              "      <th>(tour, group)</th>\n",
              "      <td>1.01725</td>\n",
              "    </tr>\n",
              "    <tr>\n",
              "      <th>(pretti, much)</th>\n",
              "      <td>1.01725</td>\n",
              "    </tr>\n",
              "    <tr>\n",
              "      <th>(much, better)</th>\n",
              "      <td>1.00541</td>\n",
              "    </tr>\n",
              "    <tr>\n",
              "      <th>(commun, kitchen)</th>\n",
              "      <td>0.976426</td>\n",
              "    </tr>\n",
              "    <tr>\n",
              "      <th>(last, night)</th>\n",
              "      <td>0.976426</td>\n",
              "    </tr>\n",
              "    <tr>\n",
              "      <th>(high, expect)</th>\n",
              "      <td>0.976426</td>\n",
              "    </tr>\n",
              "    <tr>\n",
              "      <th>(good, deal)</th>\n",
              "      <td>0.976426</td>\n",
              "    </tr>\n",
              "    <tr>\n",
              "      <th>(first, night)</th>\n",
              "      <td>0.961158</td>\n",
              "    </tr>\n",
              "    <tr>\n",
              "      <th>(good, thing)</th>\n",
              "      <td>0.954447</td>\n",
              "    </tr>\n",
              "    <tr>\n",
              "      <th>(hot, plate)</th>\n",
              "      <td>0.954447</td>\n",
              "    </tr>\n",
              "    <tr>\n",
              "      <th>(quit, noisi)</th>\n",
              "      <td>0.937205</td>\n",
              "    </tr>\n",
              "    <tr>\n",
              "      <th>(decent, size)</th>\n",
              "      <td>0.937205</td>\n",
              "    </tr>\n",
              "    <tr>\n",
              "      <th>(small, tabl)</th>\n",
              "      <td>0.937205</td>\n",
              "    </tr>\n",
              "    <tr>\n",
              "      <th>(good, experi)</th>\n",
              "      <td>0.937205</td>\n",
              "    </tr>\n",
              "    <tr>\n",
              "      <th>(second, night)</th>\n",
              "      <td>0.919267</td>\n",
              "    </tr>\n",
              "    <tr>\n",
              "      <th>(nearbi, glacier)</th>\n",
              "      <td>0.911887</td>\n",
              "    </tr>\n",
              "    <tr>\n",
              "      <th>(minut, drive)</th>\n",
              "      <td>0.911887</td>\n",
              "    </tr>\n",
              "    <tr>\n",
              "      <th>(hot, water)</th>\n",
              "      <td>0.894188</td>\n",
              "    </tr>\n",
              "    <tr>\n",
              "      <th>(young, child)</th>\n",
              "      <td>0.881116</td>\n",
              "    </tr>\n",
              "    <tr>\n",
              "      <th>(extra, cost)</th>\n",
              "      <td>0.881116</td>\n",
              "    </tr>\n",
              "    <tr>\n",
              "      <th>(pretti, good)</th>\n",
              "      <td>0.881116</td>\n",
              "    </tr>\n",
              "    <tr>\n",
              "      <th>(better, place)</th>\n",
              "      <td>0.863097</td>\n",
              "    </tr>\n",
              "    <tr>\n",
              "      <th>(mani, peopl)</th>\n",
              "      <td>0.863097</td>\n",
              "    </tr>\n",
              "    <tr>\n",
              "      <th>(whole, place)</th>\n",
              "      <td>0.863097</td>\n",
              "    </tr>\n",
              "    <tr>\n",
              "      <th>(small, side)</th>\n",
              "      <td>0.863097</td>\n",
              "    </tr>\n",
              "    <tr>\n",
              "      <th>(quit, small)</th>\n",
              "      <td>0.842894</td>\n",
              "    </tr>\n",
              "    <tr>\n",
              "      <th>(good, sleep)</th>\n",
              "      <td>0.794104</td>\n",
              "    </tr>\n",
              "    <tr>\n",
              "      <th>(look, great)</th>\n",
              "      <td>0.794104</td>\n",
              "    </tr>\n",
              "    <tr>\n",
              "      <th>(move, around)</th>\n",
              "      <td>0.794104</td>\n",
              "    </tr>\n",
              "    <tr>\n",
              "      <th>(nthe, restaur)</th>\n",
              "      <td>0.794104</td>\n",
              "    </tr>\n",
              "    <tr>\n",
              "      <th>(leav, earli)</th>\n",
              "      <td>0.794104</td>\n",
              "    </tr>\n",
              "    <tr>\n",
              "      <th>(light, sleeper)</th>\n",
              "      <td>0.794104</td>\n",
              "    </tr>\n",
              "  </tbody>\n",
              "</table>\n",
              "</div>"
            ],
            "text/plain": [
              "                        pmi\n",
              "(cold, water)       1.75919\n",
              "(young, backpack)    1.6414\n",
              "(better, valu)      1.48725\n",
              "(expect, much)      1.38189\n",
              "(pay, extra)         1.3331\n",
              "(open, plan)        1.30493\n",
              "(shower, head)      1.28658\n",
              "(came, back)        1.27368\n",
              "(commun, area)      1.26411\n",
              "(top, ten)          1.19957\n",
              "(high, season)      1.19957\n",
              "(nthe, kitchen)     1.15078\n",
              "(pretti, small)     1.08179\n",
              "(previou, night)    1.08179\n",
              "(nthe, bar)         1.08179\n",
              "(quit, expens)      1.08179\n",
              "(high, end)         1.04542\n",
              "(queen, bed)        1.01725\n",
              "(tour, group)       1.01725\n",
              "(pretti, much)      1.01725\n",
              "(much, better)      1.00541\n",
              "(commun, kitchen)  0.976426\n",
              "(last, night)      0.976426\n",
              "(high, expect)     0.976426\n",
              "(good, deal)       0.976426\n",
              "(first, night)     0.961158\n",
              "(good, thing)      0.954447\n",
              "(hot, plate)       0.954447\n",
              "(quit, noisi)      0.937205\n",
              "(decent, size)     0.937205\n",
              "(small, tabl)      0.937205\n",
              "(good, experi)     0.937205\n",
              "(second, night)    0.919267\n",
              "(nearbi, glacier)  0.911887\n",
              "(minut, drive)     0.911887\n",
              "(hot, water)       0.894188\n",
              "(young, child)     0.881116\n",
              "(extra, cost)      0.881116\n",
              "(pretti, good)     0.881116\n",
              "(better, place)    0.863097\n",
              "(mani, peopl)      0.863097\n",
              "(whole, place)     0.863097\n",
              "(small, side)      0.863097\n",
              "(quit, small)      0.842894\n",
              "(good, sleep)      0.794104\n",
              "(look, great)      0.794104\n",
              "(move, around)     0.794104\n",
              "(nthe, restaur)    0.794104\n",
              "(leav, earli)      0.794104\n",
              "(light, sleeper)   0.794104"
            ]
          },
          "metadata": {
            "tags": []
          },
          "execution_count": 79
        }
      ]
    },
    {
      "cell_type": "code",
      "metadata": {
        "id": "QASCVedWVO8y"
      },
      "source": [
        "# Repeat this analysis for the single top and single bottom hotel (according to the ground truth rating)"
      ],
      "execution_count": 80,
      "outputs": []
    },
    {
      "cell_type": "code",
      "metadata": {
        "id": "m6P2jFP6lCRv"
      },
      "source": [
        "top_ranked = q1a_rating[:1].index[0]"
      ],
      "execution_count": 81,
      "outputs": []
    },
    {
      "cell_type": "code",
      "metadata": {
        "id": "i_NyghUGVhUC"
      },
      "source": [
        "# bottom rank has 1 review, taked 2nd lowest ranked (which has 5 ratings)\n",
        "bottom_ranked = q1a_rating[-2:-1].index[0]"
      ],
      "execution_count": 82,
      "outputs": []
    },
    {
      "cell_type": "code",
      "metadata": {
        "id": "J_BinGszXR6_"
      },
      "source": [
        "def single_hotel(hotel,hotelDF,reviewDF,k):\n",
        "    reviewDF1 = reviewDF.loc[reviewDF.hotelName==hotel].copy()\n",
        "    hotelDF1 = hotelDF.loc[hotelDF.hotelName==hotel].copy()\n",
        "    topk = getTopKWords(reviewDF1, k, reviewColumn='reviewCol')\n",
        "    finaldf = dataFrameTransformation(hotelDF,reviewDF,topk)\n",
        "    finaldf = finaldf.loc[finaldf.hotelName==hotel].copy()\n",
        "    pmiposdf = pmiForAllCal(finaldf,topk,'positive')\n",
        "    pminegdf = pmiForAllCal(finaldf,topk,'negative')\n",
        "    return pmiposdf, pminegdf"
      ],
      "execution_count": 83,
      "outputs": []
    },
    {
      "cell_type": "code",
      "metadata": {
        "id": "p0XMF2C2VUmR",
        "colab": {
          "base_uri": "https://localhost:8080/"
        },
        "outputId": "80a62439-b6b6-4e75-a0de-93c648ef5b56"
      },
      "source": [
        "pmipos_top, pmineg_top = single_hotel(top_ranked,hotelDF,reviewDF,500)"
      ],
      "execution_count": 84,
      "outputs": [
        {
          "output_type": "stream",
          "text": [
            "100%|██████████| 500/500 [00:00<00:00, 760.05it/s]\n",
            "100%|██████████| 500/500 [00:00<00:00, 806.08it/s]\n"
          ],
          "name": "stderr"
        }
      ]
    },
    {
      "cell_type": "code",
      "metadata": {
        "id": "osVl8gqrunb6",
        "colab": {
          "base_uri": "https://localhost:8080/"
        },
        "outputId": "70251ecd-f7a5-497e-c951-efffbfd4560e"
      },
      "source": [
        "pmipos_bottom, pmineg_bottom = single_hotel(bottom_ranked,hotelDF,reviewDF,500)"
      ],
      "execution_count": 85,
      "outputs": [
        {
          "output_type": "stream",
          "text": [
            "100%|██████████| 300/300 [00:00<00:00, 830.42it/s]\n",
            "100%|██████████| 300/300 [00:00<00:00, 850.06it/s]\n"
          ],
          "name": "stderr"
        }
      ]
    },
    {
      "cell_type": "code",
      "metadata": {
        "id": "ycJw2vOautp4",
        "colab": {
          "base_uri": "https://localhost:8080/",
          "height": 1000
        },
        "outputId": "a85edc0b-e561-458a-a1d5-e7bdf0ba1dfa"
      },
      "source": [
        "pmipos_top.sort_values(by='pmi',ascending=False).head(50)"
      ],
      "execution_count": 86,
      "outputs": [
        {
          "output_type": "execute_result",
          "data": {
            "text/html": [
              "<div>\n",
              "<style scoped>\n",
              "    .dataframe tbody tr th:only-of-type {\n",
              "        vertical-align: middle;\n",
              "    }\n",
              "\n",
              "    .dataframe tbody tr th {\n",
              "        vertical-align: top;\n",
              "    }\n",
              "\n",
              "    .dataframe thead th {\n",
              "        text-align: right;\n",
              "    }\n",
              "</style>\n",
              "<table border=\"1\" class=\"dataframe\">\n",
              "  <thead>\n",
              "    <tr style=\"text-align: right;\">\n",
              "      <th></th>\n",
              "      <th>pmi</th>\n",
              "    </tr>\n",
              "  </thead>\n",
              "  <tbody>\n",
              "    <tr>\n",
              "      <th>pleasant</th>\n",
              "      <td>0.0178046</td>\n",
              "    </tr>\n",
              "    <tr>\n",
              "      <th>upon</th>\n",
              "      <td>0.0178046</td>\n",
              "    </tr>\n",
              "    <tr>\n",
              "      <th>across</th>\n",
              "      <td>0.0178046</td>\n",
              "    </tr>\n",
              "    <tr>\n",
              "      <th>nit</th>\n",
              "      <td>0.0178046</td>\n",
              "    </tr>\n",
              "    <tr>\n",
              "      <th>fine</th>\n",
              "      <td>0.0178046</td>\n",
              "    </tr>\n",
              "    <tr>\n",
              "      <th>bath</th>\n",
              "      <td>0.0178046</td>\n",
              "    </tr>\n",
              "    <tr>\n",
              "      <th>whole</th>\n",
              "      <td>0.0178046</td>\n",
              "    </tr>\n",
              "    <tr>\n",
              "      <th>read</th>\n",
              "      <td>0.0178046</td>\n",
              "    </tr>\n",
              "    <tr>\n",
              "      <th>front</th>\n",
              "      <td>0.0178046</td>\n",
              "    </tr>\n",
              "    <tr>\n",
              "      <th>base</th>\n",
              "      <td>0.0178046</td>\n",
              "    </tr>\n",
              "    <tr>\n",
              "      <th>informative</th>\n",
              "      <td>0.0178046</td>\n",
              "    </tr>\n",
              "    <tr>\n",
              "      <th>wildlife</th>\n",
              "      <td>0.0178046</td>\n",
              "    </tr>\n",
              "    <tr>\n",
              "      <th>clearly</th>\n",
              "      <td>0.0178046</td>\n",
              "    </tr>\n",
              "    <tr>\n",
              "      <th>sat</th>\n",
              "      <td>0.0178046</td>\n",
              "    </tr>\n",
              "    <tr>\n",
              "      <th>particularly</th>\n",
              "      <td>0.0178046</td>\n",
              "    </tr>\n",
              "    <tr>\n",
              "      <th>close</th>\n",
              "      <td>0.0178046</td>\n",
              "    </tr>\n",
              "    <tr>\n",
              "      <th>knowledgable</th>\n",
              "      <td>0.0178046</td>\n",
              "    </tr>\n",
              "    <tr>\n",
              "      <th>talking</th>\n",
              "      <td>0.0178046</td>\n",
              "    </tr>\n",
              "    <tr>\n",
              "      <th>snow</th>\n",
              "      <td>0.0178046</td>\n",
              "    </tr>\n",
              "    <tr>\n",
              "      <th>needed</th>\n",
              "      <td>0.0178046</td>\n",
              "    </tr>\n",
              "    <tr>\n",
              "      <th>sit</th>\n",
              "      <td>0.0178046</td>\n",
              "    </tr>\n",
              "    <tr>\n",
              "      <th>pancakes</th>\n",
              "      <td>0.0178046</td>\n",
              "    </tr>\n",
              "    <tr>\n",
              "      <th>happy</th>\n",
              "      <td>0.0178046</td>\n",
              "    </tr>\n",
              "    <tr>\n",
              "      <th>caring</th>\n",
              "      <td>0.0178046</td>\n",
              "    </tr>\n",
              "    <tr>\n",
              "      <th>looked</th>\n",
              "      <td>0.0178046</td>\n",
              "    </tr>\n",
              "    <tr>\n",
              "      <th>world</th>\n",
              "      <td>0.0178046</td>\n",
              "    </tr>\n",
              "    <tr>\n",
              "      <th>high</th>\n",
              "      <td>0.0178046</td>\n",
              "    </tr>\n",
              "    <tr>\n",
              "      <th>nbreakfast</th>\n",
              "      <td>0.0178046</td>\n",
              "    </tr>\n",
              "    <tr>\n",
              "      <th>heli</th>\n",
              "      <td>0.0178046</td>\n",
              "    </tr>\n",
              "    <tr>\n",
              "      <th>seeing</th>\n",
              "      <td>0.0178046</td>\n",
              "    </tr>\n",
              "    <tr>\n",
              "      <th>prepared</th>\n",
              "      <td>0.0178046</td>\n",
              "    </tr>\n",
              "    <tr>\n",
              "      <th>hesitate</th>\n",
              "      <td>0.0178046</td>\n",
              "    </tr>\n",
              "    <tr>\n",
              "      <th>magnificent</th>\n",
              "      <td>0.0178046</td>\n",
              "    </tr>\n",
              "    <tr>\n",
              "      <th>upgraded</th>\n",
              "      <td>0.0178046</td>\n",
              "    </tr>\n",
              "    <tr>\n",
              "      <th>beds</th>\n",
              "      <td>0.0178046</td>\n",
              "    </tr>\n",
              "    <tr>\n",
              "      <th>tips</th>\n",
              "      <td>0.0178046</td>\n",
              "    </tr>\n",
              "    <tr>\n",
              "      <th>moment</th>\n",
              "      <td>0.0178046</td>\n",
              "    </tr>\n",
              "    <tr>\n",
              "      <th>travelling</th>\n",
              "      <td>0.0178046</td>\n",
              "    </tr>\n",
              "    <tr>\n",
              "      <th>items</th>\n",
              "      <td>0.0178046</td>\n",
              "    </tr>\n",
              "    <tr>\n",
              "      <th>appreciated</th>\n",
              "      <td>0.0178046</td>\n",
              "    </tr>\n",
              "    <tr>\n",
              "      <th>stopped</th>\n",
              "      <td>0.0178046</td>\n",
              "    </tr>\n",
              "    <tr>\n",
              "      <th>expectations</th>\n",
              "      <td>0.0178046</td>\n",
              "    </tr>\n",
              "    <tr>\n",
              "      <th>jon</th>\n",
              "      <td>0.0178046</td>\n",
              "    </tr>\n",
              "    <tr>\n",
              "      <th>travel</th>\n",
              "      <td>0.0178046</td>\n",
              "    </tr>\n",
              "    <tr>\n",
              "      <th>try</th>\n",
              "      <td>0.0178046</td>\n",
              "    </tr>\n",
              "    <tr>\n",
              "      <th>else</th>\n",
              "      <td>0.0178046</td>\n",
              "    </tr>\n",
              "    <tr>\n",
              "      <th>plus</th>\n",
              "      <td>0.0178046</td>\n",
              "    </tr>\n",
              "    <tr>\n",
              "      <th>okarito</th>\n",
              "      <td>0.0178046</td>\n",
              "    </tr>\n",
              "    <tr>\n",
              "      <th>bird</th>\n",
              "      <td>0.0178046</td>\n",
              "    </tr>\n",
              "    <tr>\n",
              "      <th>fruits</th>\n",
              "      <td>0.0178046</td>\n",
              "    </tr>\n",
              "  </tbody>\n",
              "</table>\n",
              "</div>"
            ],
            "text/plain": [
              "                    pmi\n",
              "pleasant      0.0178046\n",
              "upon          0.0178046\n",
              "across        0.0178046\n",
              "nit           0.0178046\n",
              "fine          0.0178046\n",
              "bath          0.0178046\n",
              "whole         0.0178046\n",
              "read          0.0178046\n",
              "front         0.0178046\n",
              "base          0.0178046\n",
              "informative   0.0178046\n",
              "wildlife      0.0178046\n",
              "clearly       0.0178046\n",
              "sat           0.0178046\n",
              "particularly  0.0178046\n",
              "close         0.0178046\n",
              "knowledgable  0.0178046\n",
              "talking       0.0178046\n",
              "snow          0.0178046\n",
              "needed        0.0178046\n",
              "sit           0.0178046\n",
              "pancakes      0.0178046\n",
              "happy         0.0178046\n",
              "caring        0.0178046\n",
              "looked        0.0178046\n",
              "world         0.0178046\n",
              "high          0.0178046\n",
              "nbreakfast    0.0178046\n",
              "heli          0.0178046\n",
              "seeing        0.0178046\n",
              "prepared      0.0178046\n",
              "hesitate      0.0178046\n",
              "magnificent   0.0178046\n",
              "upgraded      0.0178046\n",
              "beds          0.0178046\n",
              "tips          0.0178046\n",
              "moment        0.0178046\n",
              "travelling    0.0178046\n",
              "items         0.0178046\n",
              "appreciated   0.0178046\n",
              "stopped       0.0178046\n",
              "expectations  0.0178046\n",
              "jon           0.0178046\n",
              "travel        0.0178046\n",
              "try           0.0178046\n",
              "else          0.0178046\n",
              "plus          0.0178046\n",
              "okarito       0.0178046\n",
              "bird          0.0178046\n",
              "fruits        0.0178046"
            ]
          },
          "metadata": {
            "tags": []
          },
          "execution_count": 86
        }
      ]
    },
    {
      "cell_type": "code",
      "metadata": {
        "id": "LfxRryrduzz6",
        "colab": {
          "base_uri": "https://localhost:8080/",
          "height": 1000
        },
        "outputId": "cf6b40ed-b5d8-42ef-f670-af840f79af7c"
      },
      "source": [
        "pmineg_top.sort_values(by='pmi',ascending=False).head(50)"
      ],
      "execution_count": 87,
      "outputs": [
        {
          "output_type": "execute_result",
          "data": {
            "text/html": [
              "<div>\n",
              "<style scoped>\n",
              "    .dataframe tbody tr th:only-of-type {\n",
              "        vertical-align: middle;\n",
              "    }\n",
              "\n",
              "    .dataframe tbody tr th {\n",
              "        vertical-align: top;\n",
              "    }\n",
              "\n",
              "    .dataframe thead th {\n",
              "        text-align: right;\n",
              "    }\n",
              "</style>\n",
              "<table border=\"1\" class=\"dataframe\">\n",
              "  <thead>\n",
              "    <tr style=\"text-align: right;\">\n",
              "      <th></th>\n",
              "      <th>pmi</th>\n",
              "    </tr>\n",
              "  </thead>\n",
              "  <tbody>\n",
              "    <tr>\n",
              "      <th>price</th>\n",
              "      <td>3.34404</td>\n",
              "    </tr>\n",
              "    <tr>\n",
              "      <th>season</th>\n",
              "      <td>2.93857</td>\n",
              "    </tr>\n",
              "    <tr>\n",
              "      <th>instead</th>\n",
              "      <td>2.93857</td>\n",
              "    </tr>\n",
              "    <tr>\n",
              "      <th>however</th>\n",
              "      <td>2.93857</td>\n",
              "    </tr>\n",
              "    <tr>\n",
              "      <th>tourist</th>\n",
              "      <td>2.93857</td>\n",
              "    </tr>\n",
              "    <tr>\n",
              "      <th>wing</th>\n",
              "      <td>2.65089</td>\n",
              "    </tr>\n",
              "    <tr>\n",
              "      <th>left</th>\n",
              "      <td>2.65089</td>\n",
              "    </tr>\n",
              "    <tr>\n",
              "      <th>forward</th>\n",
              "      <td>2.65089</td>\n",
              "    </tr>\n",
              "    <tr>\n",
              "      <th>policy</th>\n",
              "      <td>2.65089</td>\n",
              "    </tr>\n",
              "    <tr>\n",
              "      <th>reservation</th>\n",
              "      <td>2.65089</td>\n",
              "    </tr>\n",
              "    <tr>\n",
              "      <th>almost</th>\n",
              "      <td>2.42775</td>\n",
              "    </tr>\n",
              "    <tr>\n",
              "      <th>though</th>\n",
              "      <td>2.42775</td>\n",
              "    </tr>\n",
              "    <tr>\n",
              "      <th>reviews</th>\n",
              "      <td>2.42775</td>\n",
              "    </tr>\n",
              "    <tr>\n",
              "      <th>offer</th>\n",
              "      <td>2.42775</td>\n",
              "    </tr>\n",
              "    <tr>\n",
              "      <th>door</th>\n",
              "      <td>2.42775</td>\n",
              "    </tr>\n",
              "    <tr>\n",
              "      <th>luxury</th>\n",
              "      <td>2.42775</td>\n",
              "    </tr>\n",
              "    <tr>\n",
              "      <th>top</th>\n",
              "      <td>2.42775</td>\n",
              "    </tr>\n",
              "    <tr>\n",
              "      <th>hall</th>\n",
              "      <td>2.42775</td>\n",
              "    </tr>\n",
              "    <tr>\n",
              "      <th>various</th>\n",
              "      <td>2.42775</td>\n",
              "    </tr>\n",
              "    <tr>\n",
              "      <th>sleep</th>\n",
              "      <td>2.42775</td>\n",
              "    </tr>\n",
              "    <tr>\n",
              "      <th>provide</th>\n",
              "      <td>2.42775</td>\n",
              "    </tr>\n",
              "    <tr>\n",
              "      <th>native</th>\n",
              "      <td>2.42775</td>\n",
              "    </tr>\n",
              "    <tr>\n",
              "      <th>country</th>\n",
              "      <td>2.42775</td>\n",
              "    </tr>\n",
              "    <tr>\n",
              "      <th>surrounded</th>\n",
              "      <td>2.42775</td>\n",
              "    </tr>\n",
              "    <tr>\n",
              "      <th>end</th>\n",
              "      <td>2.24543</td>\n",
              "    </tr>\n",
              "    <tr>\n",
              "      <th>attractions</th>\n",
              "      <td>2.24543</td>\n",
              "    </tr>\n",
              "    <tr>\n",
              "      <th>facilities</th>\n",
              "      <td>2.24543</td>\n",
              "    </tr>\n",
              "    <tr>\n",
              "      <th>recent</th>\n",
              "      <td>2.24543</td>\n",
              "    </tr>\n",
              "    <tr>\n",
              "      <th>seemed</th>\n",
              "      <td>2.24543</td>\n",
              "    </tr>\n",
              "    <tr>\n",
              "      <th>week</th>\n",
              "      <td>2.24543</td>\n",
              "    </tr>\n",
              "    <tr>\n",
              "      <th>always</th>\n",
              "      <td>2.09128</td>\n",
              "    </tr>\n",
              "    <tr>\n",
              "      <th>shoes</th>\n",
              "      <td>2.09128</td>\n",
              "    </tr>\n",
              "    <tr>\n",
              "      <th>gracious</th>\n",
              "      <td>2.09128</td>\n",
              "    </tr>\n",
              "    <tr>\n",
              "      <th>options</th>\n",
              "      <td>2.09128</td>\n",
              "    </tr>\n",
              "    <tr>\n",
              "      <th>road</th>\n",
              "      <td>2.09128</td>\n",
              "    </tr>\n",
              "    <tr>\n",
              "      <th>looking</th>\n",
              "      <td>1.95774</td>\n",
              "    </tr>\n",
              "    <tr>\n",
              "      <th>truly</th>\n",
              "      <td>1.95774</td>\n",
              "    </tr>\n",
              "    <tr>\n",
              "      <th>contained</th>\n",
              "      <td>1.95774</td>\n",
              "    </tr>\n",
              "    <tr>\n",
              "      <th>host</th>\n",
              "      <td>1.95774</td>\n",
              "    </tr>\n",
              "    <tr>\n",
              "      <th>help</th>\n",
              "      <td>1.95774</td>\n",
              "    </tr>\n",
              "    <tr>\n",
              "      <th>coast</th>\n",
              "      <td>1.95774</td>\n",
              "    </tr>\n",
              "    <tr>\n",
              "      <th>three</th>\n",
              "      <td>1.95774</td>\n",
              "    </tr>\n",
              "    <tr>\n",
              "      <th>appointed</th>\n",
              "      <td>1.95774</td>\n",
              "    </tr>\n",
              "    <tr>\n",
              "      <th>west</th>\n",
              "      <td>1.95774</td>\n",
              "    </tr>\n",
              "    <tr>\n",
              "      <th>family</th>\n",
              "      <td>1.89712</td>\n",
              "    </tr>\n",
              "    <tr>\n",
              "      <th>along</th>\n",
              "      <td>1.83996</td>\n",
              "    </tr>\n",
              "    <tr>\n",
              "      <th>certainly</th>\n",
              "      <td>1.83996</td>\n",
              "    </tr>\n",
              "    <tr>\n",
              "      <th>service</th>\n",
              "      <td>1.83996</td>\n",
              "    </tr>\n",
              "    <tr>\n",
              "      <th>huge</th>\n",
              "      <td>1.83996</td>\n",
              "    </tr>\n",
              "    <tr>\n",
              "      <th>self</th>\n",
              "      <td>1.83996</td>\n",
              "    </tr>\n",
              "  </tbody>\n",
              "</table>\n",
              "</div>"
            ],
            "text/plain": [
              "                 pmi\n",
              "price        3.34404\n",
              "season       2.93857\n",
              "instead      2.93857\n",
              "however      2.93857\n",
              "tourist      2.93857\n",
              "wing         2.65089\n",
              "left         2.65089\n",
              "forward      2.65089\n",
              "policy       2.65089\n",
              "reservation  2.65089\n",
              "almost       2.42775\n",
              "though       2.42775\n",
              "reviews      2.42775\n",
              "offer        2.42775\n",
              "door         2.42775\n",
              "luxury       2.42775\n",
              "top          2.42775\n",
              "hall         2.42775\n",
              "various      2.42775\n",
              "sleep        2.42775\n",
              "provide      2.42775\n",
              "native       2.42775\n",
              "country      2.42775\n",
              "surrounded   2.42775\n",
              "end          2.24543\n",
              "attractions  2.24543\n",
              "facilities   2.24543\n",
              "recent       2.24543\n",
              "seemed       2.24543\n",
              "week         2.24543\n",
              "always       2.09128\n",
              "shoes        2.09128\n",
              "gracious     2.09128\n",
              "options      2.09128\n",
              "road         2.09128\n",
              "looking      1.95774\n",
              "truly        1.95774\n",
              "contained    1.95774\n",
              "host         1.95774\n",
              "help         1.95774\n",
              "coast        1.95774\n",
              "three        1.95774\n",
              "appointed    1.95774\n",
              "west         1.95774\n",
              "family       1.89712\n",
              "along        1.83996\n",
              "certainly    1.83996\n",
              "service      1.83996\n",
              "huge         1.83996\n",
              "self         1.83996"
            ]
          },
          "metadata": {
            "tags": []
          },
          "execution_count": 87
        }
      ]
    },
    {
      "cell_type": "code",
      "metadata": {
        "id": "ieAPIAL0u3WB",
        "colab": {
          "base_uri": "https://localhost:8080/",
          "height": 1000
        },
        "outputId": "9f6ccc88-b361-4c9c-b817-b4755c6043ae"
      },
      "source": [
        "pmipos_bottom.sort_values(by='pmi',ascending=False).head(50)"
      ],
      "execution_count": 88,
      "outputs": [
        {
          "output_type": "execute_result",
          "data": {
            "text/html": [
              "<div>\n",
              "<style scoped>\n",
              "    .dataframe tbody tr th:only-of-type {\n",
              "        vertical-align: middle;\n",
              "    }\n",
              "\n",
              "    .dataframe tbody tr th {\n",
              "        vertical-align: top;\n",
              "    }\n",
              "\n",
              "    .dataframe thead th {\n",
              "        text-align: right;\n",
              "    }\n",
              "</style>\n",
              "<table border=\"1\" class=\"dataframe\">\n",
              "  <thead>\n",
              "    <tr style=\"text-align: right;\">\n",
              "      <th></th>\n",
              "      <th>pmi</th>\n",
              "    </tr>\n",
              "  </thead>\n",
              "  <tbody>\n",
              "    <tr>\n",
              "      <th>everyone</th>\n",
              "      <td>0.916291</td>\n",
              "    </tr>\n",
              "    <tr>\n",
              "      <th>aways</th>\n",
              "      <td>0.916291</td>\n",
              "    </tr>\n",
              "    <tr>\n",
              "      <th>find</th>\n",
              "      <td>0.916291</td>\n",
              "    </tr>\n",
              "    <tr>\n",
              "      <th>signs</th>\n",
              "      <td>0.916291</td>\n",
              "    </tr>\n",
              "    <tr>\n",
              "      <th>pointing</th>\n",
              "      <td>0.916291</td>\n",
              "    </tr>\n",
              "    <tr>\n",
              "      <th>right</th>\n",
              "      <td>0.916291</td>\n",
              "    </tr>\n",
              "    <tr>\n",
              "      <th>direction</th>\n",
              "      <td>0.916291</td>\n",
              "    </tr>\n",
              "    <tr>\n",
              "      <th>set</th>\n",
              "      <td>0.916291</td>\n",
              "    </tr>\n",
              "    <tr>\n",
              "      <th>quite</th>\n",
              "      <td>0.916291</td>\n",
              "    </tr>\n",
              "    <tr>\n",
              "      <th>see</th>\n",
              "      <td>0.916291</td>\n",
              "    </tr>\n",
              "    <tr>\n",
              "      <th>arriving</th>\n",
              "      <td>0.916291</td>\n",
              "    </tr>\n",
              "    <tr>\n",
              "      <th>main</th>\n",
              "      <td>0.916291</td>\n",
              "    </tr>\n",
              "    <tr>\n",
              "      <th>afar</th>\n",
              "      <td>0.916291</td>\n",
              "    </tr>\n",
              "    <tr>\n",
              "      <th>seem</th>\n",
              "      <td>0.916291</td>\n",
              "    </tr>\n",
              "    <tr>\n",
              "      <th>inside</th>\n",
              "      <td>0.916291</td>\n",
              "    </tr>\n",
              "    <tr>\n",
              "      <th>inviting</th>\n",
              "      <td>0.916291</td>\n",
              "    </tr>\n",
              "    <tr>\n",
              "      <th>warm</th>\n",
              "      <td>0.916291</td>\n",
              "    </tr>\n",
              "    <tr>\n",
              "      <th>darkening</th>\n",
              "      <td>0.916291</td>\n",
              "    </tr>\n",
              "    <tr>\n",
              "      <th>time</th>\n",
              "      <td>0.916291</td>\n",
              "    </tr>\n",
              "    <tr>\n",
              "      <th>upon</th>\n",
              "      <td>0.916291</td>\n",
              "    </tr>\n",
              "    <tr>\n",
              "      <th>wonderful</th>\n",
              "      <td>0.916291</td>\n",
              "    </tr>\n",
              "    <tr>\n",
              "      <th>grateful</th>\n",
              "      <td>0.916291</td>\n",
              "    </tr>\n",
              "    <tr>\n",
              "      <th>full</th>\n",
              "      <td>0.916291</td>\n",
              "    </tr>\n",
              "    <tr>\n",
              "      <th>look</th>\n",
              "      <td>0.916291</td>\n",
              "    </tr>\n",
              "    <tr>\n",
              "      <th>going</th>\n",
              "      <td>0.916291</td>\n",
              "    </tr>\n",
              "    <tr>\n",
              "      <th>happen</th>\n",
              "      <td>0.916291</td>\n",
              "    </tr>\n",
              "    <tr>\n",
              "      <th>went</th>\n",
              "      <td>0.916291</td>\n",
              "    </tr>\n",
              "    <tr>\n",
              "      <th>help</th>\n",
              "      <td>0.916291</td>\n",
              "    </tr>\n",
              "    <tr>\n",
              "      <th>forever</th>\n",
              "      <td>0.916291</td>\n",
              "    </tr>\n",
              "    <tr>\n",
              "      <th>ever</th>\n",
              "      <td>0.916291</td>\n",
              "    </tr>\n",
              "    <tr>\n",
              "      <th>minutes</th>\n",
              "      <td>0.916291</td>\n",
              "    </tr>\n",
              "    <tr>\n",
              "      <th>part</th>\n",
              "      <td>0.916291</td>\n",
              "    </tr>\n",
              "    <tr>\n",
              "      <th>robyn</th>\n",
              "      <td>0.916291</td>\n",
              "    </tr>\n",
              "    <tr>\n",
              "      <th>type</th>\n",
              "      <td>0.916291</td>\n",
              "    </tr>\n",
              "    <tr>\n",
              "      <th>nsmaller</th>\n",
              "      <td>0.916291</td>\n",
              "    </tr>\n",
              "    <tr>\n",
              "      <th>boutique</th>\n",
              "      <td>0.916291</td>\n",
              "    </tr>\n",
              "    <tr>\n",
              "      <th>nlocation</th>\n",
              "      <td>0.916291</td>\n",
              "    </tr>\n",
              "    <tr>\n",
              "      <th>nless</th>\n",
              "      <td>0.916291</td>\n",
              "    </tr>\n",
              "    <tr>\n",
              "      <th>shades</th>\n",
              "      <td>0.916291</td>\n",
              "    </tr>\n",
              "    <tr>\n",
              "      <th>cover</th>\n",
              "      <td>0.916291</td>\n",
              "    </tr>\n",
              "    <tr>\n",
              "      <th>window</th>\n",
              "      <td>0.916291</td>\n",
              "    </tr>\n",
              "    <tr>\n",
              "      <th>dvds</th>\n",
              "      <td>0.916291</td>\n",
              "    </tr>\n",
              "    <tr>\n",
              "      <th>improve</th>\n",
              "      <td>0.916291</td>\n",
              "    </tr>\n",
              "    <tr>\n",
              "      <th>property</th>\n",
              "      <td>0.916291</td>\n",
              "    </tr>\n",
              "    <tr>\n",
              "      <th>cable</th>\n",
              "      <td>0.916291</td>\n",
              "    </tr>\n",
              "    <tr>\n",
              "      <th>recent</th>\n",
              "      <td>0.916291</td>\n",
              "    </tr>\n",
              "    <tr>\n",
              "      <th>brought</th>\n",
              "      <td>0.916291</td>\n",
              "    </tr>\n",
              "    <tr>\n",
              "      <th>multiple</th>\n",
              "      <td>0.916291</td>\n",
              "    </tr>\n",
              "    <tr>\n",
              "      <th>boxes</th>\n",
              "      <td>0.916291</td>\n",
              "    </tr>\n",
              "    <tr>\n",
              "      <th>also</th>\n",
              "      <td>0.916291</td>\n",
              "    </tr>\n",
              "  </tbody>\n",
              "</table>\n",
              "</div>"
            ],
            "text/plain": [
              "                pmi\n",
              "everyone   0.916291\n",
              "aways      0.916291\n",
              "find       0.916291\n",
              "signs      0.916291\n",
              "pointing   0.916291\n",
              "right      0.916291\n",
              "direction  0.916291\n",
              "set        0.916291\n",
              "quite      0.916291\n",
              "see        0.916291\n",
              "arriving   0.916291\n",
              "main       0.916291\n",
              "afar       0.916291\n",
              "seem       0.916291\n",
              "inside     0.916291\n",
              "inviting   0.916291\n",
              "warm       0.916291\n",
              "darkening  0.916291\n",
              "time       0.916291\n",
              "upon       0.916291\n",
              "wonderful  0.916291\n",
              "grateful   0.916291\n",
              "full       0.916291\n",
              "look       0.916291\n",
              "going      0.916291\n",
              "happen     0.916291\n",
              "went       0.916291\n",
              "help       0.916291\n",
              "forever    0.916291\n",
              "ever       0.916291\n",
              "minutes    0.916291\n",
              "part       0.916291\n",
              "robyn      0.916291\n",
              "type       0.916291\n",
              "nsmaller   0.916291\n",
              "boutique   0.916291\n",
              "nlocation  0.916291\n",
              "nless      0.916291\n",
              "shades     0.916291\n",
              "cover      0.916291\n",
              "window     0.916291\n",
              "dvds       0.916291\n",
              "improve    0.916291\n",
              "property   0.916291\n",
              "cable      0.916291\n",
              "recent     0.916291\n",
              "brought    0.916291\n",
              "multiple   0.916291\n",
              "boxes      0.916291\n",
              "also       0.916291"
            ]
          },
          "metadata": {
            "tags": []
          },
          "execution_count": 88
        }
      ]
    },
    {
      "cell_type": "code",
      "metadata": {
        "id": "ltLwCqRau48W",
        "colab": {
          "base_uri": "https://localhost:8080/",
          "height": 1000
        },
        "outputId": "38c61d99-57e3-4632-bea9-ab4af0bf8fa1"
      },
      "source": [
        "pmineg_bottom.sort_values(by='pmi',ascending=False).head(50)"
      ],
      "execution_count": 89,
      "outputs": [
        {
          "output_type": "execute_result",
          "data": {
            "text/html": [
              "<div>\n",
              "<style scoped>\n",
              "    .dataframe tbody tr th:only-of-type {\n",
              "        vertical-align: middle;\n",
              "    }\n",
              "\n",
              "    .dataframe tbody tr th {\n",
              "        vertical-align: top;\n",
              "    }\n",
              "\n",
              "    .dataframe thead th {\n",
              "        text-align: right;\n",
              "    }\n",
              "</style>\n",
              "<table border=\"1\" class=\"dataframe\">\n",
              "  <thead>\n",
              "    <tr style=\"text-align: right;\">\n",
              "      <th></th>\n",
              "      <th>pmi</th>\n",
              "    </tr>\n",
              "  </thead>\n",
              "  <tbody>\n",
              "    <tr>\n",
              "      <th>support</th>\n",
              "      <td>0.510826</td>\n",
              "    </tr>\n",
              "    <tr>\n",
              "      <th>place</th>\n",
              "      <td>0.510826</td>\n",
              "    </tr>\n",
              "    <tr>\n",
              "      <th>sometimes</th>\n",
              "      <td>0.510826</td>\n",
              "    </tr>\n",
              "    <tr>\n",
              "      <th>websites</th>\n",
              "      <td>0.510826</td>\n",
              "    </tr>\n",
              "    <tr>\n",
              "      <th>reservation</th>\n",
              "      <td>0.510826</td>\n",
              "    </tr>\n",
              "    <tr>\n",
              "      <th>made</th>\n",
              "      <td>0.510826</td>\n",
              "    </tr>\n",
              "    <tr>\n",
              "      <th>conveniently</th>\n",
              "      <td>0.510826</td>\n",
              "    </tr>\n",
              "    <tr>\n",
              "      <th>closed</th>\n",
              "      <td>0.510826</td>\n",
              "    </tr>\n",
              "    <tr>\n",
              "      <th>recommend</th>\n",
              "      <td>0.510826</td>\n",
              "    </tr>\n",
              "    <tr>\n",
              "      <th>expected</th>\n",
              "      <td>0.510826</td>\n",
              "    </tr>\n",
              "    <tr>\n",
              "      <th>tag</th>\n",
              "      <td>0.510826</td>\n",
              "    </tr>\n",
              "    <tr>\n",
              "      <th>initially</th>\n",
              "      <td>0.510826</td>\n",
              "    </tr>\n",
              "    <tr>\n",
              "      <th>appreciated</th>\n",
              "      <td>0.510826</td>\n",
              "    </tr>\n",
              "    <tr>\n",
              "      <th>across</th>\n",
              "      <td>0.510826</td>\n",
              "    </tr>\n",
              "    <tr>\n",
              "      <th>standard</th>\n",
              "      <td>0.510826</td>\n",
              "    </tr>\n",
              "    <tr>\n",
              "      <th>star</th>\n",
              "      <td>0.510826</td>\n",
              "    </tr>\n",
              "    <tr>\n",
              "      <th>automatically</th>\n",
              "      <td>0.510826</td>\n",
              "    </tr>\n",
              "    <tr>\n",
              "      <th>renew</th>\n",
              "      <td>0.510826</td>\n",
              "    </tr>\n",
              "    <tr>\n",
              "      <th>listings</th>\n",
              "      <td>0.510826</td>\n",
              "    </tr>\n",
              "    <tr>\n",
              "      <th>owner</th>\n",
              "      <td>0.510826</td>\n",
              "    </tr>\n",
              "    <tr>\n",
              "      <th>knowing</th>\n",
              "      <td>0.510826</td>\n",
              "    </tr>\n",
              "    <tr>\n",
              "      <th>excuse</th>\n",
              "      <td>0.510826</td>\n",
              "    </tr>\n",
              "    <tr>\n",
              "      <th>fourth</th>\n",
              "      <td>0.510826</td>\n",
              "    </tr>\n",
              "    <tr>\n",
              "      <th>exepedia</th>\n",
              "      <td>0.510826</td>\n",
              "    </tr>\n",
              "    <tr>\n",
              "      <th>prove</th>\n",
              "      <td>0.510826</td>\n",
              "    </tr>\n",
              "    <tr>\n",
              "      <th>u2019re</th>\n",
              "      <td>0.510826</td>\n",
              "    </tr>\n",
              "    <tr>\n",
              "      <th>opened</th>\n",
              "      <td>0.510826</td>\n",
              "    </tr>\n",
              "    <tr>\n",
              "      <th>issued</th>\n",
              "      <td>0.510826</td>\n",
              "    </tr>\n",
              "    <tr>\n",
              "      <th>nshould</th>\n",
              "      <td>0.510826</td>\n",
              "    </tr>\n",
              "    <tr>\n",
              "      <th>mention</th>\n",
              "      <td>0.510826</td>\n",
              "    </tr>\n",
              "    <tr>\n",
              "      <th>looks</th>\n",
              "      <td>0.510826</td>\n",
              "    </tr>\n",
              "    <tr>\n",
              "      <th>came</th>\n",
              "      <td>0.510826</td>\n",
              "    </tr>\n",
              "    <tr>\n",
              "      <th>american</th>\n",
              "      <td>0.510826</td>\n",
              "    </tr>\n",
              "    <tr>\n",
              "      <th>nfar</th>\n",
              "      <td>0.510826</td>\n",
              "    </tr>\n",
              "    <tr>\n",
              "      <th>open</th>\n",
              "      <td>0.510826</td>\n",
              "    </tr>\n",
              "    <tr>\n",
              "      <th>zealand</th>\n",
              "      <td>0.510826</td>\n",
              "    </tr>\n",
              "    <tr>\n",
              "      <th>search</th>\n",
              "      <td>0.510826</td>\n",
              "    </tr>\n",
              "    <tr>\n",
              "      <th>farmers</th>\n",
              "      <td>0.510826</td>\n",
              "    </tr>\n",
              "    <tr>\n",
              "      <th>owned</th>\n",
              "      <td>0.510826</td>\n",
              "    </tr>\n",
              "    <tr>\n",
              "      <th>friendly</th>\n",
              "      <td>0.510826</td>\n",
              "    </tr>\n",
              "    <tr>\n",
              "      <th>try</th>\n",
              "      <td>0.510826</td>\n",
              "    </tr>\n",
              "    <tr>\n",
              "      <th>backpackers</th>\n",
              "      <td>0.510826</td>\n",
              "    </tr>\n",
              "    <tr>\n",
              "      <th>run</th>\n",
              "      <td>0.510826</td>\n",
              "    </tr>\n",
              "    <tr>\n",
              "      <th>mins</th>\n",
              "      <td>0.510826</td>\n",
              "    </tr>\n",
              "    <tr>\n",
              "      <th>bar</th>\n",
              "      <td>0.510826</td>\n",
              "    </tr>\n",
              "    <tr>\n",
              "      <th>waiting</th>\n",
              "      <td>0.510826</td>\n",
              "    </tr>\n",
              "    <tr>\n",
              "      <th>narrived</th>\n",
              "      <td>0.510826</td>\n",
              "    </tr>\n",
              "    <tr>\n",
              "      <th>next</th>\n",
              "      <td>0.510826</td>\n",
              "    </tr>\n",
              "    <tr>\n",
              "      <th>couples</th>\n",
              "      <td>0.510826</td>\n",
              "    </tr>\n",
              "    <tr>\n",
              "      <th>tight</th>\n",
              "      <td>0.510826</td>\n",
              "    </tr>\n",
              "  </tbody>\n",
              "</table>\n",
              "</div>"
            ],
            "text/plain": [
              "                    pmi\n",
              "support        0.510826\n",
              "place          0.510826\n",
              "sometimes      0.510826\n",
              "websites       0.510826\n",
              "reservation    0.510826\n",
              "made           0.510826\n",
              "conveniently   0.510826\n",
              "closed         0.510826\n",
              "recommend      0.510826\n",
              "expected       0.510826\n",
              "tag            0.510826\n",
              "initially      0.510826\n",
              "appreciated    0.510826\n",
              "across         0.510826\n",
              "standard       0.510826\n",
              "star           0.510826\n",
              "automatically  0.510826\n",
              "renew          0.510826\n",
              "listings       0.510826\n",
              "owner          0.510826\n",
              "knowing        0.510826\n",
              "excuse         0.510826\n",
              "fourth         0.510826\n",
              "exepedia       0.510826\n",
              "prove          0.510826\n",
              "u2019re        0.510826\n",
              "opened         0.510826\n",
              "issued         0.510826\n",
              "nshould        0.510826\n",
              "mention        0.510826\n",
              "looks          0.510826\n",
              "came           0.510826\n",
              "american       0.510826\n",
              "nfar           0.510826\n",
              "open           0.510826\n",
              "zealand        0.510826\n",
              "search         0.510826\n",
              "farmers        0.510826\n",
              "owned          0.510826\n",
              "friendly       0.510826\n",
              "try            0.510826\n",
              "backpackers    0.510826\n",
              "run            0.510826\n",
              "mins           0.510826\n",
              "bar            0.510826\n",
              "waiting        0.510826\n",
              "narrived       0.510826\n",
              "next           0.510826\n",
              "couples        0.510826\n",
              "tight          0.510826"
            ]
          },
          "metadata": {
            "tags": []
          },
          "execution_count": 89
        }
      ]
    },
    {
      "cell_type": "code",
      "metadata": {
        "id": "bDmYBZjBvGfe",
        "colab": {
          "base_uri": "https://localhost:8080/"
        },
        "outputId": "488044a6-c330-4184-b7f2-113fba1dee58"
      },
      "source": [
        "print(\"\"\"\n",
        "We can make inferences from the positive and negative words.  These inferences paint a picture of the experience at the hotel and what stands out.  \n",
        "The exception was the negative words for the bottom ranked location were not very useful.\n",
        "\n",
        "Top Ranked:\n",
        "Inference from Positive Words:\n",
        "- informative, knowledgable and pleasant staff\n",
        "- breakfast with pancakes and fruits\n",
        "- upgraded rooms\n",
        "Inference from Negative Words:\n",
        "- Expensive\n",
        "- Busy tourist season\n",
        "- Inflated reviews\n",
        "\n",
        "Bottom Ranked:\n",
        "Inference from Positive Words:\n",
        "- Inviting and warm\n",
        "- Robyn is a positive staff member\n",
        "- Smaller boutique location\n",
        "Inference from Negative Words:\n",
        "- Issues with reservations on the website\n",
        "- Backpackers at the hotel\n",
        "\"\"\")"
      ],
      "execution_count": 90,
      "outputs": [
        {
          "output_type": "stream",
          "text": [
            "\n",
            "We can make inferences from the positive and negative words.  These inferences paint a picture of the experience at the hotel and what stands out.  \n",
            "The exception was the negative words for the bottom ranked location were not very useful.\n",
            "\n",
            "Top Ranked:\n",
            "Inference from Positive Words:\n",
            "- informative, knowledgable and pleasant staff\n",
            "- breakfast with pancakes and fruits\n",
            "- upgraded rooms\n",
            "Inference from Negative Words:\n",
            "- Expensive\n",
            "- Busy tourist season\n",
            "- Inflated reviews\n",
            "\n",
            "Bottom Ranked:\n",
            "Inference from Positive Words:\n",
            "- Inviting and warm\n",
            "- Robyn is a positive staff member\n",
            "- Smaller boutique location\n",
            "Inference from Negative Words:\n",
            "- Issues with reservations on the website\n",
            "- Backpackers at the hotel\n",
            "\n"
          ],
          "name": "stdout"
        }
      ]
    },
    {
      "cell_type": "markdown",
      "metadata": {
        "id": "jffWaVFQlA7Y"
      },
      "source": [
        "# Visualization\n"
      ]
    },
    {
      "cell_type": "code",
      "metadata": {
        "id": "yV_HmlRWlBzf"
      },
      "source": [
        "# Show separate histograms of ground truth and Vader sentiment scores \n",
        "def getHistogram(df, measure, title,figsize=(10,5)):\n",
        "    fig = plt.figure(figsize=figsize)\n",
        "    plt.title(title)\n",
        "    \n",
        "    if measure=='both':\n",
        "        x = [df['ratingScore'].values/5]\n",
        "        y = [df['vader'].values]\n",
        "        bins = np.linspace(-1, 1, 100)\n",
        "        plt.hist(x, bins, label='normalized Ground Truth')\n",
        "        plt.hist(y, bins, label='vader')\n",
        "        plt.legend(loc='upper right')\n",
        "        plt.xlabel(\"Value\")\n",
        "        plt.ylabel(\"Frequency\")\n",
        "    else:\n",
        "        plt.hist(df[measure].values)\n",
        "\n",
        "    plt.xlabel(\"Value\")\n",
        "    plt.ylabel(\"Frequency\")"
      ],
      "execution_count": 91,
      "outputs": []
    },
    {
      "cell_type": "code",
      "metadata": {
        "id": "9UGgQKWclN9A",
        "colab": {
          "base_uri": "https://localhost:8080/",
          "height": 350
        },
        "outputId": "3249b520-7ab2-4a72-a648-de2e9931cd7a"
      },
      "source": [
        "getHistogram(finaldf,'ratingScore', 'Ground Truth')"
      ],
      "execution_count": 92,
      "outputs": [
        {
          "output_type": "display_data",
          "data": {
            "image/png": "[encoded data removed]",
            "text/plain": [
              "<Figure size 720x360 with 1 Axes>"
            ]
          },
          "metadata": {
            "tags": [],
            "needs_background": "light"
          }
        }
      ]
    },
    {
      "cell_type": "code",
      "metadata": {
        "id": "tUS4jOOilOu_",
        "colab": {
          "base_uri": "https://localhost:8080/",
          "height": 350
        },
        "outputId": "2bda0eb0-e3b6-4b1f-b8b1-21de59b2c9eb"
      },
      "source": [
        "getHistogram(finaldf, 'vader', 'Vadar Sentiment Analysis')"
      ],
      "execution_count": 93,
      "outputs": [
        {
          "output_type": "display_data",
          "data": {
            "image/png": "[encoded data removed]",
            "text/plain": [
              "<Figure size 720x360 with 1 Axes>"
            ]
          },
          "metadata": {
            "tags": [],
            "needs_background": "light"
          }
        }
      ]
    },
    {
      "cell_type": "code",
      "metadata": {
        "id": "ziX6nhHCxPzA"
      },
      "source": [
        "#finaldf.loc[(finaldf.groundTruth=='negative')].sort_values(by='ratingScore',ascending=False)"
      ],
      "execution_count": 94,
      "outputs": []
    },
    {
      "cell_type": "code",
      "metadata": {
        "id": "mv_JdK7inqp8",
        "colab": {
          "base_uri": "https://localhost:8080/",
          "height": 350
        },
        "outputId": "c1472561-905c-4f49-f821-c38710b283ea"
      },
      "source": [
        "# Show a histogram of the number of reviews per hotel. \n",
        "getHistogram(hotelDF.groupby(by='hotelName')[['ratingScore']].count().reset_index(),'ratingScore','Number of Reviews by Hotel')"
      ],
      "execution_count": 95,
      "outputs": [
        {
          "output_type": "display_data",
          "data": {
            "image/png": "[encoded data removed]",
            "text/plain": [
              "<Figure size 720x360 with 1 Axes>"
            ]
          },
          "metadata": {
            "tags": [],
            "needs_background": "light"
          }
        }
      ]
    },
    {
      "cell_type": "code",
      "metadata": {
        "id": "hKmD_-Kvn754",
        "colab": {
          "base_uri": "https://localhost:8080/"
        },
        "outputId": "5c9ed46d-789b-4739-b850-363aae0732f2"
      },
      "source": [
        "print(\"\"\"\n",
        "Most hotels are in the 0 - 200 review range with a steep fall-off after that.  Roughly half the hotels have 100-200 reviews.\n",
        "\"\"\")"
      ],
      "execution_count": 96,
      "outputs": [
        {
          "output_type": "stream",
          "text": [
            "\n",
            "Most hotels are in the 0 - 200 review range with a steep fall-off after that.  Roughly half the hotels have 100-200 reviews.\n",
            "\n"
          ],
          "name": "stdout"
        }
      ]
    },
    {
      "cell_type": "code",
      "metadata": {
        "id": "Pg4W9Atf74T1"
      },
      "source": [
        "# Show a plot of side-by-side boxplots for the top-5 ranked hotels according to star rating"
      ],
      "execution_count": 97,
      "outputs": []
    },
    {
      "cell_type": "code",
      "metadata": {
        "id": "PHlD36NzzVHx",
        "colab": {
          "base_uri": "https://localhost:8080/",
          "height": 509
        },
        "outputId": "bc031f1b-80ee-4206-e6d1-fd0fe93dbb87"
      },
      "source": [
        "hotel_list = []\n",
        "for hotel in list(q1a_rating[:5].index):\n",
        "  _hotel = finaldf.loc[finaldf['hotelName'] == hotel]['ratingScore']\n",
        "  hotel_list.append(_hotel)\n",
        "plt.figure(figsize=(10,5))\n",
        "plt.boxplot(hotel_list)\n",
        "plt.xticks(np.arange(1,6), q1a_rating[:5].index,rotation=45)\n",
        "plt.ylabel('ratingScore')\n",
        "plt.show()"
      ],
      "execution_count": 98,
      "outputs": [
        {
          "output_type": "stream",
          "text": [
            "/usr/local/lib/python3.6/dist-packages/numpy/core/_asarray.py:83: VisibleDeprecationWarning: Creating an ndarray from ragged nested sequences (which is a list-or-tuple of lists-or-tuples-or ndarrays with different lengths or shapes) is deprecated. If you meant to do this, you must specify 'dtype=object' when creating the ndarray\n",
            "  return array(a, dtype, copy=False, order=order)\n"
          ],
          "name": "stderr"
        },
        {
          "output_type": "display_data",
          "data": {
            "image/png": "[encoded data removed]",
            "text/plain": [
              "<Figure size 720x360 with 1 Axes>"
            ]
          },
          "metadata": {
            "tags": [],
            "needs_background": "light"
          }
        }
      ]
    },
    {
      "cell_type": "code",
      "metadata": {
        "id": "CMLMcZK17jOd",
        "colab": {
          "base_uri": "https://localhost:8080/",
          "height": 509
        },
        "outputId": "a8453e72-574d-48c5-c341-7f31902cad84"
      },
      "source": [
        "hotel_list = []\n",
        "for hotel in list(q1a_rating[:5].index):\n",
        "  _hotel = finaldf.loc[finaldf['hotelName'] == hotel]['vader']\n",
        "  hotel_list.append(_hotel)\n",
        "plt.figure(figsize=(10,5))\n",
        "plt.boxplot(hotel_list)\n",
        "plt.xticks(np.arange(1,6), q1a_rating[:5].index,rotation=45)\n",
        "plt.ylabel('vader')\n",
        "plt.show()"
      ],
      "execution_count": 99,
      "outputs": [
        {
          "output_type": "stream",
          "text": [
            "/usr/local/lib/python3.6/dist-packages/numpy/core/_asarray.py:83: VisibleDeprecationWarning: Creating an ndarray from ragged nested sequences (which is a list-or-tuple of lists-or-tuples-or ndarrays with different lengths or shapes) is deprecated. If you meant to do this, you must specify 'dtype=object' when creating the ndarray\n",
            "  return array(a, dtype, copy=False, order=order)\n"
          ],
          "name": "stderr"
        },
        {
          "output_type": "display_data",
          "data": {
            "image/png": "[encoded data removed]",
            "text/plain": [
              "<Figure size 720x360 with 1 Axes>"
            ]
          },
          "metadata": {
            "tags": [],
            "needs_background": "light"
          }
        }
      ]
    },
    {
      "cell_type": "code",
      "metadata": {
        "id": "1Ko2RZGysPsa"
      },
      "source": [
        "# Report the mean and variance of the ground truth and Vader sentiment scores for the top-5 ranked hotels according to star rating"
      ],
      "execution_count": 100,
      "outputs": []
    },
    {
      "cell_type": "code",
      "metadata": {
        "id": "YLo704T777t4"
      },
      "source": [
        "stats_top5_groundtruth = {}\n",
        "for hotel in list(q1a_rating[:5].index):\n",
        "  stats_top5_groundtruth[hotel] = tuple((finaldf.loc[finaldf['hotelName'] == hotel]['ratingScore'].mean(),finaldf.loc[finaldf['hotelName'] == hotel]['ratingScore'].var()))\n",
        "\n",
        "stats_top5_vader = {}\n",
        "for hotel in list(q1a_rating[:5].index):\n",
        "  stats_top5_vader[hotel] = tuple((finaldf.loc[finaldf['hotelName'] == hotel]['vader'].mean(),finaldf.loc[finaldf['hotelName'] == hotel]['vader'].var()))\n"
      ],
      "execution_count": 101,
      "outputs": []
    },
    {
      "cell_type": "code",
      "metadata": {
        "id": "GgIEkJ4C8xnB",
        "colab": {
          "base_uri": "https://localhost:8080/",
          "height": 204
        },
        "outputId": "4b909848-f89e-436f-8684-52a675ff2eba"
      },
      "source": [
        "pd.DataFrame.from_dict(stats_top5_groundtruth,orient='index',columns=['mean','variance'])"
      ],
      "execution_count": 102,
      "outputs": [
        {
          "output_type": "execute_result",
          "data": {
            "text/html": [
              "<div>\n",
              "<style scoped>\n",
              "    .dataframe tbody tr th:only-of-type {\n",
              "        vertical-align: middle;\n",
              "    }\n",
              "\n",
              "    .dataframe tbody tr th {\n",
              "        vertical-align: top;\n",
              "    }\n",
              "\n",
              "    .dataframe thead th {\n",
              "        text-align: right;\n",
              "    }\n",
              "</style>\n",
              "<table border=\"1\" class=\"dataframe\">\n",
              "  <thead>\n",
              "    <tr style=\"text-align: right;\">\n",
              "      <th></th>\n",
              "      <th>mean</th>\n",
              "      <th>variance</th>\n",
              "    </tr>\n",
              "  </thead>\n",
              "  <tbody>\n",
              "    <tr>\n",
              "      <th>Ribbonwood Retreat Bed and Breakfast</th>\n",
              "      <td>4.894118</td>\n",
              "      <td>0.130734</td>\n",
              "    </tr>\n",
              "    <tr>\n",
              "      <th>Holly Homestead B&amp;amp;B</th>\n",
              "      <td>4.798246</td>\n",
              "      <td>0.463360</td>\n",
              "    </tr>\n",
              "    <tr>\n",
              "      <th>Aspen Court Franz Josef</th>\n",
              "      <td>4.760000</td>\n",
              "      <td>0.306667</td>\n",
              "    </tr>\n",
              "    <tr>\n",
              "      <th>Glacier Highway Motel</th>\n",
              "      <td>4.666667</td>\n",
              "      <td>0.238095</td>\n",
              "    </tr>\n",
              "    <tr>\n",
              "      <th>Te Waonui Forest Retreat</th>\n",
              "      <td>4.568627</td>\n",
              "      <td>0.575131</td>\n",
              "    </tr>\n",
              "  </tbody>\n",
              "</table>\n",
              "</div>"
            ],
            "text/plain": [
              "                                          mean  variance\n",
              "Ribbonwood Retreat Bed and Breakfast  4.894118  0.130734\n",
              "Holly Homestead B&amp;B               4.798246  0.463360\n",
              "Aspen Court Franz Josef               4.760000  0.306667\n",
              "Glacier Highway Motel                 4.666667  0.238095\n",
              "Te Waonui Forest Retreat              4.568627  0.575131"
            ]
          },
          "metadata": {
            "tags": []
          },
          "execution_count": 102
        }
      ]
    },
    {
      "cell_type": "code",
      "metadata": {
        "id": "_DPFMsUC8veo",
        "colab": {
          "base_uri": "https://localhost:8080/",
          "height": 204
        },
        "outputId": "4d26cebe-8321-4037-c9ea-3fcf2e7839d8"
      },
      "source": [
        "pd.DataFrame.from_dict(stats_top5_vader,orient='index',columns=['mean','variance'])"
      ],
      "execution_count": 103,
      "outputs": [
        {
          "output_type": "execute_result",
          "data": {
            "text/html": [
              "<div>\n",
              "<style scoped>\n",
              "    .dataframe tbody tr th:only-of-type {\n",
              "        vertical-align: middle;\n",
              "    }\n",
              "\n",
              "    .dataframe tbody tr th {\n",
              "        vertical-align: top;\n",
              "    }\n",
              "\n",
              "    .dataframe thead th {\n",
              "        text-align: right;\n",
              "    }\n",
              "</style>\n",
              "<table border=\"1\" class=\"dataframe\">\n",
              "  <thead>\n",
              "    <tr style=\"text-align: right;\">\n",
              "      <th></th>\n",
              "      <th>mean</th>\n",
              "      <th>variance</th>\n",
              "    </tr>\n",
              "  </thead>\n",
              "  <tbody>\n",
              "    <tr>\n",
              "      <th>Ribbonwood Retreat Bed and Breakfast</th>\n",
              "      <td>0.959482</td>\n",
              "      <td>0.003888</td>\n",
              "    </tr>\n",
              "    <tr>\n",
              "      <th>Holly Homestead B&amp;amp;B</th>\n",
              "      <td>0.920522</td>\n",
              "      <td>0.045302</td>\n",
              "    </tr>\n",
              "    <tr>\n",
              "      <th>Aspen Court Franz Josef</th>\n",
              "      <td>0.885141</td>\n",
              "      <td>0.043503</td>\n",
              "    </tr>\n",
              "    <tr>\n",
              "      <th>Glacier Highway Motel</th>\n",
              "      <td>0.878860</td>\n",
              "      <td>0.071457</td>\n",
              "    </tr>\n",
              "    <tr>\n",
              "      <th>Te Waonui Forest Retreat</th>\n",
              "      <td>0.887034</td>\n",
              "      <td>0.083535</td>\n",
              "    </tr>\n",
              "  </tbody>\n",
              "</table>\n",
              "</div>"
            ],
            "text/plain": [
              "                                          mean  variance\n",
              "Ribbonwood Retreat Bed and Breakfast  0.959482  0.003888\n",
              "Holly Homestead B&amp;B               0.920522  0.045302\n",
              "Aspen Court Franz Josef               0.885141  0.043503\n",
              "Glacier Highway Motel                 0.878860  0.071457\n",
              "Te Waonui Forest Retreat              0.887034  0.083535"
            ]
          },
          "metadata": {
            "tags": []
          },
          "execution_count": 103
        }
      ]
    },
    {
      "cell_type": "code",
      "metadata": {
        "id": "jgyq3M8h0UoC"
      },
      "source": [
        "# Show both a scatterplot and heatmap of ground truth score (star rating) versus Vader sentiment score. "
      ],
      "execution_count": 104,
      "outputs": []
    },
    {
      "cell_type": "code",
      "metadata": {
        "id": "hHuFlid80X-G",
        "colab": {
          "base_uri": "https://localhost:8080/",
          "height": 350
        },
        "outputId": "c71e0941-0fce-4ca7-831c-5ad035e49ab3"
      },
      "source": [
        "fig, ax = plt.subplots(1,2,figsize=(15,5),sharex=False,sharey=False)\n",
        "rating_scores = finaldf['ratingScore'].values\n",
        "vader_scores = finaldf['vader'].values\n",
        "ax[0].plot(vader_scores, rating_scores,\"o\")\n",
        "ax[1].plot(vader_scores, rating_scores,\"o\", alpha=0.3)\n",
        "\n",
        "ax[0].set_title('Rating vs Vader')\n",
        "ax[1].set_title('Rating vs Vader - with alpha adjusted')\n",
        "\n",
        "for _ax in ax:\n",
        "  _ax.set_ylabel('Rating')\n",
        "  _ax.set_xlabel('Vader Score')"
      ],
      "execution_count": 105,
      "outputs": [
        {
          "output_type": "display_data",
          "data": {
            "image/png": "[encoded data removed]",
            "text/plain": [
              "<Figure size 1080x360 with 2 Axes>"
            ]
          },
          "metadata": {
            "tags": [],
            "needs_background": "light"
          }
        }
      ]
    },
    {
      "cell_type": "code",
      "metadata": {
        "id": "f8z46ziU0hmA"
      },
      "source": [
        "k = gaussian_kde(np.vstack([vader_scores, rating_scores]))\n",
        "xi, yi = np.mgrid[vader_scores.min():vader_scores.max():vader_scores.size**0.5*1j,rating_scores.min():rating_scores.max():rating_scores.size**0.5*1j]\n",
        "zi = k(np.vstack([xi.flatten(), yi.flatten()]))"
      ],
      "execution_count": 106,
      "outputs": []
    },
    {
      "cell_type": "code",
      "metadata": {
        "id": "0LgiEGVz0kDC",
        "colab": {
          "base_uri": "https://localhost:8080/",
          "height": 350
        },
        "outputId": "4aed5321-20ef-468b-dfa3-5ea7c6f6edc3"
      },
      "source": [
        "cmap = sns.cubehelix_palette(light=1, as_cmap=True)\n",
        "fig, (ax1,ax2) = plt.subplots(1,2, figsize=(15,5))\n",
        "\n",
        "\n",
        "b1 = ax1.pcolormesh(xi, yi, np.log10(zi.reshape(xi.shape)), cmap=cmap)\n",
        "b2 = ax2.contourf(xi, yi, np.log10(zi.reshape(xi.shape)), cmap=cmap)\n",
        "\n",
        "ax1.set_xlim(vader_scores.min(), vader_scores.max())\n",
        "ax1.set_ylim(rating_scores.min(), rating_scores.max())\n",
        "ax2.set_xlim(vader_scores.min(), vader_scores.max())\n",
        "ax2.set_ylim(rating_scores.min(), rating_scores.max())\n",
        "\n",
        "ax1.set_xlabel('Vader Score')\n",
        "ax1.set_ylabel('Rating')\n",
        "\n",
        "ax2.set_xlabel('Vader Score')\n",
        "ax2.set_ylabel('Rating')\n",
        "\n",
        "fig.colorbar(b1, ax=ax1)\n",
        "fig.colorbar(b2, ax=ax2)\n",
        "\n",
        "ax1.set_title('Rating vs Vader - heatmap')\n",
        "ax2.set_title('Rating vs Vader - kernel density');"
      ],
      "execution_count": 107,
      "outputs": [
        {
          "output_type": "display_data",
          "data": {
            "image/png": "[encoded data removed]",
            "text/plain": [
              "<Figure size 1080x360 with 4 Axes>"
            ]
          },
          "metadata": {
            "tags": [],
            "needs_background": "light"
          }
        }
      ]
    },
    {
      "cell_type": "code",
      "metadata": {
        "id": "YXA5PaxY272r",
        "colab": {
          "base_uri": "https://localhost:8080/"
        },
        "outputId": "0b1e1d40-de08-4bb6-b16a-a3362110b8e8"
      },
      "source": [
        "print(\"\"\"  \n",
        "This tells us that vader scores struggle to identify star ratings below 4.  \n",
        "This also tells us that vader scores struggle to differentiate between star ratings  \n",
        "- The hotspots for ratings 3,4,5 are all to the far right of the plot\n",
        "- We would hope to see the hotspot for 4 further to the left for example\n",
        "\n",
        "- We are concerned with density here\n",
        "- For ratings of 5 on the y-axis we want to see high density to the right side of the plot\n",
        "- For ratings of 1 we want to see high density on the left side of the plot\n",
        "- We see accurate ratings for 5 however higher variance across the axis for 1\n",
        "\n",
        "- Vader skews very highly towards high ratings and is better with positive sentiment than negative sentiment\n",
        "- This may be due to the hypothesis stated earlier.  A review is unlikely to be entirely negative, and will often contain some positive feedback making it more difficult to detect\n",
        "- We can also notice that there is a drop-off in accuracy after 5.  Ratings of 3 and 2 are especially difficult for vader\n",
        "\"\"\")"
      ],
      "execution_count": 108,
      "outputs": [
        {
          "output_type": "stream",
          "text": [
            "  \n",
            "This tells us that vader scores struggle to identify star ratings below 4.  \n",
            "This also tells us that vader scores struggle to differentiate between star ratings  \n",
            "- The hotspots for ratings 3,4,5 are all to the far right of the plot\n",
            "- We would hope to see the hotspot for 4 further to the left for example\n",
            "\n",
            "- We are concerned with density here\n",
            "- For ratings of 5 on the y-axis we want to see high density to the right side of the plot\n",
            "- For ratings of 1 we want to see high density on the left side of the plot\n",
            "- We see accurate ratings for 5 however higher variance across the axis for 1\n",
            "\n",
            "- Vader skews very highly towards high ratings and is better with positive sentiment than negative sentiment\n",
            "- This may be due to the hypothesis stated earlier.  A review is unlikely to be entirely negative, and will often contain some positive feedback making it more difficult to detect\n",
            "- We can also notice that there is a drop-off in accuracy after 5.  Ratings of 3 and 2 are especially difficult for vader\n",
            "\n"
          ],
          "name": "stdout"
        }
      ]
    },
    {
      "cell_type": "code",
      "metadata": {
        "id": "ogqJIT3V0Svn"
      },
      "source": [
        "# Show two scatterplots and two heatmaps of the length of reviews versus each of ground truth score and Vader sentiment score"
      ],
      "execution_count": 109,
      "outputs": []
    },
    {
      "cell_type": "code",
      "metadata": {
        "id": "t26pZFX9_JiE",
        "colab": {
          "base_uri": "https://localhost:8080/",
          "height": 350
        },
        "outputId": "37e215f8-97e5-41f7-c2b5-eef9926e0c9c"
      },
      "source": [
        "fig, ax = plt.subplots(1,2,figsize=(15,5),sharex=False,sharey=False)\n",
        "rating_scores = finaldf['ratingScore'].values\n",
        "vader_scores = finaldf['vader'].values\n",
        "len_values = np.array([len(x) for x in finaldf['reviewCol'].values])\n",
        "ax[0].plot(len_values, rating_scores,\"o\", alpha=0.3)\n",
        "ax[1].plot(len_values, vader_scores,\"o\", alpha=0.3)\n",
        "\n",
        "ax[0].set_title('Length of Review vs Rating')\n",
        "ax[1].set_title('Length of Review vs Vader')\n",
        "ax[0].set_ylabel('Rating')\n",
        "ax[0].set_ylabel('Vader')\n",
        "for _ax in ax:\n",
        "  _ax.set_xlabel('Length of Review')"
      ],
      "execution_count": 110,
      "outputs": [
        {
          "output_type": "display_data",
          "data": {
            "image/png": "[encoded data removed]",
            "text/plain": [
              "<Figure size 1080x360 with 2 Axes>"
            ]
          },
          "metadata": {
            "tags": [],
            "needs_background": "light"
          }
        }
      ]
    },
    {
      "cell_type": "code",
      "metadata": {
        "id": "HSNof2ts_rIn",
        "colab": {
          "base_uri": "https://localhost:8080/",
          "height": 350
        },
        "outputId": "3bb82190-e33e-4757-8f81-34f15fab8015"
      },
      "source": [
        "k1 = gaussian_kde(np.vstack([len_values, rating_scores]))\n",
        "k2 = gaussian_kde(np.vstack([len_values, vader_scores]))\n",
        "xi1, yi1 = np.mgrid[len_values.min():len_values.max():len_values.size**0.5*1j,rating_scores.min():rating_scores.max():rating_scores.size**0.5*1j]\n",
        "xi2, yi2 = np.mgrid[len_values.min():len_values.max():len_values.size**0.5*1j,vader_scores.min():vader_scores.max():vader_scores.size**0.5*1j]\n",
        "zi1 = k1(np.vstack([xi1.flatten(), yi1.flatten()]))\n",
        "zi2 = k2(np.vstack([xi2.flatten(), yi2.flatten()]))\n",
        "\n",
        "cmap = sns.cubehelix_palette(light=1, as_cmap=True)\n",
        "fig, (ax1,ax2) = plt.subplots(1,2, figsize=(15,5))\n",
        "\n",
        "\n",
        "b1 = ax1.pcolormesh(xi1, yi1, np.log10(zi1.reshape(xi1.shape)), cmap=cmap)\n",
        "b2 = ax2.pcolormesh(xi2, yi2, np.log10(zi2.reshape(xi2.shape)), cmap=cmap)\n",
        "\n",
        "ax1.set_xlim(len_values.min(), len_values.max())\n",
        "ax1.set_ylim(rating_scores.min(), rating_scores.max())\n",
        "ax2.set_xlim(len_values.min(), len_values.max())\n",
        "ax2.set_ylim(vader_scores.min(), vader_scores.max())\n",
        "\n",
        "ax1.set_xlabel('Length of Rating')\n",
        "ax1.set_ylabel('Rating')\n",
        "\n",
        "ax2.set_xlabel('Length of Rating')\n",
        "ax2.set_ylabel('Vader')\n",
        "\n",
        "fig.colorbar(b1, ax=ax1)\n",
        "fig.colorbar(b2, ax=ax2)\n",
        "\n",
        "ax1.set_title('Length of Rating vs Rating - heatmap')\n",
        "ax2.set_title('Length of Rating vs Vader - heatmap');"
      ],
      "execution_count": 111,
      "outputs": [
        {
          "output_type": "display_data",
          "data": {
            "image/png": "[encoded data removed]",
            "text/plain": [
              "<Figure size 1080x360 with 4 Axes>"
            ]
          },
          "metadata": {
            "tags": [],
            "needs_background": "light"
          }
        }
      ]
    },
    {
      "cell_type": "code",
      "metadata": {
        "id": "II07foAtE0sQ",
        "colab": {
          "base_uri": "https://localhost:8080/"
        },
        "outputId": "9b09f61e-8980-4199-8703-beb8e38f7089"
      },
      "source": [
        "print(\"\"\"\n",
        "- Longer reviews are more likely to have a higher vader sentiment score.\n",
        "- This could connect back to the hypothesis about negative reviews being hard to detect with vader, longer reviews may be even more likely to contain some degree of positive sentiment.\n",
        "- There is no significant trend observed with ground truth scores.  Review length has little correlation with score.\n",
        "\"\"\")"
      ],
      "execution_count": 112,
      "outputs": [
        {
          "output_type": "stream",
          "text": [
            "\n",
            "- Longer reviews are more likely to have a higher vader sentiment score.\n",
            "- This could connect back to the hypothesis about negative reviews being hard to detect with vader, longer reviews may be even more likely to contain some degree of positive sentiment.\n",
            "- There is no significant trend observed with ground truth scores.  Review length has little correlation with score.\n",
            "\n"
          ],
          "name": "stdout"
        }
      ]
    },
    {
      "cell_type": "code",
      "metadata": {
        "id": "pSfuPP-1GDEY"
      },
      "source": [
        "# Show two scatterplots of the number of reviews per hotel versus each of average ground truth score and average Vader sentiment score. "
      ],
      "execution_count": 113,
      "outputs": []
    },
    {
      "cell_type": "code",
      "metadata": {
        "id": "vcjGIujnHuLb"
      },
      "source": [
        "avg_rating = finaldf.groupby(by=['hotelName'])[['ratingScore']].mean()\n",
        "avg_vader = finaldf.groupby(by=['hotelName'])[['vader']].mean()\n",
        "avg_reviews = finaldf.groupby(by=['hotelName'])[['reviewCol']].count()"
      ],
      "execution_count": 114,
      "outputs": []
    },
    {
      "cell_type": "code",
      "metadata": {
        "id": "QH1FiunBHL05",
        "colab": {
          "base_uri": "https://localhost:8080/",
          "height": 350
        },
        "outputId": "d8702bdd-62ce-413a-c3a1-0c581f9aaf4d"
      },
      "source": [
        "fig, ax = plt.subplots(1,2,figsize=(15,5),sharex=False,sharey=False)\n",
        "rating_scores = avg_rating.values\n",
        "vader_scores = avg_vader.values\n",
        "n_reviews = avg_reviews.values\n",
        "ax[0].plot(n_reviews, rating_scores,\"o\", alpha=0.3)\n",
        "ax[1].plot(n_reviews, vader_scores,\"o\", alpha=0.3)\n",
        "\n",
        "ax[0].set_title('Number of Reviews vs Rating')\n",
        "ax[1].set_title('Number of Reviews vs Vader')\n",
        "ax[0].set_ylabel('Rating')\n",
        "ax[1].set_ylabel('Vader')\n",
        "for _ax in ax:\n",
        "  _ax.set_xlabel('Number of Reviews')"
      ],
      "execution_count": 115,
      "outputs": [
        {
          "output_type": "display_data",
          "data": {
            "image/png": "[encoded data removed]",
            "text/plain": [
              "<Figure size 1080x360 with 2 Axes>"
            ]
          },
          "metadata": {
            "tags": [],
            "needs_background": "light"
          }
        }
      ]
    },
    {
      "cell_type": "code",
      "metadata": {
        "id": "OPZQikRfInpv",
        "colab": {
          "base_uri": "https://localhost:8080/"
        },
        "outputId": "07adc68d-7ac9-434a-f00a-fcb82c0a5f79"
      },
      "source": [
        "print(\"\"\"\n",
        "- Both ground truth and vader show similar trends\n",
        "- Low rated hotels in both ground truth and vader will have a low number of reviews\n",
        "- The hotels with the most reviews will have high ratings \n",
        "- There is no trend in-between these extremes\n",
        "\"\"\")"
      ],
      "execution_count": 116,
      "outputs": [
        {
          "output_type": "stream",
          "text": [
            "\n",
            "- Both ground truth and vader show similar trends\n",
            "- Low rated hotels in both ground truth and vader will have a low number of reviews\n",
            "- The hotels with the most reviews will have high ratings \n",
            "- There is no trend in-between these extremes\n",
            "\n"
          ],
          "name": "stdout"
        }
      ]
    },
    {
      "cell_type": "code",
      "metadata": {
        "id": "EjFlPkdQKt_h"
      },
      "source": [
        "def make_address(row):\n",
        "  # individual columns need to be combined\n",
        "  return row['streetAddress']+\", \"+row['City']+\", \"+row['Province']"
      ],
      "execution_count": 117,
      "outputs": []
    },
    {
      "cell_type": "code",
      "metadata": {
        "id": "uzeJZH2YK-vY"
      },
      "source": [
        "def avg_rating_per_hotel(df):\n",
        "  # average the scores over all hotels, you may need to provide additional filtering\n",
        "  tempDf = df[['hotelName','vader','ratingScore','reviewCol']]\n",
        "  tempDf.columns = ['hotelName','AverageVader', 'AverageRatingScore','n_reviews']\n",
        "  tempDf = tempDf.groupby('hotelName').agg({'AverageVader':'mean', 'AverageRatingScore':'mean','n_reviews':'count'})\n",
        "  return tempDf"
      ],
      "execution_count": 118,
      "outputs": []
    },
    {
      "cell_type": "code",
      "metadata": {
        "id": "1hgjZJRWK_il"
      },
      "source": [
        "avg_rating_df = avg_rating_per_hotel(finaldf)"
      ],
      "execution_count": 119,
      "outputs": []
    },
    {
      "cell_type": "code",
      "metadata": {
        "id": "-1cKT_HzKuUU",
        "colab": {
          "base_uri": "https://localhost:8080/",
          "height": 320
        },
        "outputId": "54776bc6-d7ec-4463-85e5-859454ba41e6"
      },
      "source": [
        "# Need the location for each hotel in a format the tool can handle\n",
        "\n",
        "geo_rating_df = avg_rating_df\\\n",
        "                         .join(hotelDF.groupby('hotelName')\\\n",
        "                         .agg({'streetAddress':'max','City':'max','Province':'max','postalCode':'max'}))\n",
        "geo_rating_df['formed_address'] = geo_rating_df.apply(make_address , axis=1)\n",
        "geo_rating_df.tail()"
      ],
      "execution_count": 120,
      "outputs": [
        {
          "output_type": "execute_result",
          "data": {
            "text/html": [
              "<div>\n",
              "<style scoped>\n",
              "    .dataframe tbody tr th:only-of-type {\n",
              "        vertical-align: middle;\n",
              "    }\n",
              "\n",
              "    .dataframe tbody tr th {\n",
              "        vertical-align: top;\n",
              "    }\n",
              "\n",
              "    .dataframe thead th {\n",
              "        text-align: right;\n",
              "    }\n",
              "</style>\n",
              "<table border=\"1\" class=\"dataframe\">\n",
              "  <thead>\n",
              "    <tr style=\"text-align: right;\">\n",
              "      <th></th>\n",
              "      <th>AverageVader</th>\n",
              "      <th>AverageRatingScore</th>\n",
              "      <th>n_reviews</th>\n",
              "      <th>streetAddress</th>\n",
              "      <th>City</th>\n",
              "      <th>Province</th>\n",
              "      <th>postalCode</th>\n",
              "      <th>formed_address</th>\n",
              "    </tr>\n",
              "    <tr>\n",
              "      <th>hotelName</th>\n",
              "      <th></th>\n",
              "      <th></th>\n",
              "      <th></th>\n",
              "      <th></th>\n",
              "      <th></th>\n",
              "      <th></th>\n",
              "      <th></th>\n",
              "      <th></th>\n",
              "    </tr>\n",
              "  </thead>\n",
              "  <tbody>\n",
              "    <tr>\n",
              "      <th>Ribbonwood Retreat Bed and Breakfast</th>\n",
              "      <td>0.959482</td>\n",
              "      <td>4.894118</td>\n",
              "      <td>170</td>\n",
              "      <td>26 Greens Road</td>\n",
              "      <td>Franz Josef</td>\n",
              "      <td>South Island</td>\n",
              "      <td>7856.0</td>\n",
              "      <td>26 Greens Road, Franz Josef, South Island</td>\n",
              "    </tr>\n",
              "    <tr>\n",
              "      <th>Scenic Hotel Franz Josef Glacier</th>\n",
              "      <td>0.771599</td>\n",
              "      <td>4.027837</td>\n",
              "      <td>467</td>\n",
              "      <td>36 Main Rd Off State Hwy 6</td>\n",
              "      <td>Franz Josef</td>\n",
              "      <td>South Island</td>\n",
              "      <td>7856.0</td>\n",
              "      <td>36 Main Rd Off State Hwy 6, Franz Josef, South Island</td>\n",
              "    </tr>\n",
              "    <tr>\n",
              "      <th>Te Waonui Forest Retreat</th>\n",
              "      <td>0.887034</td>\n",
              "      <td>4.568627</td>\n",
              "      <td>408</td>\n",
              "      <td>3 Wallace Street</td>\n",
              "      <td>Franz Josef</td>\n",
              "      <td>South Island</td>\n",
              "      <td>7856.0</td>\n",
              "      <td>3 Wallace Street, Franz Josef, South Island</td>\n",
              "    </tr>\n",
              "    <tr>\n",
              "      <th>The Terrace Motel</th>\n",
              "      <td>0.809137</td>\n",
              "      <td>4.379487</td>\n",
              "      <td>195</td>\n",
              "      <td>15 Cowan Street</td>\n",
              "      <td>Franz Josef</td>\n",
              "      <td>South Island</td>\n",
              "      <td>NaN</td>\n",
              "      <td>15 Cowan Street, Franz Josef, South Island</td>\n",
              "    </tr>\n",
              "    <tr>\n",
              "      <th>Westwood Lodge</th>\n",
              "      <td>0.882657</td>\n",
              "      <td>4.565891</td>\n",
              "      <td>129</td>\n",
              "      <td>Rapid Number 2919 State Highway 6</td>\n",
              "      <td>Franz Josef</td>\n",
              "      <td>South Island</td>\n",
              "      <td>7952.0</td>\n",
              "      <td>Rapid Number 2919 State Highway 6, Franz Josef, South Island</td>\n",
              "    </tr>\n",
              "  </tbody>\n",
              "</table>\n",
              "</div>"
            ],
            "text/plain": [
              "                                      AverageVader  AverageRatingScore  n_reviews                      streetAddress         City      Province  postalCode                                                formed_address\n",
              "hotelName                                                                                                                                                                                                                \n",
              "Ribbonwood Retreat Bed and Breakfast      0.959482            4.894118        170                     26 Greens Road  Franz Josef  South Island      7856.0                     26 Greens Road, Franz Josef, South Island\n",
              "Scenic Hotel Franz Josef Glacier          0.771599            4.027837        467         36 Main Rd Off State Hwy 6  Franz Josef  South Island      7856.0         36 Main Rd Off State Hwy 6, Franz Josef, South Island\n",
              "Te Waonui Forest Retreat                  0.887034            4.568627        408                   3 Wallace Street  Franz Josef  South Island      7856.0                   3 Wallace Street, Franz Josef, South Island\n",
              "The Terrace Motel                         0.809137            4.379487        195                    15 Cowan Street  Franz Josef  South Island         NaN                    15 Cowan Street, Franz Josef, South Island\n",
              "Westwood Lodge                            0.882657            4.565891        129  Rapid Number 2919 State Highway 6  Franz Josef  South Island      7952.0  Rapid Number 2919 State Highway 6, Franz Josef, South Island"
            ]
          },
          "metadata": {
            "tags": []
          },
          "execution_count": 120
        }
      ]
    },
    {
      "cell_type": "code",
      "metadata": {
        "id": "ZdaKejGCKsMp",
        "colab": {
          "base_uri": "https://localhost:8080/",
          "height": 558
        },
        "outputId": "771f3e1e-9e1b-47b2-e2ab-6969e4836dee"
      },
      "source": [
        "# 0 - need to give the tool a generic name.\n",
        "locator = Nominatim(user_agent='myGeocoder')\n",
        "# 1 - conveneint function to delay between geocoding calls\n",
        "geocode = RateLimiter(locator.geocode, min_delay_seconds=1)\n",
        "# 2 - form the location string\n",
        "geo_rating_df['location'] = geo_rating_df['formed_address'].apply(geocode)\n",
        "# 3 - create longitude, laatitude and altitude from location column (returns tuple)\n",
        "geo_rating_df['point'] = geo_rating_df['location'].apply(lambda loc: tuple(loc.point) if loc else None)\n",
        "# 4 - split point column into latitude, longitude and altitude columns\n",
        "geo_rating_df[['latitude', 'longitude', 'altitude']] = pd.DataFrame(geo_rating_df['point'].tolist(), index=geo_rating_df.index)\n",
        "\n",
        "geo_rating_df.head()"
      ],
      "execution_count": 121,
      "outputs": [
        {
          "output_type": "execute_result",
          "data": {
            "text/html": [
              "<div>\n",
              "<style scoped>\n",
              "    .dataframe tbody tr th:only-of-type {\n",
              "        vertical-align: middle;\n",
              "    }\n",
              "\n",
              "    .dataframe tbody tr th {\n",
              "        vertical-align: top;\n",
              "    }\n",
              "\n",
              "    .dataframe thead th {\n",
              "        text-align: right;\n",
              "    }\n",
              "</style>\n",
              "<table border=\"1\" class=\"dataframe\">\n",
              "  <thead>\n",
              "    <tr style=\"text-align: right;\">\n",
              "      <th></th>\n",
              "      <th>AverageVader</th>\n",
              "      <th>AverageRatingScore</th>\n",
              "      <th>n_reviews</th>\n",
              "      <th>streetAddress</th>\n",
              "      <th>City</th>\n",
              "      <th>Province</th>\n",
              "      <th>postalCode</th>\n",
              "      <th>formed_address</th>\n",
              "      <th>location</th>\n",
              "      <th>point</th>\n",
              "      <th>latitude</th>\n",
              "      <th>longitude</th>\n",
              "      <th>altitude</th>\n",
              "    </tr>\n",
              "    <tr>\n",
              "      <th>hotelName</th>\n",
              "      <th></th>\n",
              "      <th></th>\n",
              "      <th></th>\n",
              "      <th></th>\n",
              "      <th></th>\n",
              "      <th></th>\n",
              "      <th></th>\n",
              "      <th></th>\n",
              "      <th></th>\n",
              "      <th></th>\n",
              "      <th></th>\n",
              "      <th></th>\n",
              "      <th></th>\n",
              "    </tr>\n",
              "  </thead>\n",
              "  <tbody>\n",
              "    <tr>\n",
              "      <th>10 Cottages</th>\n",
              "      <td>0.822897</td>\n",
              "      <td>4.264516</td>\n",
              "      <td>155</td>\n",
              "      <td>8 Graham Place</td>\n",
              "      <td>Franz Josef</td>\n",
              "      <td>South Island</td>\n",
              "      <td>7856.0</td>\n",
              "      <td>8 Graham Place, Franz Josef, South Island</td>\n",
              "      <td>(8, Graham Place, Franz Josef / Waiau, Westland District, West Coast, 7856, New Zealand / Aotearoa, (-43.3870047, 170.1847372))</td>\n",
              "      <td>(-43.3870047, 170.1847372, 0.0)</td>\n",
              "      <td>-43.387005</td>\n",
              "      <td>170.184737</td>\n",
              "      <td>0.0</td>\n",
              "    </tr>\n",
              "    <tr>\n",
              "      <th>58 On Cron Motel</th>\n",
              "      <td>0.867409</td>\n",
              "      <td>4.422222</td>\n",
              "      <td>270</td>\n",
              "      <td>58 Cron Street</td>\n",
              "      <td>Franz Josef</td>\n",
              "      <td>South Island</td>\n",
              "      <td>7886.0</td>\n",
              "      <td>58 Cron Street, Franz Josef, South Island</td>\n",
              "      <td>(58 on Cron, 58, Cron Street, Franz Josef / Waiau, Westland District, West Coast, 7952, New Zealand / Aotearoa, (-43.3848607, 170.1844537))</td>\n",
              "      <td>(-43.3848607, 170.1844537, 0.0)</td>\n",
              "      <td>-43.384861</td>\n",
              "      <td>170.184454</td>\n",
              "      <td>0.0</td>\n",
              "    </tr>\n",
              "    <tr>\n",
              "      <th>Alpine Escape</th>\n",
              "      <td>0.819480</td>\n",
              "      <td>4.000000</td>\n",
              "      <td>5</td>\n",
              "      <td>6 Ferguson Place</td>\n",
              "      <td>Franz Josef</td>\n",
              "      <td>South Island</td>\n",
              "      <td>7856.0</td>\n",
              "      <td>6 Ferguson Place, Franz Josef, South Island</td>\n",
              "      <td>None</td>\n",
              "      <td>None</td>\n",
              "      <td>NaN</td>\n",
              "      <td>NaN</td>\n",
              "      <td>NaN</td>\n",
              "    </tr>\n",
              "    <tr>\n",
              "      <th>Alpine Glacier Motor Lodge</th>\n",
              "      <td>0.794877</td>\n",
              "      <td>4.232258</td>\n",
              "      <td>310</td>\n",
              "      <td>17 Cron Street</td>\n",
              "      <td>Franz Josef</td>\n",
              "      <td>South Island</td>\n",
              "      <td>NaN</td>\n",
              "      <td>17 Cron Street, Franz Josef, South Island</td>\n",
              "      <td>(17, Cron Street, Franz Josef / Waiau, Westland District, West Coast, 7952, New Zealand / Aotearoa, (-43.3885702, 170.1831467))</td>\n",
              "      <td>(-43.3885702, 170.1831467, 0.0)</td>\n",
              "      <td>-43.388570</td>\n",
              "      <td>170.183147</td>\n",
              "      <td>0.0</td>\n",
              "    </tr>\n",
              "    <tr>\n",
              "      <th>Aspen Court Franz Josef</th>\n",
              "      <td>0.885141</td>\n",
              "      <td>4.760000</td>\n",
              "      <td>775</td>\n",
              "      <td>76 Cron Street</td>\n",
              "      <td>Franz Josef</td>\n",
              "      <td>South Island</td>\n",
              "      <td>7856.0</td>\n",
              "      <td>76 Cron Street, Franz Josef, South Island</td>\n",
              "      <td>(76, Cron Street, Franz Josef / Waiau, Westland District, West Coast, 7952, New Zealand / Aotearoa, (-43.3839591, 170.1855716))</td>\n",
              "      <td>(-43.3839591, 170.1855716, 0.0)</td>\n",
              "      <td>-43.383959</td>\n",
              "      <td>170.185572</td>\n",
              "      <td>0.0</td>\n",
              "    </tr>\n",
              "  </tbody>\n",
              "</table>\n",
              "</div>"
            ],
            "text/plain": [
              "                            AverageVader  AverageRatingScore  n_reviews     streetAddress         City      Province  postalCode                               formed_address                                                                                                                                     location                            point   latitude   longitude  altitude\n",
              "hotelName                                                                                                                                                                                                                                                                                                                                                                                   \n",
              "10 Cottages                     0.822897            4.264516        155    8 Graham Place  Franz Josef  South Island      7856.0    8 Graham Place, Franz Josef, South Island              (8, Graham Place, Franz Josef / Waiau, Westland District, West Coast, 7856, New Zealand / Aotearoa, (-43.3870047, 170.1847372))  (-43.3870047, 170.1847372, 0.0) -43.387005  170.184737       0.0\n",
              "58 On Cron Motel                0.867409            4.422222        270    58 Cron Street  Franz Josef  South Island      7886.0    58 Cron Street, Franz Josef, South Island  (58 on Cron, 58, Cron Street, Franz Josef / Waiau, Westland District, West Coast, 7952, New Zealand / Aotearoa, (-43.3848607, 170.1844537))  (-43.3848607, 170.1844537, 0.0) -43.384861  170.184454       0.0\n",
              "Alpine Escape                   0.819480            4.000000          5  6 Ferguson Place  Franz Josef  South Island      7856.0  6 Ferguson Place, Franz Josef, South Island                                                                                                                                         None                             None        NaN         NaN       NaN\n",
              "Alpine Glacier Motor Lodge      0.794877            4.232258        310    17 Cron Street  Franz Josef  South Island         NaN    17 Cron Street, Franz Josef, South Island              (17, Cron Street, Franz Josef / Waiau, Westland District, West Coast, 7952, New Zealand / Aotearoa, (-43.3885702, 170.1831467))  (-43.3885702, 170.1831467, 0.0) -43.388570  170.183147       0.0\n",
              "Aspen Court Franz Josef         0.885141            4.760000        775    76 Cron Street  Franz Josef  South Island      7856.0    76 Cron Street, Franz Josef, South Island              (76, Cron Street, Franz Josef / Waiau, Westland District, West Coast, 7952, New Zealand / Aotearoa, (-43.3839591, 170.1855716))  (-43.3839591, 170.1855716, 0.0) -43.383959  170.185572       0.0"
            ]
          },
          "metadata": {
            "tags": []
          },
          "execution_count": 121
        }
      ]
    },
    {
      "cell_type": "code",
      "metadata": {
        "id": "e5IaLfITL2Yn"
      },
      "source": [
        "null_latlong = {\n",
        "    'Alpine Escape':{'latitude':-43.3678078,'longitude':170.1927897}\n",
        "    , 'Franz Alpine Retreat':{'latitude':-43.3626438,'longitude':170.2019584}\n",
        "    , 'Franz Josef Montrose':{'latitude':-43.389494,'longitude':170.1810513}\n",
        "    , 'Franz Josef Oasis':{'latitude':-43.358167,'longitude':170.1993153}\n",
        "    , 'Glacier Cottages':{'latitude':-43.367337,'longitude':170.1835787}\n",
        "    , 'Glacier Highway Motel':{'latitude':-43.3633488,'longitude':170.2021754}\n",
        "    , 'Glacier View Motel':{'latitude':-43.3672829,'longitude':170.1835977}\n",
        "    , 'Glenfern Villas':{'latitude':-43.3665817,'longitude':170.1915368}\n",
        "    , 'Kahere Retreat':{'latitude':-43.3499071,'longitude':170.206419}\n",
        "    , 'Ribbonwood Retreat Bed and Breakfast':{'latitude':-43.352159,'longitude':170.1986423}\n",
        "    , 'Scenic Hotel Franz Josef Glacier':{'latitude':-43.3860881,'longitude':170.1801993}\n",
        "    , 'Westwood Lodge':{'latitude':-43.3738889,'longitude':170.1794552}\n",
        "}"
      ],
      "execution_count": 122,
      "outputs": []
    },
    {
      "cell_type": "code",
      "metadata": {
        "id": "1hFnK1_CLevE"
      },
      "source": [
        "geo_rating_df.loc[geo_rating_df.location.isna(),'latitude'] = geo_rating_df.loc[geo_rating_df.location.isna()].index.map({x:null_latlong[x]['latitude'] for x in null_latlong.keys()})\n",
        "geo_rating_df.loc[geo_rating_df.location.isna(),'longitude'] = geo_rating_df.loc[geo_rating_df.location.isna()].index.map({x:null_latlong[x]['longitude'] for x in null_latlong.keys()})"
      ],
      "execution_count": 123,
      "outputs": []
    },
    {
      "cell_type": "code",
      "metadata": {
        "id": "4r1-3PRrKmQp",
        "colab": {
          "base_uri": "https://localhost:8080/",
          "height": 915
        },
        "outputId": "e1cf6a58-dbf9-4285-e0d0-9a0a1bc8f970"
      },
      "source": [
        "map1 = folium.Map(\n",
        "    location=[-43.375166,170.1774427], # <- this will need to be set based on your own hotels\n",
        "    tiles='cartodbpositron',\n",
        "    zoom_start=15,\n",
        ")\n",
        "\n",
        "geo_rating_df.apply(lambda row:folium.CircleMarker(location=[row[\"latitude\"], row[\"longitude\"]],popup=str(row[\"AverageRatingScore\"]), color='#d7191c').add_to(map1), axis=1)\n",
        "\n",
        "map1"
      ],
      "execution_count": 124,
      "outputs": [
        {
          "output_type": "execute_result",
          "data": {
            "text/html": [
              "<div style=\"width:100%;\"><div style=\"position:relative;width:100%;height:0;padding-bottom:60%;\"><span style=\"color:#565656\">Make this Notebook Trusted to load map: File -> Trust Notebook</span><iframe src=\"about:blank\" style=\"position:absolute;width:100%;height:100%;left:0;top:0;border:none !important;\" data-html=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 onload=\"this.contentDocument.open();this.contentDocument.write(atob(this.getAttribute('data-html')));this.contentDocument.close();\" allowfullscreen webkitallowfullscreen mozallowfullscreen></iframe></div></div>"
            ],
            "text/plain": [
              "<folium.folium.Map at 0x7f4b7ebb6dd8>"
            ]
          },
          "metadata": {
            "tags": []
          },
          "execution_count": 124
        }
      ]
    },
    {
      "cell_type": "code",
      "metadata": {
        "colab": {
          "base_uri": "https://localhost:8080/",
          "height": 1000
        },
        "id": "lhzH4LNd4qdh",
        "outputId": "c48adcdf-2558-457c-cd94-6a48650dd16e"
      },
      "source": [
        "import plotly.express as px\n",
        "\n",
        "mapbox_access_token = 'pk.eyJ1IjoicHNwZWx0IiwiYSI6ImNqdW4xemNtYzB3ZDI0ZXM4Z2VkYWwwMTgifQ.UodsHknkt8fNv3Viszo1Zg'\n",
        "\n",
        "px.set_mapbox_access_token(mapbox_access_token)\n",
        "fig = px.scatter_mapbox(geo_rating_df,lat='latitude',lon='longitude',hover_data=['AverageRatingScore'],size='AverageRatingScore',color='AverageRatingScore',\\\n",
        "                        color_continuous_scale=px.colors.sequential.Blues,zoom=12,width=1000,height=1000)\n",
        "fig.show()"
      ],
      "execution_count": 125,
      "outputs": [
        {
          "output_type": "display_data",
          "data": {
            "text/html": [
              "<html>\n",
              "<head><meta charset=\"utf-8\" /></head>\n",
              "<body>\n",
              "    <div>\n",
              "            <script src=\"https://cdnjs.cloudflare.com/ajax/libs/mathjax/2.7.5/MathJax.js?config=TeX-AMS-MML_SVG\"></script><script type=\"text/javascript\">if (window.MathJax) {MathJax.Hub.Config({SVG: {font: \"STIX-Web\"}});}</script>\n",
              "                <script type=\"text/javascript\">window.PlotlyConfig = {MathJaxConfig: 'local'};</script>\n",
              "        <script src=\"https://cdn.plot.ly/plotly-latest.min.js\"></script>    \n",
              "            <div id=\"8e0e47e1-a195-433b-8ed1-d25b6710f809\" class=\"plotly-graph-div\" style=\"height:1000px; width:1000px;\"></div>\n",
              "            <script type=\"text/javascript\">\n",
              "                \n",
              "                    window.PLOTLYENV=window.PLOTLYENV || {};\n",
              "                    \n",
              "                if (document.getElementById(\"8e0e47e1-a195-433b-8ed1-d25b6710f809\")) {\n",
              "                    Plotly.newPlot(\n",
              "                        '8e0e47e1-a195-433b-8ed1-d25b6710f809',\n",
              "                        [{\"customdata\": [[4.264516129032258], [4.4222222222222225], [4.0], [4.232258064516129], [4.76], [4.092783505154639], [4.0], [3.2444444444444445], [2.0], [4.235294117647059], [4.037037037037037], [4.5625], [3.8694362017804154], [4.1], [4.666666666666667], [4.148148148148148], [4.5], [4.269005847953216], [4.798245614035087], [2.8], [3.6], [4.211111111111111], [4.155023923444976], [4.894117647058824], [4.027837259100642], [4.568627450980392], [4.37948717948718], [4.565891472868217]], \"hoverlabel\": {\"namelength\": 0}, \"hovertemplate\": \"AverageRatingScore=%{marker.color}<br>latitude=%{lat}<br>longitude=%{lon}\", \"lat\": [-43.3870047, -43.3848607, -43.3678078, -43.3885702, -43.3839591, -43.386694, -43.3871455, -43.3857805, -43.3857805, -43.3626438, -43.3894931, -43.392619, -43.3726481, -43.367337, -43.3633488, -43.392619, -43.392619, -43.3877678, -43.3726509, -43.392619, -43.3499071, -43.386313, -43.3858127, -43.352159, -43.3860881, -43.3851027, -43.3876114, -43.3738889], \"legendgroup\": \"\", \"lon\": [170.1847372, 170.1844537, 170.1927897, 170.1831467, 170.1855716, 170.1834489, 170.183549, 170.1832816, 170.1832816, 170.2019584, 170.1832463, 170.1818989, 170.17957368327325, 170.1835787, 170.2021754, 170.1818989, 170.1818989, 170.183183, 170.1815697, 170.1818989, 170.206419, 170.1834448, 170.1834403, 170.1986423, 170.1801993, 170.1826555, 170.1840397, 170.1794552], \"marker\": {\"color\": [4.264516129032258, 4.4222222222222225, 4.0, 4.232258064516129, 4.76, 4.092783505154639, 4.0, 3.2444444444444445, 2.0, 4.235294117647059, 4.037037037037037, 4.5625, 3.8694362017804154, 4.1, 4.666666666666667, 4.148148148148148, 4.5, 4.269005847953216, 4.798245614035087, 2.8, 3.6, 4.211111111111111, 4.155023923444976, 4.894117647058824, 4.027837259100642, 4.568627450980392, 4.37948717948718, 4.565891472868217], \"coloraxis\": \"coloraxis\", \"size\": [4.264516129032258, 4.4222222222222225, 4.0, 4.232258064516129, 4.76, 4.092783505154639, 4.0, 3.2444444444444445, 2.0, 4.235294117647059, 4.037037037037037, 4.5625, 3.8694362017804154, 4.1, 4.666666666666667, 4.148148148148148, 4.5, 4.269005847953216, 4.798245614035087, 2.8, 3.6, 4.211111111111111, 4.155023923444976, 4.894117647058824, 4.027837259100642, 4.568627450980392, 4.37948717948718, 4.565891472868217], \"sizemode\": \"area\", \"sizeref\": 0.01223529411764706}, \"mode\": \"markers\", \"name\": \"\", \"showlegend\": false, \"subplot\": \"mapbox\", \"type\": \"scattermapbox\"}],\n",
              "                        {\"coloraxis\": {\"colorbar\": {\"title\": {\"text\": \"AverageRatingScore\"}}, \"colorscale\": [[0.0, \"rgb(247,251,255)\"], [0.125, \"rgb(222,235,247)\"], [0.25, \"rgb(198,219,239)\"], [0.375, \"rgb(158,202,225)\"], [0.5, \"rgb(107,174,214)\"], [0.625, \"rgb(66,146,198)\"], [0.75, \"rgb(33,113,181)\"], [0.875, \"rgb(8,81,156)\"], [1.0, \"rgb(8,48,107)\"]]}, \"height\": 1000, \"legend\": {\"itemsizing\": \"constant\", \"tracegroupgap\": 0}, \"mapbox\": {\"accesstoken\": \"pk.eyJ1IjoicHNwZWx0IiwiYSI6ImNqdW4xemNtYzB3ZDI0ZXM4Z2VkYWwwMTgifQ.UodsHknkt8fNv3Viszo1Zg\", \"center\": {\"lat\": -43.38038755000001, \"lon\": 170.18590846011688}, \"domain\": {\"x\": [0.0, 1.0], \"y\": [0.0, 1.0]}, \"zoom\": 12}, \"margin\": {\"t\": 60}, \"template\": {\"data\": {\"bar\": [{\"error_x\": {\"color\": \"#2a3f5f\"}, \"error_y\": {\"color\": \"#2a3f5f\"}, \"marker\": {\"line\": {\"color\": \"#E5ECF6\", \"width\": 0.5}}, \"type\": \"bar\"}], \"barpolar\": [{\"marker\": {\"line\": {\"color\": \"#E5ECF6\", \"width\": 0.5}}, \"type\": \"barpolar\"}], \"carpet\": [{\"aaxis\": {\"endlinecolor\": \"#2a3f5f\", \"gridcolor\": \"white\", \"linecolor\": \"white\", \"minorgridcolor\": \"white\", \"startlinecolor\": \"#2a3f5f\"}, \"baxis\": {\"endlinecolor\": \"#2a3f5f\", \"gridcolor\": \"white\", \"linecolor\": \"white\", \"minorgridcolor\": \"white\", \"startlinecolor\": \"#2a3f5f\"}, \"type\": \"carpet\"}], \"choropleth\": [{\"colorbar\": {\"outlinewidth\": 0, \"ticks\": \"\"}, \"type\": \"choropleth\"}], \"contour\": [{\"colorbar\": {\"outlinewidth\": 0, \"ticks\": \"\"}, \"colorscale\": [[0.0, \"#0d0887\"], [0.1111111111111111, \"#46039f\"], [0.2222222222222222, \"#7201a8\"], [0.3333333333333333, \"#9c179e\"], [0.4444444444444444, \"#bd3786\"], [0.5555555555555556, \"#d8576b\"], [0.6666666666666666, \"#ed7953\"], [0.7777777777777778, \"#fb9f3a\"], [0.8888888888888888, \"#fdca26\"], [1.0, \"#f0f921\"]], \"type\": \"contour\"}], \"contourcarpet\": [{\"colorbar\": {\"outlinewidth\": 0, \"ticks\": \"\"}, \"type\": \"contourcarpet\"}], \"heatmap\": [{\"colorbar\": {\"outlinewidth\": 0, \"ticks\": \"\"}, \"colorscale\": [[0.0, \"#0d0887\"], [0.1111111111111111, \"#46039f\"], [0.2222222222222222, \"#7201a8\"], [0.3333333333333333, \"#9c179e\"], [0.4444444444444444, \"#bd3786\"], [0.5555555555555556, \"#d8576b\"], [0.6666666666666666, \"#ed7953\"], [0.7777777777777778, \"#fb9f3a\"], [0.8888888888888888, \"#fdca26\"], [1.0, \"#f0f921\"]], \"type\": \"heatmap\"}], \"heatmapgl\": [{\"colorbar\": {\"outlinewidth\": 0, \"ticks\": \"\"}, \"colorscale\": [[0.0, \"#0d0887\"], [0.1111111111111111, \"#46039f\"], [0.2222222222222222, \"#7201a8\"], [0.3333333333333333, \"#9c179e\"], [0.4444444444444444, \"#bd3786\"], [0.5555555555555556, \"#d8576b\"], [0.6666666666666666, \"#ed7953\"], [0.7777777777777778, \"#fb9f3a\"], [0.8888888888888888, \"#fdca26\"], [1.0, \"#f0f921\"]], \"type\": \"heatmapgl\"}], \"histogram\": [{\"marker\": {\"colorbar\": {\"outlinewidth\": 0, \"ticks\": \"\"}}, \"type\": \"histogram\"}], \"histogram2d\": [{\"colorbar\": {\"outlinewidth\": 0, \"ticks\": \"\"}, \"colorscale\": [[0.0, \"#0d0887\"], [0.1111111111111111, \"#46039f\"], [0.2222222222222222, \"#7201a8\"], [0.3333333333333333, \"#9c179e\"], [0.4444444444444444, \"#bd3786\"], [0.5555555555555556, \"#d8576b\"], [0.6666666666666666, \"#ed7953\"], [0.7777777777777778, \"#fb9f3a\"], [0.8888888888888888, \"#fdca26\"], [1.0, \"#f0f921\"]], \"type\": \"histogram2d\"}], \"histogram2dcontour\": [{\"colorbar\": {\"outlinewidth\": 0, \"ticks\": \"\"}, \"colorscale\": [[0.0, \"#0d0887\"], [0.1111111111111111, \"#46039f\"], [0.2222222222222222, \"#7201a8\"], [0.3333333333333333, \"#9c179e\"], [0.4444444444444444, \"#bd3786\"], [0.5555555555555556, \"#d8576b\"], [0.6666666666666666, \"#ed7953\"], [0.7777777777777778, \"#fb9f3a\"], [0.8888888888888888, \"#fdca26\"], [1.0, \"#f0f921\"]], \"type\": \"histogram2dcontour\"}], \"mesh3d\": [{\"colorbar\": {\"outlinewidth\": 0, \"ticks\": \"\"}, \"type\": \"mesh3d\"}], \"parcoords\": [{\"line\": {\"colorbar\": {\"outlinewidth\": 0, \"ticks\": \"\"}}, \"type\": \"parcoords\"}], \"pie\": [{\"automargin\": true, \"type\": \"pie\"}], \"scatter\": [{\"marker\": {\"colorbar\": {\"outlinewidth\": 0, \"ticks\": \"\"}}, \"type\": \"scatter\"}], \"scatter3d\": [{\"line\": {\"colorbar\": {\"outlinewidth\": 0, \"ticks\": \"\"}}, \"marker\": {\"colorbar\": {\"outlinewidth\": 0, \"ticks\": \"\"}}, \"type\": \"scatter3d\"}], \"scattercarpet\": [{\"marker\": {\"colorbar\": {\"outlinewidth\": 0, \"ticks\": \"\"}}, \"type\": \"scattercarpet\"}], \"scattergeo\": [{\"marker\": {\"colorbar\": {\"outlinewidth\": 0, \"ticks\": \"\"}}, \"type\": \"scattergeo\"}], \"scattergl\": [{\"marker\": {\"colorbar\": {\"outlinewidth\": 0, \"ticks\": \"\"}}, \"type\": \"scattergl\"}], \"scattermapbox\": [{\"marker\": {\"colorbar\": {\"outlinewidth\": 0, \"ticks\": \"\"}}, \"type\": \"scattermapbox\"}], \"scatterpolar\": [{\"marker\": {\"colorbar\": {\"outlinewidth\": 0, \"ticks\": \"\"}}, \"type\": \"scatterpolar\"}], \"scatterpolargl\": [{\"marker\": {\"colorbar\": {\"outlinewidth\": 0, \"ticks\": \"\"}}, \"type\": \"scatterpolargl\"}], \"scatterternary\": [{\"marker\": {\"colorbar\": {\"outlinewidth\": 0, \"ticks\": \"\"}}, \"type\": \"scatterternary\"}], \"surface\": [{\"colorbar\": {\"outlinewidth\": 0, \"ticks\": \"\"}, \"colorscale\": [[0.0, \"#0d0887\"], [0.1111111111111111, \"#46039f\"], [0.2222222222222222, \"#7201a8\"], [0.3333333333333333, \"#9c179e\"], [0.4444444444444444, \"#bd3786\"], [0.5555555555555556, \"#d8576b\"], [0.6666666666666666, \"#ed7953\"], [0.7777777777777778, \"#fb9f3a\"], [0.8888888888888888, \"#fdca26\"], [1.0, \"#f0f921\"]], \"type\": \"surface\"}], \"table\": [{\"cells\": {\"fill\": {\"color\": \"#EBF0F8\"}, \"line\": {\"color\": \"white\"}}, \"header\": {\"fill\": {\"color\": \"#C8D4E3\"}, \"line\": {\"color\": \"white\"}}, \"type\": \"table\"}]}, \"layout\": {\"annotationdefaults\": {\"arrowcolor\": \"#2a3f5f\", \"arrowhead\": 0, \"arrowwidth\": 1}, \"coloraxis\": {\"colorbar\": {\"outlinewidth\": 0, \"ticks\": \"\"}}, \"colorscale\": {\"diverging\": [[0, \"#8e0152\"], [0.1, \"#c51b7d\"], [0.2, \"#de77ae\"], [0.3, \"#f1b6da\"], [0.4, \"#fde0ef\"], [0.5, \"#f7f7f7\"], [0.6, \"#e6f5d0\"], [0.7, \"#b8e186\"], [0.8, \"#7fbc41\"], [0.9, \"#4d9221\"], [1, \"#276419\"]], \"sequential\": [[0.0, \"#0d0887\"], [0.1111111111111111, \"#46039f\"], [0.2222222222222222, \"#7201a8\"], [0.3333333333333333, \"#9c179e\"], [0.4444444444444444, \"#bd3786\"], [0.5555555555555556, \"#d8576b\"], [0.6666666666666666, \"#ed7953\"], [0.7777777777777778, \"#fb9f3a\"], [0.8888888888888888, \"#fdca26\"], [1.0, \"#f0f921\"]], \"sequentialminus\": [[0.0, \"#0d0887\"], [0.1111111111111111, \"#46039f\"], [0.2222222222222222, \"#7201a8\"], [0.3333333333333333, \"#9c179e\"], [0.4444444444444444, \"#bd3786\"], [0.5555555555555556, \"#d8576b\"], [0.6666666666666666, \"#ed7953\"], [0.7777777777777778, \"#fb9f3a\"], [0.8888888888888888, \"#fdca26\"], [1.0, \"#f0f921\"]]}, \"colorway\": [\"#636efa\", \"#EF553B\", \"#00cc96\", \"#ab63fa\", \"#FFA15A\", \"#19d3f3\", \"#FF6692\", \"#B6E880\", \"#FF97FF\", \"#FECB52\"], \"font\": {\"color\": \"#2a3f5f\"}, \"geo\": {\"bgcolor\": \"white\", \"lakecolor\": \"white\", \"landcolor\": \"#E5ECF6\", \"showlakes\": true, \"showland\": true, \"subunitcolor\": \"white\"}, \"hoverlabel\": {\"align\": \"left\"}, \"hovermode\": \"closest\", \"mapbox\": {\"style\": \"light\"}, \"paper_bgcolor\": \"white\", \"plot_bgcolor\": \"#E5ECF6\", \"polar\": {\"angularaxis\": {\"gridcolor\": \"white\", \"linecolor\": \"white\", \"ticks\": \"\"}, \"bgcolor\": \"#E5ECF6\", \"radialaxis\": {\"gridcolor\": \"white\", \"linecolor\": \"white\", \"ticks\": \"\"}}, \"scene\": {\"xaxis\": {\"backgroundcolor\": \"#E5ECF6\", \"gridcolor\": \"white\", \"gridwidth\": 2, \"linecolor\": \"white\", \"showbackground\": true, \"ticks\": \"\", \"zerolinecolor\": \"white\"}, \"yaxis\": {\"backgroundcolor\": \"#E5ECF6\", \"gridcolor\": \"white\", \"gridwidth\": 2, \"linecolor\": \"white\", \"showbackground\": true, \"ticks\": \"\", \"zerolinecolor\": \"white\"}, \"zaxis\": {\"backgroundcolor\": \"#E5ECF6\", \"gridcolor\": \"white\", \"gridwidth\": 2, \"linecolor\": \"white\", \"showbackground\": true, \"ticks\": \"\", \"zerolinecolor\": \"white\"}}, \"shapedefaults\": {\"line\": {\"color\": \"#2a3f5f\"}}, \"ternary\": {\"aaxis\": {\"gridcolor\": \"white\", \"linecolor\": \"white\", \"ticks\": \"\"}, \"baxis\": {\"gridcolor\": \"white\", \"linecolor\": \"white\", \"ticks\": \"\"}, \"bgcolor\": \"#E5ECF6\", \"caxis\": {\"gridcolor\": \"white\", \"linecolor\": \"white\", \"ticks\": \"\"}}, \"title\": {\"x\": 0.05}, \"xaxis\": {\"automargin\": true, \"gridcolor\": \"white\", \"linecolor\": \"white\", \"ticks\": \"\", \"title\": {\"standoff\": 15}, \"zerolinecolor\": \"white\", \"zerolinewidth\": 2}, \"yaxis\": {\"automargin\": true, \"gridcolor\": \"white\", \"linecolor\": \"white\", \"ticks\": \"\", \"title\": {\"standoff\": 15}, \"zerolinecolor\": \"white\", \"zerolinewidth\": 2}}}, \"width\": 1000},\n",
              "                        {\"responsive\": true}\n",
              "                    ).then(function(){\n",
              "                            \n",
              "var gd = document.getElementById('8e0e47e1-a195-433b-8ed1-d25b6710f809');\n",
              "var x = new MutationObserver(function (mutations, observer) {{\n",
              "        var display = window.getComputedStyle(gd).display;\n",
              "        if (!display || display === 'none') {{\n",
              "            console.log([gd, 'removed!']);\n",
              "            Plotly.purge(gd);\n",
              "            observer.disconnect();\n",
              "        }}\n",
              "}});\n",
              "\n",
              "// Listen for the removal of the full notebook cells\n",
              "var notebookContainer = gd.closest('#notebook-container');\n",
              "if (notebookContainer) {{\n",
              "    x.observe(notebookContainer, {childList: true});\n",
              "}}\n",
              "\n",
              "// Listen for the clearing of the current output cell\n",
              "var outputEl = gd.closest('.output');\n",
              "if (outputEl) {{\n",
              "    x.observe(outputEl, {childList: true});\n",
              "}}\n",
              "\n",
              "                        })\n",
              "                };\n",
              "                \n",
              "            </script>\n",
              "        </div>\n",
              "</body>\n",
              "</html>"
            ]
          },
          "metadata": {
            "tags": []
          }
        }
      ]
    },
    {
      "cell_type": "code",
      "metadata": {
        "id": "2VfywkgjVllq"
      },
      "source": [
        "# Using a sample of 6 hotels (2 highly rated, 2 lowly rated, and 2 mediocre) \n",
        "six_hotels = \\\n",
        "avg_rating_df[(avg_rating_df['n_reviews'] > 20)&(avg_rating_df['AverageRatingScore']>=4.5)].sample(n=2,random_state=99)\\\n",
        ".append(avg_rating_df[(avg_rating_df['n_reviews'] > 20)&(avg_rating_df['AverageRatingScore']>=4)&(avg_rating_df['AverageRatingScore']<4.5)].sample(n=2,random_state=99))\\\n",
        ".append(avg_rating_df[(avg_rating_df['n_reviews'] > 20)&(avg_rating_df['AverageRatingScore']<4)].sample(n=2,random_state=99))"
      ],
      "execution_count": 138,
      "outputs": []
    },
    {
      "cell_type": "code",
      "metadata": {
        "id": "ouRFSKJRW-b9"
      },
      "source": [
        "# Plot the rolling average score as a function of time. "
      ],
      "execution_count": 139,
      "outputs": []
    },
    {
      "cell_type": "code",
      "metadata": {
        "id": "hc-UaCa1XOgO"
      },
      "source": [
        "q5e = hotelDF.copy()\n",
        "q5e.loc[q5e.date_stamp=='today','date_stamp'] = 'November 16, 2020'\n",
        "q5e.loc[q5e.date_stamp=='2 days ago','date_stamp'] = 'November 14, 2020'\n",
        "q5e.loc[q5e.date_stamp=='3 days ago','date_stamp'] = 'November 13, 2020'\n",
        "q5e.loc[q5e.date_stamp=='4 days ago','date_stamp'] = 'November 12, 2020'\n",
        "q5e.loc[q5e.date_stamp=='6 days ago','date_stamp'] = 'November 10, 2020'\n",
        "q5e.loc[q5e.date_stamp=='1 week ago','date_stamp'] = 'November 9, 2020'\n",
        "q5e.loc[q5e.date_stamp=='2 weeks ago','date_stamp'] = 'November 2, 2020'\n",
        "q5e.loc[q5e.date_stamp=='3 weeks ago','date_stamp'] = 'October 26, 2020'\n",
        "q5e.loc[q5e.date_stamp=='4 weeks ago','date_stamp'] = 'October 19, 2020'\n",
        "q5e.loc[q5e.date_stamp=='5 weeks ago','date_stamp'] = 'October 12, 2020'"
      ],
      "execution_count": 140,
      "outputs": []
    },
    {
      "cell_type": "code",
      "metadata": {
        "id": "1ZpA8DD2XEPd"
      },
      "source": [
        "q5e['date'] = pd.to_datetime(q5e.date_stamp)"
      ],
      "execution_count": 141,
      "outputs": []
    },
    {
      "cell_type": "code",
      "metadata": {
        "id": "LgWf5lJcbYgX",
        "colab": {
          "base_uri": "https://localhost:8080/",
          "height": 1000
        },
        "outputId": "290ea719-06e3-42cf-9d6f-4a1888aa85b5"
      },
      "source": [
        "plt.figure(figsize=(15,5))\n",
        "for h in six_hotels.index[:2]:\n",
        "    df_ = q5e.loc[q5e.hotelName==h].sort_values(by='date').copy()\n",
        "    df_['rolling'] = df_.ratingScore.rolling(10).mean()\n",
        "    plt.plot(df_['date'],df_['rolling'])\n",
        "plt.ylabel('ratingScore')\n",
        "plt.xlabel('date')\n",
        "plt.ylim(0,5)\n",
        "plt.legend(six_hotels.index[:2])\n",
        "plt.title(\"Top 2\")\n",
        "plt.show()\n",
        "\n",
        "plt.figure(figsize=(15,5))\n",
        "for h in six_hotels.index[2:4]:\n",
        "    df_ = q5e.loc[q5e.hotelName==h].sort_values(by='date').copy()\n",
        "    df_['rolling'] = df_.ratingScore.rolling(10).mean()\n",
        "    plt.plot(df_['date'],df_['rolling'])\n",
        "plt.ylabel('ratingScore')\n",
        "plt.xlabel('date')\n",
        "plt.ylim(0,5)\n",
        "plt.legend(six_hotels.index[2:4])\n",
        "plt.title(\"Middle 2\")\n",
        "plt.show()\n",
        "\n",
        "plt.figure(figsize=(15,5))\n",
        "for h in six_hotels.index[4:]:\n",
        "    df_ = q5e.loc[q5e.hotelName==h].sort_values(by='date').copy()\n",
        "    df_['rolling'] = df_.ratingScore.rolling(10).mean()\n",
        "    plt.plot(df_['date'],df_['rolling'])\n",
        "plt.ylabel('ratingScore')\n",
        "plt.xlabel('date')\n",
        "plt.ylim(0,5)\n",
        "plt.legend(six_hotels.index[4:])\n",
        "plt.title(\"Bottom 2\")\n",
        "plt.show()"
      ],
      "execution_count": 142,
      "outputs": [
        {
          "output_type": "display_data",
          "data": {
            "image/png": "[encoded data removed]",
            "text/plain": [
              "<Figure size 1080x360 with 1 Axes>"
            ]
          },
          "metadata": {
            "tags": [],
            "needs_background": "light"
          }
        },
        {
          "output_type": "display_data",
          "data": {
            "image/png": "[encoded data removed]",
            "text/plain": [
              "<Figure size 1080x360 with 1 Axes>"
            ]
          },
          "metadata": {
            "tags": [],
            "needs_background": "light"
          }
        },
        {
          "output_type": "display_data",
          "data": {
            "image/png": "[encoded data removed]",
            "text/plain": [
              "<Figure size 1080x360 with 1 Axes>"
            ]
          },
          "metadata": {
            "tags": [],
            "needs_background": "light"
          }
        }
      ]
    },
    {
      "cell_type": "code",
      "metadata": {
        "id": "1DjCYzFt59FU",
        "colab": {
          "base_uri": "https://localhost:8080/"
        },
        "outputId": "7a8b5dda-b7ea-4995-acd3-3f105a60b3ff"
      },
      "source": [
        "print(\"\"\"\n",
        "- The top 2 hotels were fairly consistent with ratings between 4 and 5\n",
        "- The middle 2 were less consistent with ratings down to 3 and up to 4.5 \n",
        "- The bottom 2 were even less consistent with ratings fluctuating between 2.5 and 4.5\n",
        "\"\"\")"
      ],
      "execution_count": 143,
      "outputs": [
        {
          "output_type": "stream",
          "text": [
            "\n",
            "- The top 2 hotels were fairly consistent with ratings between 4 and 5\n",
            "- The middle 2 were less consistent with ratings down to 3 and up to 4.5 \n",
            "- The bottom 2 were even less consistent with ratings fluctuating between 2.5 and 4.5\n",
            "\n"
          ],
          "name": "stdout"
        }
      ]
    },
    {
      "cell_type": "code",
      "metadata": {
        "id": "HllIgEPaVjmD"
      },
      "source": [
        "def time_range(q5e,hotels=[],start_end=None,period='1M'):\n",
        "    \"\"\"\n",
        "    start_end: Tuple in the form ('2004-11-14','2019-12-12')\n",
        "    period: '7d' for 7 days for example, or '1M' for 1 month\n",
        "    \"\"\"\n",
        "    min_date = q5e.date.min()\n",
        "    max_date = q5e.date.max()\n",
        "    date_index = pd.DataFrame(pd.date_range(min_date,max_date),columns=['date'])\n",
        "    hotel_index = q5e[['hotelName']].drop_duplicates().reset_index(drop=True)\n",
        "    date_index.index = np.zeros(len(date_index))\n",
        "    hotel_index.index = np.zeros(len(hotel_index))\n",
        "    index = date_index.merge(hotel_index,how='left',left_index=True,right_index=True)\n",
        "    df = index.merge(q5e[['date','hotelName','ratingScore']],how='left',on=['date','hotelName'])\n",
        "    if start_end != None:\n",
        "        df = df.loc[(df.date>=start_end[0])&(df.date<=start_end[1])].copy()\n",
        "    plt.figure(figsize=(15,7.5))\n",
        "    if len(hotels) == 0:\n",
        "        hotel_list = list(q5e.hotelName.unique())\n",
        "    else:\n",
        "        hotel_list = hotels\n",
        "    for h in hotel_list:\n",
        "        df_ = df.loc[df.hotelName==h,['date','ratingScore']].groupby(pd.Grouper(key = 'date', freq=period)).count().reset_index()\n",
        "        plt.plot(df_['date'],df_['ratingScore'])\n",
        "    plt.title(\"Frequency of Reviews in \" + period + \" Time Periods\")\n",
        "    plt.ylabel('Number of Reviews')\n",
        "    plt.xlabel('Date')\n",
        "    plt.legend(hotel_list)\n",
        "    plt.show()"
      ],
      "execution_count": 144,
      "outputs": []
    },
    {
      "cell_type": "code",
      "metadata": {
        "colab": {
          "base_uri": "https://localhost:8080/",
          "height": 486
        },
        "id": "hX0Wdmz2z8_9",
        "outputId": "e4d188c8-0cd4-4c7e-946a-efd2a1e16e7a"
      },
      "source": [
        "# Can plot all hotels over entire time frame\n",
        "time_range(q5e,hotels=list(six_hotels.index))"
      ],
      "execution_count": 145,
      "outputs": [
        {
          "output_type": "display_data",
          "data": {
            "image/png": "[encoded data removed]",
            "text/plain": [
              "<Figure size 1080x540 with 1 Axes>"
            ]
          },
          "metadata": {
            "tags": [],
            "needs_background": "light"
          }
        }
      ]
    },
    {
      "cell_type": "code",
      "metadata": {
        "colab": {
          "base_uri": "https://localhost:8080/",
          "height": 486
        },
        "id": "Dm0-toC4v5Ji",
        "outputId": "f47bd852-5a45-45bb-fd3b-697ab20b245c"
      },
      "source": [
        "time_range(q5e,hotels=['Te Waonui Forest Retreat','Glenfern Villas'],start_end=('2016-01-01','2018-01-01'))"
      ],
      "execution_count": 146,
      "outputs": [
        {
          "output_type": "display_data",
          "data": {
            "image/png": "[encoded data removed]",
            "text/plain": [
              "<Figure size 1080x540 with 1 Axes>"
            ]
          },
          "metadata": {
            "tags": [],
            "needs_background": "light"
          }
        }
      ]
    },
    {
      "cell_type": "code",
      "metadata": {
        "id": "y5_ojom6CAag",
        "colab": {
          "base_uri": "https://localhost:8080/"
        },
        "outputId": "0fd4b59f-1e1f-4c20-a00a-27d381c24b81"
      },
      "source": [
        "print(\"\"\"\n",
        "- The hotels tend to peak at the same time, my hypothesis is that this is driven by ebbs and flows in the tourist season\n",
        "- In the example time period 2016 to 2018 we observe the peak season beginning around November and ending around April\n",
        "\n",
        "This suggests we have seasonal trends in the spring and late winter.  \n",
        "In the southern hemisphere this lines up with summer and late summer season which we can presume is the peak tourist time for New Zealand.\n",
        "\"\"\")"
      ],
      "execution_count": 147,
      "outputs": [
        {
          "output_type": "stream",
          "text": [
            "\n",
            "- The hotels tend to peak at the same time, my hypothesis is that this is driven by ebbs and flows in the tourist season\n",
            "- In the example time period 2016 to 2018 we observe the peak season beginning around November and ending around April\n",
            "\n",
            "This suggests we have seasonal trends in the spring and late winter.  \n",
            "In the southern hemisphere this lines up with summer and late summer season which we can presume is the peak tourist time for New Zealand.\n",
            "\n"
          ],
          "name": "stdout"
        }
      ]
    },
    {
      "cell_type": "code",
      "metadata": {
        "id": "3TK-VDeD2FBk"
      },
      "source": [
        ""
      ],
      "execution_count": 147,
      "outputs": []
    }
  ]
}